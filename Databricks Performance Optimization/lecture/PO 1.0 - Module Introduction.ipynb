{
 "cells": [
  {
   "cell_type": "markdown",
   "metadata": {
    "application/vnd.databricks.v1+cell": {
     "cellMetadata": {},
     "inputWidgets": {},
     "nuid": "db3d98ae-2f40-483f-a2a5-ceca5ce29820",
     "showTitle": false,
     "tableResultSettingsMap": {},
     "title": ""
    }
   },
   "source": [
    "\n",
    "<div style=\"text-align: center; line-height: 0; padding-top: 9px;\">\n",
    "  <img src=\"https://databricks.com/wp-content/uploads/2018/03/db-academy-rgb-1200px.png\" alt=\"Databricks Learning\">\n",
    "</div>\n"
   ]
  },
  {
   "cell_type": "markdown",
   "metadata": {
    "application/vnd.databricks.v1+cell": {
     "cellMetadata": {},
     "inputWidgets": {},
     "nuid": "f0c19b7b-ee27-481f-8f98-2abad87a4632",
     "showTitle": false,
     "tableResultSettingsMap": {},
     "title": ""
    }
   },
   "source": [
    "\n",
    "## Databricks Performance Optimization\n",
    "In this course, you’ll learn how to optimize workloads and physical layout with Spark and Delta Lake and and analyze the Spark UI to\n",
    "assess performance and debug applications. We’ll cover topics like streaming, liquid clustering, data skipping, caching, photons, and\n",
    "more.\n",
    "---\n",
    "#### Prerequisites\n",
    "You should meet the following prerequisites before starting this course:\n",
    "\n",
    "- Ability to perform basic code development tasks using Databricks (`create clusters`, `run code in notebooks`, `use basic notebook operations`, `import repos from git`, etc.)\n",
    "- Intermediate programming experience with PySpark, such as extract data from a variety of file format data sources, apply a number\n",
    "of common transformations to clean data, and reshape and manipulate complex data using advanced built-in functions\n",
    "- Intermediate programming experience with Delta Lake (`create tables`, `perform complete and incremental updates`, `compact files`,\n",
    "`restore previous versions`, etc.)\n",
    "---\n",
    "#### Course Agenda\n",
    "The following modules are part of the **Data Engineer Learning Path** by Databricks Academy.\n",
    "\n",
    "| # | Module Name |\n",
    "| --- | --- |\n",
    "| 1 | [PO 1.1 - Demo - File Explosion]($./PO 1.1 - File Explosion) |\n",
    "| 2 | [PO 1.2L - Lab - Data Skipping and Liquid Clustering]($./PO 1.2L - Data Skipping and Liquid Clustering) |\n",
    "| 3 | [PO 1.3 - Demo - Shuffle]($./PO 1.3 - Shuffle) |\n",
    "| 4 | [PO 1.4L - Lab - Exploding Join]($./PO 1.4L - Exploding Join) |\n",
    "| 5 | [PO 1.5 - Demo - User-Defined Functions]($./PO 1.5 - User-Defined Functions) |\n",
    "\n",
    "---\n",
    "### Requirements\n",
    "\n",
    "Please review the following requirements before starting the lesson:\n",
    "\n",
    "- Use Databricks Runtime version: **`15.4.x-scala2.12`** for running all demo and lab notebooks.\n"
   ]
  },
  {
   "cell_type": "markdown",
   "metadata": {
    "application/vnd.databricks.v1+cell": {
     "cellMetadata": {},
     "inputWidgets": {},
     "nuid": "e1fe3bcd-b73e-49c9-a96b-4dcdbae166e9",
     "showTitle": false,
     "tableResultSettingsMap": {},
     "title": ""
    }
   },
   "source": [
    "\n",
    "&copy; 2025 Databricks, Inc. All rights reserved.<br/>\n",
    "Apache, Apache Spark, Spark and the Spark logo are trademarks of the \n",
    "<a href=\"https://www.apache.org/\">Apache Software Foundation</a>.<br/>\n",
    "<br/><a href=\"https://databricks.com/privacy-policy\">Privacy Policy</a> | \n",
    "<a href=\"https://databricks.com/terms-of-use\">Terms of Use</a> | \n",
    "<a href=\"https://help.databricks.com/\">Support</a>"
   ]
  }
 ],
 "metadata": {
  "application/vnd.databricks.v1+notebook": {
   "computePreferences": null,
   "dashboards": [],
   "environmentMetadata": null,
   "inputWidgetPreferences": null,
   "language": "python",
   "notebookMetadata": {},
   "notebookName": "PO 1.0 - Module Introduction",
   "widgets": {}
  },
  "language_info": {
   "name": "python"
  }
 },
 "nbformat": 4,
 "nbformat_minor": 0
}