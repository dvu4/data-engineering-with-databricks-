{
 "cells": [
  {
   "cell_type": "markdown",
   "metadata": {
    "application/vnd.databricks.v1+cell": {
     "cellMetadata": {
      "byteLimit": 2048000,
      "rowLimit": 10000
     },
     "inputWidgets": {},
     "nuid": "7f1d0579-cf2d-429d-ad9a-f82708063fe1",
     "showTitle": false,
     "tableResultSettingsMap": {},
     "title": ""
    }
   },
   "source": [
    "\n",
    "<div style=\"text-align: center; line-height: 0; padding-top: 9px;\">\n",
    "  <img src=\"https://databricks.com/wp-content/uploads/2018/03/db-academy-rgb-1200px.png\" alt=\"Databricks Learning\">\n",
    "</div>\n"
   ]
  },
  {
   "cell_type": "markdown",
   "metadata": {
    "application/vnd.databricks.v1+cell": {
     "cellMetadata": {
      "byteLimit": 2048000,
      "rowLimit": 10000
     },
     "inputWidgets": {},
     "nuid": "bf3fb531-9648-4cf9-9ec7-57927d4b2293",
     "showTitle": false,
     "tableResultSettingsMap": {},
     "title": ""
    }
   },
   "source": [
    "\n",
    "# User-Defined Functions\n",
    "\n",
    "Databricks recommends using native functions whenever possible. While UDFs are a great way to extend the functionality of Spark SQL, their use requires transferring data between Python and Spark, which in turn requires serialization. This drastically slows down queries.\n",
    "\n",
    "But sometimes UDFs are necessary. They can be an especially powerful tool for ML or NLP use cases, which may not have a native Spark equivalent.\n",
    "\n",
    "Run the next cell to set up the lesson."
   ]
  },
  {
   "cell_type": "markdown",
   "metadata": {
    "application/vnd.databricks.v1+cell": {
     "cellMetadata": {
      "byteLimit": 2048000,
      "rowLimit": 10000
     },
     "inputWidgets": {},
     "nuid": "0814d884-e6d1-4df7-95a6-59adf64e745b",
     "showTitle": false,
     "tableResultSettingsMap": {},
     "title": ""
    }
   },
   "source": [
    "## REQUIRED - SELECT CLASSIC COMPUTE\n",
    "\n",
    "Before executing cells in this notebook, please select your classic compute cluster in the lab. Be aware that **Serverless** is enabled by default. If you use Serverless, errors will be returned when setting compute runtime properties.\n",
    "\n",
    "Follow these steps to select the classic compute cluster:\n",
    "\n",
    "1. Navigate to the top-right of this notebook and click the drop-down menu to select your cluster. By default, the notebook will use **Serverless**.\n",
    "\n",
    "1. If your cluster is available, select it and continue to the next cell. If the cluster is not shown:\n",
    "\n",
    "  - In the drop-down, select **More**.\n",
    "\n",
    "  - In the **Attach to an existing compute resource** pop-up, select the first drop-down. You will see a unique cluster name in that drop-down. Please select that cluster.\n",
    "\n",
    "**NOTE:** If your cluster has terminated, you might need to restart it in order to select it. To do this:\n",
    "\n",
    "1. Right-click on **Compute** in the left navigation pane and select *Open in new tab*.\n",
    "\n",
    "1. Find the triangle icon to the right of your compute cluster name and click it.\n",
    "\n",
    "1. Wait a few minutes for the cluster to start.\n",
    "\n",
    "1. Once the cluster is running, complete the steps above to select your cluster."
   ]
  },
  {
   "cell_type": "markdown",
   "metadata": {
    "application/vnd.databricks.v1+cell": {
     "cellMetadata": {
      "byteLimit": 2048000,
      "rowLimit": 10000
     },
     "inputWidgets": {},
     "nuid": "3a5380c2-fa01-4cb8-a0d5-3c488c622319",
     "showTitle": false,
     "tableResultSettingsMap": {},
     "title": ""
    }
   },
   "source": [
    "## A. Classroom Setup\n",
    "\n",
    "Run the following cell to configure your working environment for this course. It will also set your default catalog to your unique **labuser** catalog, and the default schema to **default**. All tables will be read from and written to this location.\n",
    "<br></br>\n",
    "\n",
    "**NOTE:** The `DA` object is only used in Databricks Academy courses and is not available outside of these courses. It will dynamically reference the information needed to run the course."
   ]
  },
  {
   "cell_type": "code",
   "execution_count": 0,
   "metadata": {
    "application/vnd.databricks.v1+cell": {
     "cellMetadata": {
      "byteLimit": 2048000,
      "rowLimit": 10000
     },
     "inputWidgets": {},
     "nuid": "35e60ea6-1176-460f-8e9f-ce9ea064eb2d",
     "showTitle": false,
     "tableResultSettingsMap": {},
     "title": ""
    }
   },
   "outputs": [
    {
     "output_type": "stream",
     "name": "stdout",
     "output_type": "stream",
     "text": [
      "\u001B[43mNote: you may need to restart the kernel using %restart_python or dbutils.library.restartPython() to use updated packages.\u001B[0m\n"
     ]
    },
    {
     "output_type": "stream",
     "name": "stdout",
     "output_type": "stream",
     "text": [
      "Set the spark.sql.autoBroadcastJoinThreshold and spark.databricks.adaptive.autoBroadcastJoinThreshold configs to the defaults.\n"
     ]
    },
    {
     "output_type": "display_data",
     "data": {
      "text/html": [
       "<table style=\"width:100%\">\n",
       "            <tr>\n",
       "                <td style=\"white-space:nowrap; width:1em\">Course Catalog:</td>\n",
       "                <td><input type=\"text\" value=\"labuser10305556_1747289640\" style=\"width: 100%\"></td></tr>\n",
       "            <tr>\n",
       "                <td style=\"white-space:nowrap; width:1em\">Your Schema:</td>\n",
       "                <td><input type=\"text\" value=\"default\" style=\"width: 100%\"></td></tr></table>"
      ]
     },
     "metadata": {},
     "output_type": "display_data"
    }
   ],
   "source": [
    "%run ./Includes/Classroom-Setup-5"
   ]
  },
  {
   "cell_type": "markdown",
   "metadata": {
    "application/vnd.databricks.v1+cell": {
     "cellMetadata": {
      "byteLimit": 2048000,
      "rowLimit": 10000
     },
     "inputWidgets": {},
     "nuid": "eb2e1082-a880-4b30-b20f-d509e86bdc11",
     "showTitle": false,
     "tableResultSettingsMap": {},
     "title": ""
    }
   },
   "source": [
    "Let's Check the Current Catalog and Schema"
   ]
  },
  {
   "cell_type": "code",
   "execution_count": 0,
   "metadata": {
    "application/vnd.databricks.v1+cell": {
     "cellMetadata": {
      "byteLimit": 2048000,
      "implicitDf": true,
      "rowLimit": 10000
     },
     "inputWidgets": {},
     "nuid": "75025a10-17a5-4376-bf96-4171a1b17a3f",
     "showTitle": false,
     "tableResultSettingsMap": {},
     "title": ""
    }
   },
   "outputs": [
    {
     "output_type": "display_data",
     "data": {
      "text/html": [
       "<style scoped>\n",
       "  .table-result-container {\n",
       "    max-height: 300px;\n",
       "    overflow: auto;\n",
       "  }\n",
       "  table, th, td {\n",
       "    border: 1px solid black;\n",
       "    border-collapse: collapse;\n",
       "  }\n",
       "  th, td {\n",
       "    padding: 5px;\n",
       "  }\n",
       "  th {\n",
       "    text-align: left;\n",
       "  }\n",
       "</style><div class='table-result-container'><table class='table-result'><thead style='background-color: white'><tr><th>current_catalog()</th><th>current_schema()</th></tr></thead><tbody><tr><td>labuser10305556_1747289640</td><td>default</td></tr></tbody></table></div>"
      ]
     },
     "metadata": {
      "application/vnd.databricks.v1+output": {
       "addedWidgets": {},
       "aggData": [],
       "aggError": "",
       "aggOverflow": false,
       "aggSchema": [],
       "aggSeriesLimitReached": false,
       "aggType": "",
       "arguments": {},
       "columnCustomDisplayInfos": {},
       "data": [
        [
         "labuser10305556_1747289640",
         "default"
        ]
       ],
       "datasetInfos": [],
       "dbfsResultPath": null,
       "isJsonSchema": true,
       "metadata": {
        "createTempViewForImplicitDf": true,
        "dataframeName": "_sqldf",
        "executionCount": 4
       },
       "overflow": false,
       "plotOptions": {
        "customPlotOptions": {},
        "displayType": "table",
        "pivotAggregation": null,
        "pivotColumns": null,
        "xColumns": null,
        "yColumns": null
       },
       "removedWidgets": [],
       "schema": [
        {
         "metadata": "{\"__autoGeneratedAlias\":\"true\"}",
         "name": "current_catalog()",
         "type": "\"string\""
        },
        {
         "metadata": "{\"__autoGeneratedAlias\":\"true\"}",
         "name": "current_schema()",
         "type": "\"string\""
        }
       ],
       "type": "table"
      }
     },
     "output_type": "display_data"
    }
   ],
   "source": [
    "%sql\n",
    "SELECT current_catalog(), current_schema()"
   ]
  },
  {
   "cell_type": "markdown",
   "metadata": {
    "application/vnd.databricks.v1+cell": {
     "cellMetadata": {
      "byteLimit": 2048000,
      "rowLimit": 10000
     },
     "inputWidgets": {},
     "nuid": "8117add7-d676-4384-b068-c348671fe356",
     "showTitle": false,
     "tableResultSettingsMap": {},
     "title": ""
    }
   },
   "source": [
    "## B. Disable Caching\n",
    "\n",
    "Run the following cell to set a Spark configuration variable that disables disk caching.\n",
    "\n",
    "Turning disk caching off prevents Databricks from storing cloud storage files after the first query. This makes the effect of the optimizations more apparent by ensuring that files are always pulled from cloud storage for each query.\n",
    "\n",
    "For more information, see [Optimize performance with caching on Databricks](https://docs.databricks.com/en/optimizations/disk-cache.html#optimize-performance-with-caching-on-databricks).\n",
    "\n",
    "**NOTE:** This will not work in Serverless. Please use classic compute to turn off caching. If you're using Serverless, an error will be returned."
   ]
  },
  {
   "cell_type": "code",
   "execution_count": 0,
   "metadata": {
    "application/vnd.databricks.v1+cell": {
     "cellMetadata": {
      "byteLimit": 2048000,
      "rowLimit": 10000
     },
     "inputWidgets": {},
     "nuid": "985ac1e2-1c9e-43fd-9811-148a3c15d8df",
     "showTitle": false,
     "tableResultSettingsMap": {},
     "title": ""
    }
   },
   "outputs": [],
   "source": [
    "spark.conf.set('spark.databricks.io.cache.enabled', False)"
   ]
  },
  {
   "cell_type": "markdown",
   "metadata": {
    "application/vnd.databricks.v1+cell": {
     "cellMetadata": {
      "byteLimit": 2048000,
      "rowLimit": 10000
     },
     "inputWidgets": {},
     "nuid": "bd55538e-6ce4-431b-90dc-80ccf11479c5",
     "showTitle": false,
     "tableResultSettingsMap": {},
     "title": ""
    }
   },
   "source": [
    "\n",
    "## C. Generate Data\n",
    "\n",
    "Let's generate the data we will use in this demo. For this, we'll synthesize telemetry data representing temperature readings. This time, however, we're only going to generate 60 readings and create a table named **device_data**.\n"
   ]
  },
  {
   "cell_type": "code",
   "execution_count": 0,
   "metadata": {
    "application/vnd.databricks.v1+cell": {
     "cellMetadata": {
      "byteLimit": 2048000,
      "rowLimit": 10000
     },
     "inputWidgets": {},
     "nuid": "9154c46c-668c-42b0-a570-932a3b0de3e0",
     "showTitle": false,
     "tableResultSettingsMap": {},
     "title": ""
    }
   },
   "outputs": [
    {
     "output_type": "display_data",
     "data": {
      "text/html": [
       "<style scoped>\n",
       "  .table-result-container {\n",
       "    max-height: 300px;\n",
       "    overflow: auto;\n",
       "  }\n",
       "  table, th, td {\n",
       "    border: 1px solid black;\n",
       "    border-collapse: collapse;\n",
       "  }\n",
       "  th, td {\n",
       "    padding: 5px;\n",
       "  }\n",
       "  th {\n",
       "    text-align: left;\n",
       "  }\n",
       "</style><div class='table-result-container'><table class='table-result'><thead style='background-color: white'><tr><th>id</th><th>device_id</th><th>temperature_F</th></tr></thead><tbody><tr><td>0</td><td>0</td><td>81.76517340123696</td></tr><tr><td>1</td><td>1</td><td>59.30974226989637</td></tr><tr><td>2</td><td>2</td><td>14.394093014542664</td></tr><tr><td>3</td><td>3</td><td>12.256443341818713</td></tr><tr><td>4</td><td>4</td><td>44.850999810820646</td></tr><tr><td>5</td><td>5</td><td>15.252715264985817</td></tr><tr><td>6</td><td>6</td><td>38.82216054596802</td></tr><tr><td>7</td><td>7</td><td>63.77493447871602</td></tr><tr><td>8</td><td>8</td><td>15.204999365208316</td></tr><tr><td>9</td><td>9</td><td>98.60251468306058</td></tr><tr><td>10</td><td>10</td><td>37.741422766962984</td></tr><tr><td>11</td><td>11</td><td>95.41684184764476</td></tr><tr><td>12</td><td>12</td><td>18.08030463240057</td></tr><tr><td>13</td><td>13</td><td>81.69945733843565</td></tr><tr><td>14</td><td>14</td><td>94.03182770306887</td></tr><tr><td>15</td><td>15</td><td>71.38292048284399</td></tr><tr><td>16</td><td>16</td><td>50.12884532884059</td></tr><tr><td>17</td><td>17</td><td>79.28224022183586</td></tr><tr><td>18</td><td>18</td><td>71.85393748330945</td></tr><tr><td>19</td><td>19</td><td>89.1768012043953</td></tr><tr><td>20</td><td>20</td><td>75.77495402106489</td></tr><tr><td>21</td><td>21</td><td>58.349466188299445</td></tr><tr><td>22</td><td>22</td><td>30.06471871550902</td></tr><tr><td>23</td><td>23</td><td>90.4294418763008</td></tr><tr><td>24</td><td>24</td><td>97.0595884123178</td></tr><tr><td>25</td><td>25</td><td>24.889457332494626</td></tr><tr><td>26</td><td>26</td><td>62.12802235775079</td></tr><tr><td>27</td><td>27</td><td>40.66215184473362</td></tr><tr><td>28</td><td>28</td><td>72.6219408413137</td></tr><tr><td>29</td><td>29</td><td>97.70037403355406</td></tr><tr><td>30</td><td>30</td><td>40.86593986303849</td></tr><tr><td>31</td><td>31</td><td>17.35032815815153</td></tr><tr><td>32</td><td>32</td><td>13.785497017787973</td></tr><tr><td>33</td><td>33</td><td>48.040518932878705</td></tr><tr><td>34</td><td>34</td><td>39.31685819195291</td></tr><tr><td>35</td><td>35</td><td>39.589750427880745</td></tr><tr><td>36</td><td>36</td><td>91.0918185371003</td></tr><tr><td>37</td><td>37</td><td>6.430719505921623</td></tr><tr><td>38</td><td>38</td><td>3.6945724639460553</td></tr><tr><td>39</td><td>39</td><td>44.29573496394797</td></tr><tr><td>40</td><td>40</td><td>24.950543384546997</td></tr><tr><td>41</td><td>41</td><td>70.42994782841131</td></tr><tr><td>42</td><td>42</td><td>66.59641561226242</td></tr><tr><td>43</td><td>43</td><td>1.4750731697757091</td></tr><tr><td>44</td><td>44</td><td>13.08336501863019</td></tr><tr><td>45</td><td>45</td><td>81.66143958680469</td></tr><tr><td>46</td><td>46</td><td>79.60343317436013</td></tr><tr><td>47</td><td>47</td><td>51.34891812851519</td></tr><tr><td>48</td><td>48</td><td>21.680469712562157</td></tr><tr><td>49</td><td>49</td><td>81.83252201730534</td></tr><tr><td>50</td><td>50</td><td>63.166688228749756</td></tr><tr><td>51</td><td>51</td><td>39.572959855463644</td></tr><tr><td>52</td><td>52</td><td>70.06395912711564</td></tr><tr><td>53</td><td>53</td><td>97.65764489865745</td></tr><tr><td>54</td><td>54</td><td>94.2590248822984</td></tr><tr><td>55</td><td>55</td><td>62.51089904679612</td></tr><tr><td>56</td><td>56</td><td>73.57817175065328</td></tr><tr><td>57</td><td>57</td><td>92.63708440847785</td></tr><tr><td>58</td><td>58</td><td>32.4296634828217</td></tr><tr><td>59</td><td>59</td><td>97.28152296635723</td></tr></tbody></table></div>"
      ]
     },
     "metadata": {
      "application/vnd.databricks.v1+output": {
       "addedWidgets": {},
       "aggData": [],
       "aggError": "",
       "aggOverflow": false,
       "aggSchema": [],
       "aggSeriesLimitReached": false,
       "aggType": "",
       "arguments": {},
       "columnCustomDisplayInfos": {},
       "data": [
        [
         0,
         0,
         81.76517340123696
        ],
        [
         1,
         1,
         59.30974226989637
        ],
        [
         2,
         2,
         14.394093014542664
        ],
        [
         3,
         3,
         12.256443341818713
        ],
        [
         4,
         4,
         44.850999810820646
        ],
        [
         5,
         5,
         15.252715264985817
        ],
        [
         6,
         6,
         38.82216054596802
        ],
        [
         7,
         7,
         63.77493447871602
        ],
        [
         8,
         8,
         15.204999365208316
        ],
        [
         9,
         9,
         98.60251468306058
        ],
        [
         10,
         10,
         37.741422766962984
        ],
        [
         11,
         11,
         95.41684184764476
        ],
        [
         12,
         12,
         18.08030463240057
        ],
        [
         13,
         13,
         81.69945733843565
        ],
        [
         14,
         14,
         94.03182770306887
        ],
        [
         15,
         15,
         71.38292048284399
        ],
        [
         16,
         16,
         50.12884532884059
        ],
        [
         17,
         17,
         79.28224022183586
        ],
        [
         18,
         18,
         71.85393748330945
        ],
        [
         19,
         19,
         89.1768012043953
        ],
        [
         20,
         20,
         75.77495402106489
        ],
        [
         21,
         21,
         58.349466188299445
        ],
        [
         22,
         22,
         30.06471871550902
        ],
        [
         23,
         23,
         90.4294418763008
        ],
        [
         24,
         24,
         97.0595884123178
        ],
        [
         25,
         25,
         24.889457332494626
        ],
        [
         26,
         26,
         62.12802235775079
        ],
        [
         27,
         27,
         40.66215184473362
        ],
        [
         28,
         28,
         72.6219408413137
        ],
        [
         29,
         29,
         97.70037403355406
        ],
        [
         30,
         30,
         40.86593986303849
        ],
        [
         31,
         31,
         17.35032815815153
        ],
        [
         32,
         32,
         13.785497017787973
        ],
        [
         33,
         33,
         48.040518932878705
        ],
        [
         34,
         34,
         39.31685819195291
        ],
        [
         35,
         35,
         39.589750427880745
        ],
        [
         36,
         36,
         91.0918185371003
        ],
        [
         37,
         37,
         6.430719505921623
        ],
        [
         38,
         38,
         3.6945724639460553
        ],
        [
         39,
         39,
         44.29573496394797
        ],
        [
         40,
         40,
         24.950543384546997
        ],
        [
         41,
         41,
         70.42994782841131
        ],
        [
         42,
         42,
         66.59641561226242
        ],
        [
         43,
         43,
         1.4750731697757091
        ],
        [
         44,
         44,
         13.08336501863019
        ],
        [
         45,
         45,
         81.66143958680469
        ],
        [
         46,
         46,
         79.60343317436013
        ],
        [
         47,
         47,
         51.34891812851519
        ],
        [
         48,
         48,
         21.680469712562157
        ],
        [
         49,
         49,
         81.83252201730534
        ],
        [
         50,
         50,
         63.166688228749756
        ],
        [
         51,
         51,
         39.572959855463644
        ],
        [
         52,
         52,
         70.06395912711564
        ],
        [
         53,
         53,
         97.65764489865745
        ],
        [
         54,
         54,
         94.2590248822984
        ],
        [
         55,
         55,
         62.51089904679612
        ],
        [
         56,
         56,
         73.57817175065328
        ],
        [
         57,
         57,
         92.63708440847785
        ],
        [
         58,
         58,
         32.4296634828217
        ],
        [
         59,
         59,
         97.28152296635723
        ]
       ],
       "datasetInfos": [],
       "dbfsResultPath": null,
       "isJsonSchema": true,
       "metadata": {},
       "overflow": false,
       "plotOptions": {
        "customPlotOptions": {},
        "displayType": "table",
        "pivotAggregation": null,
        "pivotColumns": null,
        "xColumns": null,
        "yColumns": null
       },
       "removedWidgets": [],
       "schema": [
        {
         "metadata": "{}",
         "name": "id",
         "type": "\"long\""
        },
        {
         "metadata": "{}",
         "name": "device_id",
         "type": "\"long\""
        },
        {
         "metadata": "{}",
         "name": "temperature_F",
         "type": "\"double\""
        }
       ],
       "type": "table"
      }
     },
     "output_type": "display_data"
    }
   ],
   "source": [
    "from pyspark.sql.functions import *\n",
    "\n",
    "## Drop the table if it exists\n",
    "spark.sql('DROP TABLE IF EXISTS device_data')\n",
    "\n",
    "\n",
    "## Create the table\n",
    "spark.sql('DROP TABLE IF EXISTS device_data')\n",
    "\n",
    "df = (spark\n",
    "      .range(0, 60, 1, 1)\n",
    "      .select(\n",
    "          'id',\n",
    "          (col('id') % 1000).alias('device_id'),\n",
    "          (rand() * 100).alias('temperature_F')\n",
    "      )\n",
    "      .write\n",
    "      .saveAsTable('device_data')\n",
    ")\n",
    "\n",
    "## Display the table\n",
    "display(spark.sql('SELECT * FROM device_data'))"
   ]
  },
  {
   "cell_type": "markdown",
   "metadata": {
    "application/vnd.databricks.v1+cell": {
     "cellMetadata": {
      "byteLimit": 2048000,
      "rowLimit": 10000
     },
     "inputWidgets": {},
     "nuid": "22a34ae1-ab34-446b-ae5d-00499df575f0",
     "showTitle": false,
     "tableResultSettingsMap": {},
     "title": ""
    }
   },
   "source": [
    "## D. Python UDF\n",
    "Create and use a Python UDF in two ways.\n",
    "- Computationally Expensive Python UDF\n",
    "- Parallelization a Python UDF through Repartitioning"
   ]
  },
  {
   "cell_type": "markdown",
   "metadata": {
    "application/vnd.databricks.v1+cell": {
     "cellMetadata": {
      "byteLimit": 2048000,
      "rowLimit": 10000
     },
     "inputWidgets": {},
     "nuid": "529d72be-f6cd-4f7f-bfc6-9c723a146be4",
     "showTitle": false,
     "tableResultSettingsMap": {},
     "title": ""
    }
   },
   "source": [
    "### D1. Computationally Expensive Python UDF\n",
    "\n",
    "For the sake of experimentation, let's implement a function that converts Fahrenheit to Celsius. Notice that we're inserting a one-second sleep to simulate a computationally expensive operation within our UDF. Let's try it."
   ]
  },
  {
   "cell_type": "code",
   "execution_count": 0,
   "metadata": {
    "application/vnd.databricks.v1+cell": {
     "cellMetadata": {
      "byteLimit": 2048000,
      "rowLimit": 10000
     },
     "inputWidgets": {},
     "nuid": "dc595d12-18a1-4169-ada3-c718c84b1c9d",
     "showTitle": false,
     "tableResultSettingsMap": {},
     "title": ""
    }
   },
   "outputs": [],
   "source": [
    "from pyspark.sql.functions import *\n",
    "from pyspark.sql.types import *\n",
    "import time\n",
    "\n",
    "## Create the Python UDF\n",
    "@udf(\"double\")\n",
    "def F_to_Celsius(f):\n",
    "    # Let's pretend some fancy math takes one second per row\n",
    "    time.sleep(1)\n",
    "    return (f - 32) * (5/9)\n",
    "\n",
    "spark.sql('DROP TABLE IF EXISTS celsius')\n",
    "\n",
    "## Prep the data\n",
    "celsius_df = (spark\n",
    "              .table('device_data')\n",
    "              .withColumn(\"celsius\", F_to_Celsius(col('temperature_F')))\n",
    "            )\n",
    "\n",
    "## Create the table\n",
    "(celsius_df\n",
    " .write\n",
    " .mode('overwrite')\n",
    " .saveAsTable('celsius')\n",
    ")"
   ]
  },
  {
   "cell_type": "markdown",
   "metadata": {
    "application/vnd.databricks.v1+cell": {
     "cellMetadata": {
      "byteLimit": 2048000,
      "rowLimit": 10000
     },
     "inputWidgets": {},
     "nuid": "607efeb0-1dc3-4248-8db0-d5d1b603eb46",
     "showTitle": false,
     "tableResultSettingsMap": {},
     "title": ""
    }
   },
   "source": [
    "Run the code to view how many partitions were used for the query. Notice that only **1 partition** was used because the UDF does not utilize the parallel processing capabilities of Spark, which slows down the query.\n"
   ]
  },
  {
   "cell_type": "code",
   "execution_count": 0,
   "metadata": {
    "application/vnd.databricks.v1+cell": {
     "cellMetadata": {
      "byteLimit": 2048000,
      "rowLimit": 10000
     },
     "inputWidgets": {},
     "nuid": "2eb7519a-ed50-44c7-8501-68df0b9622d3",
     "showTitle": false,
     "tableResultSettingsMap": {},
     "title": ""
    }
   },
   "outputs": [
    {
     "output_type": "stream",
     "name": "stdout",
     "output_type": "stream",
     "text": [
      "Total number of cores across all executors in the cluster: 4\nThe number of partitions in the underlying RDD of a dataframe: 1\n"
     ]
    }
   ],
   "source": [
    "print(f'Total number of cores across all executors in the cluster: {spark.sparkContext.defaultParallelism}')\n",
    "print(f'The number of partitions in the underlying RDD of a dataframe: {celsius_df.rdd.getNumPartitions()}')"
   ]
  },
  {
   "cell_type": "markdown",
   "metadata": {
    "application/vnd.databricks.v1+cell": {
     "cellMetadata": {
      "byteLimit": 2048000,
      "rowLimit": 10000
     },
     "inputWidgets": {},
     "nuid": "e08e1752-1caf-4f48-a048-919b7a9a804a",
     "showTitle": false,
     "tableResultSettingsMap": {},
     "title": ""
    }
   },
   "source": [
    "Explain the Spark execution plan. Notice that the **BatchEvalPython** stage indicates that a Python UDF is being used.\n"
   ]
  },
  {
   "cell_type": "code",
   "execution_count": 0,
   "metadata": {
    "application/vnd.databricks.v1+cell": {
     "cellMetadata": {
      "byteLimit": 2048000,
      "rowLimit": 10000
     },
     "inputWidgets": {},
     "nuid": "0b8d73d5-2375-4c70-8a7b-728c81ce1dfc",
     "showTitle": false,
     "tableResultSettingsMap": {},
     "title": ""
    }
   },
   "outputs": [
    {
     "output_type": "stream",
     "name": "stdout",
     "output_type": "stream",
     "text": [
      "== Physical Plan ==\n*(2) Project [id#6894L, device_id#6895L, temperature_F#6896, pythonUDF0#8735 AS celsius#6901]\n+- BatchEvalPython [F_to_Celsius(temperature_F#6896)#6900], [pythonUDF0#8735]\n   +- *(1) ColumnarToRow\n      +- PhotonResultStage\n         +- PhotonScan parquet labuser10305556_1747289640.default.device_data[id#6894L,device_id#6895L,temperature_F#6896] DataFilters: [], DictionaryFilters: [], Format: parquet, Location: PreparedDeltaFileIndex(1 paths)[s3://unity-catalogs-us-west-2/metastore/4018693-root/89cf4a04-20a..., OptionalDataFilters: [], PartitionFilters: [], ReadSchema: struct<id:bigint,device_id:bigint,temperature_F:double>, RequiredDataFilters: []\n\n\n== Photon Explanation ==\nPhoton does not fully support the query because:\n\t\tUnsupported node: BatchEvalPython [F_to_Celsius(temperature_F#6896)#6900], [pythonUDF0#8735].\n\nReference node:\n\tBatchEvalPython [F_to_Celsius(temperature_F#6896)#6900], [pythonUDF0#8735]\n\n"
     ]
    }
   ],
   "source": [
    "celsius_df.explain()"
   ]
  },
  {
   "cell_type": "markdown",
   "metadata": {
    "application/vnd.databricks.v1+cell": {
     "cellMetadata": {
      "byteLimit": 2048000,
      "rowLimit": 10000
     },
     "inputWidgets": {},
     "nuid": "e2723231-4471-4c9a-8209-00b8fdab0b86",
     "showTitle": false,
     "tableResultSettingsMap": {},
     "title": ""
    }
   },
   "source": [
    "#### Summary\n",
    "That took approximately one minute, which is kind of surprising since we have about 60 seconds worth of computation, spread across multiple cores. Shouldn't it take significantly less time? \n",
    "\n",
    "The answer to this question is yes, it should take less time. The problem here is that Spark doesn't know that the computations are expensive, so it hasn't divided the work up into tasks that can be done in parallel. We can see that by watching the one task chug away as the cell is running, and by visiting the Spark UI."
   ]
  },
  {
   "cell_type": "markdown",
   "metadata": {
    "application/vnd.databricks.v1+cell": {
     "cellMetadata": {
      "byteLimit": 2048000,
      "rowLimit": 10000
     },
     "inputWidgets": {},
     "nuid": "f7f7afe8-6448-4752-a61a-1369a1e4d837",
     "showTitle": false,
     "tableResultSettingsMap": {},
     "title": ""
    }
   },
   "source": [
    "### D2. Parallelization a Python UDF through Repartitioning\n",
    "\n",
    "Repartitioning is the answer in this case. *We* know that this computation is expensive and should span across all 4 cores, so we can explicitly repartition the DataFrame:\n"
   ]
  },
  {
   "cell_type": "code",
   "execution_count": 0,
   "metadata": {
    "application/vnd.databricks.v1+cell": {
     "cellMetadata": {
      "byteLimit": 2048000,
      "rowLimit": 10000
     },
     "inputWidgets": {},
     "nuid": "2c269756-b662-4d9c-a411-ac2fbc6dec98",
     "showTitle": false,
     "tableResultSettingsMap": {},
     "title": ""
    }
   },
   "outputs": [],
   "source": [
    "# Repartition across the number of cores in your cluster\n",
    "num_cores = 4\n",
    "\n",
    "@udf(\"double\")\n",
    "def F_to_Celsius(f):\n",
    "    # Let's pretend some fancy math take one second per row\n",
    "    time.sleep(1)\n",
    "    return (f - 32) * (5/9)\n",
    "\n",
    "spark.sql('DROP TABLE IF EXISTS celsius')\n",
    "\n",
    "celsius_df_cores = (spark.table('device_data')\n",
    "                    .repartition(num_cores) # <-- HERE\n",
    "                    .withColumn(\"celsius\", F_to_Celsius(col('temperature_F')))\n",
    "             )\n",
    "\n",
    "(celsius_df_cores\n",
    " .write\n",
    " .mode('overwrite')\n",
    " .saveAsTable('celsius')\n",
    ")"
   ]
  },
  {
   "cell_type": "markdown",
   "metadata": {
    "application/vnd.databricks.v1+cell": {
     "cellMetadata": {
      "byteLimit": 2048000,
      "rowLimit": 10000
     },
     "inputWidgets": {},
     "nuid": "6c1de7d2-f2a2-4b16-bbf2-ed798b13cb6b",
     "showTitle": false,
     "tableResultSettingsMap": {},
     "title": ""
    }
   },
   "source": [
    "Run the code to view how many partitions are being used for the query. Notice that 4 partitions (tasks) are being used to execute the code in parallel.\n"
   ]
  },
  {
   "cell_type": "code",
   "execution_count": 0,
   "metadata": {
    "application/vnd.databricks.v1+cell": {
     "cellMetadata": {
      "byteLimit": 2048000,
      "rowLimit": 10000
     },
     "inputWidgets": {},
     "nuid": "466ce7fa-0f5f-4c7e-8696-537969c73c11",
     "showTitle": false,
     "tableResultSettingsMap": {},
     "title": ""
    }
   },
   "outputs": [
    {
     "output_type": "stream",
     "name": "stdout",
     "output_type": "stream",
     "text": [
      "Total number of cores across all executors in the cluster: 4\nThe number of partitions in the underlying RDD of a dataframe: 4\n"
     ]
    }
   ],
   "source": [
    "print(f'Total number of cores across all executors in the cluster: {spark.sparkContext.defaultParallelism}')\n",
    "print(f'The number of partitions in the underlying RDD of a dataframe: {celsius_df_cores.rdd.getNumPartitions()}')"
   ]
  },
  {
   "cell_type": "markdown",
   "metadata": {
    "application/vnd.databricks.v1+cell": {
     "cellMetadata": {
      "byteLimit": 2048000,
      "rowLimit": 10000
     },
     "inputWidgets": {},
     "nuid": "779b7874-a7d1-4c71-9847-f43373b0e902",
     "showTitle": false,
     "tableResultSettingsMap": {},
     "title": ""
    }
   },
   "source": [
    "#### Summary\n",
    "Repartition command general recommend best practice that your UDF runs in parallel distributed manner."
   ]
  },
  {
   "cell_type": "markdown",
   "metadata": {
    "application/vnd.databricks.v1+cell": {
     "cellMetadata": {
      "byteLimit": 2048000,
      "rowLimit": 10000
     },
     "inputWidgets": {},
     "nuid": "d0b93129-0807-4289-9d9b-7d983184acab",
     "showTitle": false,
     "tableResultSettingsMap": {},
     "title": ""
    }
   },
   "source": [
    "##E. SQL UDFs\n",
    "\n",
    "The ability to create user-defined functions in Python and Scala is convenient since it allows you to extend functionality in the language of your choice. As far as optimization is concerned, however, it's important to know that SQL is generally the best choice, for a couple of reasons:\n",
    "- SQL UDFs require less data serialization\n",
    "- Catalyst optimizer can operate within SQL UDFs\n",
    "\n",
    "Let's see this in action now by comparing the performance of a SQL UDF to its Python counterpart.\n",
    "\n",
    "First let's redefine the Python UDF from before, this time without the delay, so we can compare raw performance."
   ]
  },
  {
   "cell_type": "markdown",
   "metadata": {
    "application/vnd.databricks.v1+cell": {
     "cellMetadata": {
      "byteLimit": 2048000,
      "rowLimit": 10000
     },
     "inputWidgets": {},
     "nuid": "960c26f5-409d-43d3-a0cf-5ce4b9f2244b",
     "showTitle": false,
     "tableResultSettingsMap": {},
     "title": ""
    }
   },
   "source": [
    "Now let's perform the equivalent operation through a SQL UDF."
   ]
  },
  {
   "cell_type": "code",
   "execution_count": 0,
   "metadata": {
    "application/vnd.databricks.v1+cell": {
     "cellMetadata": {
      "byteLimit": 2048000,
      "implicitDf": true,
      "rowLimit": 10000
     },
     "inputWidgets": {},
     "nuid": "290698e3-1d39-486a-88c1-287d839ed9b2",
     "showTitle": false,
     "tableResultSettingsMap": {},
     "title": ""
    }
   },
   "outputs": [
    {
     "output_type": "display_data",
     "data": {
      "text/html": [
       "<style scoped>\n",
       "  .table-result-container {\n",
       "    max-height: 300px;\n",
       "    overflow: auto;\n",
       "  }\n",
       "  table, th, td {\n",
       "    border: 1px solid black;\n",
       "    border-collapse: collapse;\n",
       "  }\n",
       "  th, td {\n",
       "    padding: 5px;\n",
       "  }\n",
       "  th {\n",
       "    text-align: left;\n",
       "  }\n",
       "</style><div class='table-result-container'><table class='table-result'><thead style='background-color: white'><tr><th>Farh_to_cels_convert</th></tr></thead><tbody><tr><td>27.647318556242755</td></tr><tr><td>15.172079038831315</td></tr><tr><td>-9.781059436365188</td></tr><tr><td>-10.968642587878493</td></tr><tr><td>7.139444339344802</td></tr><tr><td>-9.30404707500788</td></tr><tr><td>3.790089192204454</td></tr><tr><td>17.65274137706446</td></tr><tr><td>-9.330555908217601</td></tr><tr><td>37.00139704614477</td></tr><tr><td>3.1896793149794354</td></tr><tr><td>35.23157880424709</td></tr><tr><td>-7.733164093110795</td></tr><tr><td>27.61080963246425</td></tr><tr><td>34.46212650170493</td></tr><tr><td>21.87940026824666</td></tr><tr><td>10.071580738244771</td></tr><tr><td>26.26791123435326</td></tr><tr><td>22.14107637961636</td></tr><tr><td>31.764889557997392</td></tr><tr><td>24.319418900591604</td></tr><tr><td>14.638592326833027</td></tr><tr><td>-1.0751562691616554</td></tr><tr><td>32.460801042389335</td></tr><tr><td>36.144215784621</td></tr><tr><td>-3.9503014819474296</td></tr><tr><td>16.737790198750435</td></tr><tr><td>4.812306580407568</td></tr><tr><td>22.567744911840943</td></tr><tr><td>36.50020779641892</td></tr><tr><td>4.925522146132495</td></tr><tr><td>-8.138706578804706</td></tr><tr><td>-10.119168323451126</td></tr><tr><td>8.911399407154837</td></tr><tr><td>4.064921217751617</td></tr><tr><td>4.216528015489303</td></tr><tr><td>32.82878807616683</td></tr><tr><td>-14.205155830043545</td></tr><tr><td>-15.725237520029971</td></tr><tr><td>6.8309638688599845</td></tr><tr><td>-3.9163647863627795</td></tr><tr><td>21.349971015784064</td></tr><tr><td>19.220230895701345</td></tr><tr><td>-16.95829268345794</td></tr><tr><td>-10.509241656316561</td></tr><tr><td>27.58968865933594</td></tr><tr><td>26.446351763533407</td></tr><tr><td>10.749398960286214</td></tr><tr><td>-5.7330723819099125</td></tr><tr><td>27.68473445405852</td></tr><tr><td>17.314826793749866</td></tr><tr><td>4.207199919702024</td></tr><tr><td>21.14664395950869</td></tr><tr><td>36.47646938814303</td></tr><tr><td>34.58834715683244</td></tr><tr><td>16.95049947044229</td></tr><tr><td>23.09898430591849</td></tr><tr><td>33.687269115821024</td></tr><tr><td>0.2387019349009457</td></tr><tr><td>36.267512759087346</td></tr></tbody></table></div>"
      ]
     },
     "metadata": {
      "application/vnd.databricks.v1+output": {
       "addedWidgets": {},
       "aggData": [],
       "aggError": "",
       "aggOverflow": false,
       "aggSchema": [],
       "aggSeriesLimitReached": false,
       "aggType": "",
       "arguments": {},
       "columnCustomDisplayInfos": {},
       "data": [
        [
         27.647318556242755
        ],
        [
         15.172079038831315
        ],
        [
         -9.781059436365188
        ],
        [
         -10.968642587878493
        ],
        [
         7.139444339344802
        ],
        [
         -9.30404707500788
        ],
        [
         3.790089192204454
        ],
        [
         17.65274137706446
        ],
        [
         -9.330555908217601
        ],
        [
         37.00139704614477
        ],
        [
         3.1896793149794354
        ],
        [
         35.23157880424709
        ],
        [
         -7.733164093110795
        ],
        [
         27.61080963246425
        ],
        [
         34.46212650170493
        ],
        [
         21.87940026824666
        ],
        [
         10.071580738244771
        ],
        [
         26.26791123435326
        ],
        [
         22.14107637961636
        ],
        [
         31.764889557997392
        ],
        [
         24.319418900591604
        ],
        [
         14.638592326833027
        ],
        [
         -1.0751562691616554
        ],
        [
         32.460801042389335
        ],
        [
         36.144215784621
        ],
        [
         -3.9503014819474296
        ],
        [
         16.737790198750435
        ],
        [
         4.812306580407568
        ],
        [
         22.567744911840943
        ],
        [
         36.50020779641892
        ],
        [
         4.925522146132495
        ],
        [
         -8.138706578804706
        ],
        [
         -10.119168323451126
        ],
        [
         8.911399407154837
        ],
        [
         4.064921217751617
        ],
        [
         4.216528015489303
        ],
        [
         32.82878807616683
        ],
        [
         -14.205155830043545
        ],
        [
         -15.725237520029971
        ],
        [
         6.8309638688599845
        ],
        [
         -3.9163647863627795
        ],
        [
         21.349971015784064
        ],
        [
         19.220230895701345
        ],
        [
         -16.95829268345794
        ],
        [
         -10.509241656316561
        ],
        [
         27.58968865933594
        ],
        [
         26.446351763533407
        ],
        [
         10.749398960286214
        ],
        [
         -5.7330723819099125
        ],
        [
         27.68473445405852
        ],
        [
         17.314826793749866
        ],
        [
         4.207199919702024
        ],
        [
         21.14664395950869
        ],
        [
         36.47646938814303
        ],
        [
         34.58834715683244
        ],
        [
         16.95049947044229
        ],
        [
         23.09898430591849
        ],
        [
         33.687269115821024
        ],
        [
         0.2387019349009457
        ],
        [
         36.267512759087346
        ]
       ],
       "datasetInfos": [],
       "dbfsResultPath": null,
       "isJsonSchema": true,
       "metadata": {
        "createTempViewForImplicitDf": true,
        "dataframeName": "_sqldf",
        "executionCount": 12
       },
       "overflow": false,
       "plotOptions": {
        "customPlotOptions": {},
        "displayType": "table",
        "pivotAggregation": null,
        "pivotColumns": null,
        "xColumns": null,
        "yColumns": null
       },
       "removedWidgets": [],
       "schema": [
        {
         "metadata": "{}",
         "name": "Farh_to_cels_convert",
         "type": "\"double\""
        }
       ],
       "type": "table"
      }
     },
     "output_type": "display_data"
    }
   ],
   "source": [
    "%sql\n",
    "\n",
    "-- Create the same function\n",
    "DROP FUNCTION IF EXISTS farh_to_cels;\n",
    "\n",
    "CREATE FUNCTION farh_to_cels (farh DOUBLE)\n",
    "  RETURNS DOUBLE RETURN ((farh - 32) * 5/9);\n",
    "\n",
    "\n",
    "-- Use the function to create the table\n",
    "DROP TABLE IF EXISTS celsius_sql;\n",
    "\n",
    "CREATE OR REPLACE TABLE celsius_sql AS\n",
    "SELECT farh_to_cels(temperature_F) as Farh_to_cels_convert \n",
    "FROM device_data;\n",
    "\n",
    "\n",
    "-- View the data\n",
    "SELECT * \n",
    "FROM celsius_sql;"
   ]
  },
  {
   "cell_type": "markdown",
   "metadata": {
    "application/vnd.databricks.v1+cell": {
     "cellMetadata": {
      "byteLimit": 2048000,
      "rowLimit": 10000
     },
     "inputWidgets": {},
     "nuid": "ca026b98-ca7d-4edd-a190-12f39629077d",
     "showTitle": false,
     "tableResultSettingsMap": {},
     "title": ""
    }
   },
   "source": [
    "Explain the query plan with the SQL UDF. Notice that the SQL UDF is fully supported by Photon is more performant."
   ]
  },
  {
   "cell_type": "code",
   "execution_count": 0,
   "metadata": {
    "application/vnd.databricks.v1+cell": {
     "cellMetadata": {
      "byteLimit": 2048000,
      "implicitDf": true,
      "rowLimit": 10000
     },
     "inputWidgets": {},
     "nuid": "2345ce8a-5d9f-41ec-bca8-b23e92be9815",
     "showTitle": false,
     "tableResultSettingsMap": {},
     "title": ""
    }
   },
   "outputs": [
    {
     "output_type": "display_data",
     "data": {
      "text/html": [
       "<style scoped>\n",
       "  .table-result-container {\n",
       "    max-height: 300px;\n",
       "    overflow: auto;\n",
       "  }\n",
       "  table, th, td {\n",
       "    border: 1px solid black;\n",
       "    border-collapse: collapse;\n",
       "  }\n",
       "  th, td {\n",
       "    padding: 5px;\n",
       "  }\n",
       "  th {\n",
       "    text-align: left;\n",
       "  }\n",
       "</style><div class='table-result-container'><table class='table-result'><thead style='background-color: white'><tr><th>plan</th></tr></thead><tbody><tr><td>== Physical Plan ==\n",
       "*(1) ColumnarToRow\n",
       "+- PhotonResultStage\n",
       "   +- PhotonProject [(((temperature_F#10348 - 32.0) * 5.0) / 9.0) AS Farh_to_cels_convert#10327]\n",
       "      +- PhotonScan parquet labuser10305556_1747289640.default.device_data[temperature_F#10348] DataFilters: [], DictionaryFilters: [], Format: parquet, Location: PreparedDeltaFileIndex(1 paths)[s3://unity-catalogs-us-west-2/metastore/4018693-root/89cf4a04-20a..., OptionalDataFilters: [], PartitionFilters: [], ReadSchema: struct<temperature_F:double>, RequiredDataFilters: []\n",
       "\n",
       "\n",
       "== Photon Explanation ==\n",
       "The query is fully supported by Photon.</td></tr></tbody></table></div>"
      ]
     },
     "metadata": {
      "application/vnd.databricks.v1+output": {
       "addedWidgets": {},
       "aggData": [],
       "aggError": "",
       "aggOverflow": false,
       "aggSchema": [],
       "aggSeriesLimitReached": false,
       "aggType": "",
       "arguments": {},
       "columnCustomDisplayInfos": {},
       "data": [
        [
         "== Physical Plan ==\n*(1) ColumnarToRow\n+- PhotonResultStage\n   +- PhotonProject [(((temperature_F#10348 - 32.0) * 5.0) / 9.0) AS Farh_to_cels_convert#10327]\n      +- PhotonScan parquet labuser10305556_1747289640.default.device_data[temperature_F#10348] DataFilters: [], DictionaryFilters: [], Format: parquet, Location: PreparedDeltaFileIndex(1 paths)[s3://unity-catalogs-us-west-2/metastore/4018693-root/89cf4a04-20a..., OptionalDataFilters: [], PartitionFilters: [], ReadSchema: struct<temperature_F:double>, RequiredDataFilters: []\n\n\n== Photon Explanation ==\nThe query is fully supported by Photon."
        ]
       ],
       "datasetInfos": [],
       "dbfsResultPath": null,
       "isJsonSchema": true,
       "metadata": {
        "createTempViewForImplicitDf": true,
        "dataframeName": "_sqldf",
        "executionCount": 13
       },
       "overflow": false,
       "plotOptions": {
        "customPlotOptions": {},
        "displayType": "table",
        "pivotAggregation": null,
        "pivotColumns": null,
        "xColumns": null,
        "yColumns": null
       },
       "removedWidgets": [],
       "schema": [
        {
         "metadata": "{}",
         "name": "plan",
         "type": "\"string\""
        }
       ],
       "type": "table"
      }
     },
     "output_type": "display_data"
    }
   ],
   "source": [
    "%sql\n",
    "EXPLAIN \n",
    "SELECT farh_to_cels(temperature_F) as Farh_to_cels_convert \n",
    "FROM device_data"
   ]
  },
  {
   "cell_type": "markdown",
   "metadata": {
    "application/vnd.databricks.v1+cell": {
     "cellMetadata": {
      "byteLimit": 2048000,
      "rowLimit": 10000
     },
     "inputWidgets": {},
     "nuid": "705e56bf-76c1-411d-b27b-91b74c50103e",
     "showTitle": false,
     "tableResultSettingsMap": {},
     "title": ""
    }
   },
   "source": [
    "## Summary\n",
    "\n",
    "Actual times depend on a number of factors, however, on average, the SQL UDF will perform better than its Python equivalent — often, significantly better. The reason for this is that SQL UDFs use Spark's built-in APIs and functions, rather than relying on external dependencies or Python UDFs.\n",
    "\n",
    "If you are using a UDF in your Spark job, refactoring your code to use native Spark APIs or functions whenever possible will lead to the best performance and efficiency gains.\n",
    "\n",
    "If you must use UDFs due to strong dependencies on external libraries, you should parallelize your code and repartition your DataFrame to match the number of CPU cores in your cluster to achieve the best level of parallelization.\n",
    "\n",
    "When using Python UDFs, consider using **Apache Arrow**-optimized Python UDFs instead, as they improve the efficiency of data exchange between the Spark runtime and the UDF process. [Learn more about Arrow-optimized Python UDFs](https://www.databricks.com/blog/arrow-optimized-python-udfs-apache-sparktm-35)."
   ]
  },
  {
   "cell_type": "markdown",
   "metadata": {
    "application/vnd.databricks.v1+cell": {
     "cellMetadata": {
      "byteLimit": 2048000,
      "rowLimit": 10000
     },
     "inputWidgets": {},
     "nuid": "07d95ceb-d14e-4457-85e3-aeb43c948894",
     "showTitle": false,
     "tableResultSettingsMap": {},
     "title": ""
    }
   },
   "source": [
    "\n",
    "&copy; 2025 Databricks, Inc. All rights reserved.<br/>\n",
    "Apache, Apache Spark, Spark and the Spark logo are trademarks of the \n",
    "<a href=\"https://www.apache.org/\">Apache Software Foundation</a>.<br/>\n",
    "<br/><a href=\"https://databricks.com/privacy-policy\">Privacy Policy</a> | \n",
    "<a href=\"https://databricks.com/terms-of-use\">Terms of Use</a> | \n",
    "<a href=\"https://help.databricks.com/\">Support</a>"
   ]
  }
 ],
 "metadata": {
  "application/vnd.databricks.v1+notebook": {
   "computePreferences": null,
   "dashboards": [],
   "environmentMetadata": null,
   "inputWidgetPreferences": null,
   "language": "python",
   "notebookMetadata": {
    "mostRecentlyExecutedCommandWithImplicitDF": {
     "commandId": 3453308174312933,
     "dataframes": [
      "_sqldf"
     ]
    },
    "pythonIndentUnit": 4
   },
   "notebookName": "PO 1.5 - User-Defined Functions",
   "widgets": {}
  },
  "language_info": {
   "name": "python"
  }
 },
 "nbformat": 4,
 "nbformat_minor": 0
}