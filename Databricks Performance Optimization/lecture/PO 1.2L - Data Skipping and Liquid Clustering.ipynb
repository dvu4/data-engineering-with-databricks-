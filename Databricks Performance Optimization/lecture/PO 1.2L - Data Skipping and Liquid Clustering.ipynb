{
 "cells": [
  {
   "cell_type": "markdown",
   "metadata": {
    "application/vnd.databricks.v1+cell": {
     "cellMetadata": {},
     "inputWidgets": {},
     "nuid": "536c9535-818a-4a87-9673-14ecd11186ce",
     "showTitle": false,
     "tableResultSettingsMap": {},
     "title": ""
    }
   },
   "source": [
    "\n",
    "<div style=\"text-align: center; line-height: 0; padding-top: 9px;\">\n",
    "  <img src=\"https://databricks.com/wp-content/uploads/2018/03/db-academy-rgb-1200px.png\" alt=\"Databricks Learning\">\n",
    "</div>\n"
   ]
  },
  {
   "cell_type": "markdown",
   "metadata": {
    "application/vnd.databricks.v1+cell": {
     "cellMetadata": {},
     "inputWidgets": {},
     "nuid": "627a5183-b587-4ed1-8823-b6d728c4ab2c",
     "showTitle": false,
     "tableResultSettingsMap": {},
     "title": ""
    }
   },
   "source": [
    "# Lab: Data Skipping and Liquid Clustering\n",
    "\n",
    "In this demo, we are going to work with Liquid Clustering, a Delta Lake optimization feature that replaces table partitioning and ZORDER to simplify data layout decisions and optimize query performance. It provides flexibility to redefine clustering keys without rewriting data. Refer to the [documentation](https://docs.databricks.com/en/delta/clustering.html) for more information.\n",
    "\n",
    "#### Learning Objectives\n",
    "**By the end of this lab, you will be able to:**\n",
    "\n",
    "* Disable Spark caching to observe the effects of Liquid Clustering.\n",
    "* Count records and explore data in the flights tables.\n",
    "* Execute queries on an unclustered table and analyze their performance using Spark UI.\n",
    "* Execute and compare queries on tables clustered by different columns (**id** and **id** + **FlightNum**).\n",
    "* Inspect query performance using the Spark UI to understand the benefits of Liquid Clustering.\n",
    "\n",
    "#### Prerequisites\n",
    "In order to follow along with this lab, you will need:\n",
    "\n",
    "* Basic knowledge of running SQL queries in Databricks is required.\n",
    "* Familiarity with Delta Lake and its optimization features is recommended.\n"
   ]
  },
  {
   "cell_type": "markdown",
   "metadata": {
    "application/vnd.databricks.v1+cell": {
     "cellMetadata": {},
     "inputWidgets": {},
     "nuid": "a4d6d5c3-d0e2-495f-9aef-d34b39bb3d1f",
     "showTitle": false,
     "tableResultSettingsMap": {},
     "title": ""
    }
   },
   "source": [
    "## REQUIRED - SELECT CLASSIC COMPUTE\n",
    "\n",
    "Before executing cells in this notebook, please select your classic compute cluster in the lab. Be aware that **Serverless** is enabled by default. If you use Serverless, errors will be returned when setting compute runtime properties.\n",
    "\n",
    "Follow these steps to select the classic compute cluster:\n",
    "\n",
    "1. Navigate to the top-right of this notebook and click the drop-down menu to select your cluster. By default, the notebook will use **Serverless**.\n",
    "\n",
    "1. If your cluster is available, select it and continue to the next cell. If the cluster is not shown:\n",
    "\n",
    "  - In the drop-down, select **More**.\n",
    "\n",
    "  - In the **Attach to an existing compute resource** pop-up, select the first drop-down. You will see a unique cluster name in that drop-down. Please select that cluster.\n",
    "\n",
    "**NOTE:** If your cluster has terminated, you might need to restart it in order to select it. To do this:\n",
    "\n",
    "1. Right-click on **Compute** in the left navigation pane and select *Open in new tab*.\n",
    "\n",
    "1. Find the triangle icon to the right of your compute cluster name and click it.\n",
    "\n",
    "1. Wait a few minutes for the cluster to start.\n",
    "\n",
    "1. Once the cluster is running, complete the steps above to select your cluster."
   ]
  },
  {
   "cell_type": "markdown",
   "metadata": {
    "application/vnd.databricks.v1+cell": {
     "cellMetadata": {},
     "inputWidgets": {},
     "nuid": "1cb39614-8166-4270-b790-231be522b238",
     "showTitle": false,
     "tableResultSettingsMap": {},
     "title": ""
    }
   },
   "source": [
    "## A. Classroom Setup\n",
    "\n",
    "Run the following cell to configure your working environment for this course. It will also set your default catalog to your unique **labuser** catalog, and the default schema to **default**. All tables will be read from and written to this location.\n",
    "<br></br>\n",
    "\n",
    "**NOTE:** The `DA` object is only used in Databricks Academy courses and is not available outside of these courses. It will dynamically reference the information needed to run the course."
   ]
  },
  {
   "cell_type": "code",
   "execution_count": 0,
   "metadata": {
    "application/vnd.databricks.v1+cell": {
     "cellMetadata": {},
     "inputWidgets": {},
     "nuid": "6702ce17-5b80-4423-bdc5-0a85da15d447",
     "showTitle": false,
     "tableResultSettingsMap": {},
     "title": ""
    }
   },
   "outputs": [],
   "source": [
    "%run ./Includes/Classroom-Setup-2L"
   ]
  },
  {
   "cell_type": "markdown",
   "metadata": {
    "application/vnd.databricks.v1+cell": {
     "cellMetadata": {},
     "inputWidgets": {},
     "nuid": "03e202b6-c43e-45c4-b670-6da8d09d4b88",
     "showTitle": false,
     "tableResultSettingsMap": {},
     "title": ""
    }
   },
   "source": [
    "Set the default catalog to **dbacademy_flightdata** and the schema to **v01**. We will use the read-only tables in this location for the demonstration.\n",
    "\n",
    "**NOTE:** These tables are shared through the Databricks Marketplace, provided by **Databricks**. The name of the share is **Airline Performance Data**."
   ]
  },
  {
   "cell_type": "code",
   "execution_count": 0,
   "metadata": {
    "application/vnd.databricks.v1+cell": {
     "cellMetadata": {},
     "inputWidgets": {},
     "nuid": "4600df8b-f221-4565-9b1f-d45661d9a638",
     "showTitle": false,
     "tableResultSettingsMap": {},
     "title": ""
    }
   },
   "outputs": [],
   "source": [
    "USE CATALOG dbacademy_flightdata;\n",
    "USE SCHEMA v01;\n",
    "\n",
    "SELECT current_catalog(), current_schema()"
   ]
  },
  {
   "cell_type": "markdown",
   "metadata": {
    "application/vnd.databricks.v1+cell": {
     "cellMetadata": {},
     "inputWidgets": {},
     "nuid": "2b5eafbc-318f-4207-8f03-0fab021211f2",
     "showTitle": false,
     "tableResultSettingsMap": {},
     "title": ""
    }
   },
   "source": [
    "## B. Disable Caching\n",
    "\n",
    "Run the following cell to set a Spark configuration variable that disables disk caching.\n",
    "\n",
    "Turning disk caching off prevents Databricks from storing cloud storage files after the first query. This makes the effect of the optimizations more apparent by ensuring that files are always pulled from cloud storage for each query.\n",
    "\n",
    "For more information, see [Optimize performance with caching on Databricks](https://docs.databricks.com/en/optimizations/disk-cache.html#optimize-performance-with-caching-on-databricks).\n",
    "\n",
    "**NOTE:** This will not work in Serverless. Please use classic compute to turn off caching. If you're using Serverless, an error will be returned."
   ]
  },
  {
   "cell_type": "code",
   "execution_count": 0,
   "metadata": {
    "application/vnd.databricks.v1+cell": {
     "cellMetadata": {},
     "inputWidgets": {},
     "nuid": "0e297376-4955-4908-b226-c384e92f4295",
     "showTitle": false,
     "tableResultSettingsMap": {},
     "title": ""
    }
   },
   "outputs": [],
   "source": [
    "%python\n",
    "# Set the spark configuration variable \"io.cache\" as \"False\"\n",
    "spark.conf.set('spark.databricks.io.cache.enabled', False)"
   ]
  },
  {
   "cell_type": "markdown",
   "metadata": {
    "application/vnd.databricks.v1+cell": {
     "cellMetadata": {},
     "inputWidgets": {},
     "nuid": "5d39287c-4224-482e-ac90-9c6a80635459",
     "showTitle": false,
     "tableResultSettingsMap": {},
     "title": ""
    }
   },
   "source": [
    "## C. Inspecting the tables with and without clustering, using Spark UI to identify that data is skipped at the source."
   ]
  },
  {
   "cell_type": "markdown",
   "metadata": {
    "application/vnd.databricks.v1+cell": {
     "cellMetadata": {},
     "inputWidgets": {},
     "nuid": "f87d7cc8-ff07-4635-9380-048ddab37027",
     "showTitle": false,
     "tableResultSettingsMap": {},
     "title": ""
    }
   },
   "source": [
    "### C1. Explore the Data\n",
    "In this lab, we will be using airline flight data that has been saved in three different ways:\n",
    "- **flights**: OPTIMIZED with a ZORDER on **FlightNum**.\n",
    "- **flights_cluster_id**: Liquid clustered using the **id** column.\n",
    "- **flights_cluster_id_flightnum**: Liquid clustered by two columns (**id** and **FlightNum**).\n",
    "\n",
    "Each table contains the exact same data.\n"
   ]
  },
  {
   "cell_type": "markdown",
   "metadata": {
    "application/vnd.databricks.v1+cell": {
     "cellMetadata": {},
     "inputWidgets": {},
     "nuid": "1ada90c5-3733-483b-956a-47dfdb64baa7",
     "showTitle": false,
     "tableResultSettingsMap": {},
     "title": ""
    }
   },
   "source": [
    "1. Preview the **flights** table. Notice that it contains the following columns: **id, year, FlightNum, ArrDelay, UniqueCarrier, TailNum**.\n"
   ]
  },
  {
   "cell_type": "code",
   "execution_count": 0,
   "metadata": {
    "application/vnd.databricks.v1+cell": {
     "cellMetadata": {},
     "inputWidgets": {},
     "nuid": "c248b8f0-0842-4d45-9c3f-a0aa953c88ba",
     "showTitle": false,
     "tableResultSettingsMap": {},
     "title": ""
    }
   },
   "outputs": [],
   "source": [
    "SELECT * \n",
    "FROM flights\n",
    "LIMIT 10;"
   ]
  },
  {
   "cell_type": "markdown",
   "metadata": {
    "application/vnd.databricks.v1+cell": {
     "cellMetadata": {},
     "inputWidgets": {},
     "nuid": "734dc875-5463-4bf7-9c3a-acd2d2f0201d",
     "showTitle": false,
     "tableResultSettingsMap": {},
     "title": ""
    }
   },
   "source": [
    "2. Count the number of rows in each of the flight tables (**flights, flights_cluster_id, flights_cluster_id_flightnum**) to confirm that the number of rows in each table is *1,235,347,780*.\n",
    "\n",
    "    Each table contains the same data but is stored differently.\n"
   ]
  },
  {
   "cell_type": "code",
   "execution_count": 0,
   "metadata": {
    "application/vnd.databricks.v1+cell": {
     "cellMetadata": {},
     "inputWidgets": {},
     "nuid": "01a83031-adc9-4b65-97b5-37a357fdf8fc",
     "showTitle": false,
     "tableResultSettingsMap": {},
     "title": ""
    }
   },
   "outputs": [],
   "source": [
    "SELECT 'flights', count(*) AS TotalRows\n",
    "FROM flights\n",
    "UNION ALL\n",
    "SELECT 'flights_cluster_id', count(*) AS TotalRows\n",
    "FROM flights_cluster_id\n",
    "UNION ALL\n",
    "SELECT 'flights_cluster_id_flightnum', count(*) AS TotalRows\n",
    "FROM flights_cluster_id_flightnum;"
   ]
  },
  {
   "cell_type": "markdown",
   "metadata": {
    "application/vnd.databricks.v1+cell": {
     "cellMetadata": {},
     "inputWidgets": {},
     "nuid": "c9865973-ebb4-4634-b893-b8cbe73ce175",
     "showTitle": false,
     "tableResultSettingsMap": {},
     "title": ""
    }
   },
   "source": [
    "### C2. Query Performance with ZORDER"
   ]
  },
  {
   "cell_type": "markdown",
   "metadata": {
    "application/vnd.databricks.v1+cell": {
     "cellMetadata": {},
     "inputWidgets": {},
     "nuid": "1eb09246-a60f-479d-9c2d-04f342250c83",
     "showTitle": false,
     "tableResultSettingsMap": {},
     "title": ""
    }
   },
   "source": [
    "1. Execute the cell below to view the history of the **flights** table. In the output, observe the following:\n",
    "- In the **operation** column, find the version (row) of the Delta table that has been *OPTIMIZED*.\n",
    "\n",
    "- In the **operationParameters** column, notice that the **flights** table has been optimized with a ZORDER on the **FlightNum** column. Z-ordering is a technique used to colocate related information in the same set of files.\n",
    "\n",
    "- In the **operationMetrics** column, observe that the OPTIMIZED statement removed (*numRemovedFiles*) *160* files and added (*numAddedFiles*) *31* files to optimize the storage of the table.\n"
   ]
  },
  {
   "cell_type": "code",
   "execution_count": 0,
   "metadata": {
    "application/vnd.databricks.v1+cell": {
     "cellMetadata": {},
     "inputWidgets": {},
     "nuid": "c113ad39-fc28-4841-999c-26664d085e3b",
     "showTitle": false,
     "tableResultSettingsMap": {},
     "title": ""
    }
   },
   "outputs": [],
   "source": [
    "DESCRIBE HISTORY flights;"
   ]
  },
  {
   "cell_type": "markdown",
   "metadata": {
    "application/vnd.databricks.v1+cell": {
     "cellMetadata": {},
     "inputWidgets": {},
     "nuid": "63867e74-c502-4fe1-af5b-56917aff073b",
     "showTitle": false,
     "tableResultSettingsMap": {},
     "title": ""
    }
   },
   "source": [
    "#### C2.1 Unique Carrier Column Query\n",
    "1. Run the following query to analyze the average arrival delay in flights by querying the **UniqueCarrier** column for the *TW* airline. Take note of the time it took for the query to execute.\n",
    "\n",
    "**NOTE:** The **flights** table contains a ZORDER on **FlightNum**."
   ]
  },
  {
   "cell_type": "code",
   "execution_count": 0,
   "metadata": {
    "application/vnd.databricks.v1+cell": {
     "cellMetadata": {},
     "inputWidgets": {},
     "nuid": "027ab602-5e74-428a-a42f-90c4ca3874c8",
     "showTitle": false,
     "tableResultSettingsMap": {},
     "title": ""
    }
   },
   "outputs": [],
   "source": [
    "-- Perform the SELECT operation with the AVG operation on the 'ArrDelay' column and the 'UniqueCarrier' set to 'TW'.\n",
    "\n",
    "SELECT AVG(ArrDelay)\n",
    "FROM flights\n",
    "WHERE UniqueCarrier = 'TW';"
   ]
  },
  {
   "cell_type": "markdown",
   "metadata": {
    "application/vnd.databricks.v1+cell": {
     "cellMetadata": {},
     "inputWidgets": {},
     "nuid": "5e8294ea-bf1c-4f7e-a237-41175295c5e4",
     "showTitle": false,
     "tableResultSettingsMap": {},
     "title": ""
    }
   },
   "source": [
    "\n",
    "Let's see how this query performed using the Spark UI. Note in particular the amount of cloud storage requests and their associated time. To view how the query performed complete the following:\n",
    "\n",
    "1. In the cell above, expand **Spark Jobs**.\n",
    "\n",
    "2. Right click on **View** and select *Open in a New Tab*. \n",
    "\n",
    "    **NOTE:** In the Vocareum lab environment if you click **View** without opening it in a new tab the pop up window will display an error.\n",
    "\n",
    "3. In the new window, find the **Associated SQL Query** header at the top and select the number.\n",
    "\n",
    "4. Here you should see the entire query plan.\n",
    "\n",
    "5. In the query plan, scroll down to the bottom and find **PhotonScan parquet dbacademy_flightdata.v01.flights (1)** and select the plus icon.\n",
    "\n",
    "\n",
    "\n",
    "#### Look at the following metrics in the Spark UI (results may vary slightly):\n",
    "| Metric    | Value    | Note    |\n",
    "|-------------|-------------|-------------|\n",
    "| cloud storage request count total (min, med, max)| 149 (3, 3, 18)|  Refers to the number of requests made to the cloud storage systems like S3, Azure Blob, or Google Cloud Storage during job execution. This could involve multiple operations like reading metadata, accessing directories, or fetching the actual data.<br></br>Monitoring this metric helps optimize performance, reduce costs, and identify potential inefficiencies in data access patterns.|\n",
    "| cloud storage response size total (min, med, max)|1068.4 MiB (336.6 KiB, 45.7 MiB, 50.7 MiB)| Indicates the total amount of data transferred from cloud storage to Spark during the execution of a job. It helps track the volume of data read or written to cloud storage, providing insights into I/O performance and potential bottlenecks related to data transfer.<br></br> The data transferred ranged from small to large requests, with an average response size around 45.7 MiB.|\n",
    "| files pruned | 0 |A total of 0 files were skipped by Spark due to pruning based on the query's filters. This is due to the table being z-ordered by **FlightNum** but queried by the **UniqueCarrier** column.|\n",
    "| files read | 31| All 31 files were read during the execution of the Spark job.|\n",
    "\n",
    "\n",
    "#### Summary\n",
    "This table was Z-ordered by **FlightNum** but queried by the **UniqueCarrier** column. Spark needs to read all of the files to filter the table and return a single row. On average, this query will take about ~10 seconds to complete.\n"
   ]
  },
  {
   "cell_type": "markdown",
   "metadata": {
    "application/vnd.databricks.v1+cell": {
     "cellMetadata": {},
     "inputWidgets": {},
     "nuid": "e1191deb-51e1-4965-a7a1-260435b0e4ce",
     "showTitle": false,
     "tableResultSettingsMap": {},
     "title": ""
    }
   },
   "source": [
    "#### C2.2 FlightNum Column (ZORDER column) Query\n",
    "1. Run the following query to analyze the average arrival delay by flight number (**FlightNum**) *1809*. Take note of the time it took for the query to execute.\n"
   ]
  },
  {
   "cell_type": "code",
   "execution_count": 0,
   "metadata": {
    "application/vnd.databricks.v1+cell": {
     "cellMetadata": {},
     "inputWidgets": {},
     "nuid": "857ca8d3-7d84-47ea-876c-30f4a9f4d75c",
     "showTitle": false,
     "tableResultSettingsMap": {},
     "title": ""
    }
   },
   "outputs": [],
   "source": [
    "-- Perform the SELECT operation with the AVG operation on the 'ArrDelay' column and the 'FlightNum' set to '1890'.\n",
    "SELECT AVG(ArrDelay) \n",
    "FROM flights\n",
    "WHERE FlightNum = 1890"
   ]
  },
  {
   "cell_type": "markdown",
   "metadata": {
    "application/vnd.databricks.v1+cell": {
     "cellMetadata": {},
     "inputWidgets": {},
     "nuid": "b2fc3180-4e15-41ab-a8cc-984f1eaa46ae",
     "showTitle": false,
     "tableResultSettingsMap": {},
     "title": ""
    }
   },
   "source": [
    "Let's see how this query performed using the Spark UI. Note in particular the amount of cloud storage requests and their associated time. To view how the query performed complete the following:\n",
    "\n",
    "1. In the cell above, expand **Spark Jobs**.\n",
    "\n",
    "2. Right click on **View** and select *Open in a New Tab*. \n",
    "\n",
    "    **NOTE:** In the Vocareum lab environment if you click **View** without opening it in a new tab the pop up window will display an error.\n",
    "\n",
    "3. In the new window, find the **Associated SQL Query** header at the top and select the number.\n",
    "\n",
    "4. Here you should see the entire query plan.\n",
    "\n",
    "5. In the query plan, scroll down to the bottom and find **PhotonScan parquet dbacademy_flightdata.v01.flights (1)** and select the plus icon.\n",
    "\n",
    "\n",
    "\n",
    "#### Look at the following metrics in the Spark UI (results may vary slightly):\n",
    "| Metric    | Value    | Note    |\n",
    "|-------------|-------------|-------------|\n",
    "| cloud storage request count total (min, med, max)| 6 (3, 3, 3)|  Refers to the number of requests made to the cloud storage systems like S3, Azure Blob, or Google Cloud Storage during job execution. This could involve multiple operations like reading metadata, accessing directories, or fetching the actual data.|\n",
    "| cloud storage response size total (min, med, max)|53.5 MiB (26.3 MiB, 27.2 MiB, 27.2 MiB)| Indicates the total amount of data transferred from cloud storage to Spark during the execution of a job. It helps track the volume of data read or written to cloud storage, providing insights into I/O performance and potential bottlenecks related to data transfer.<br></br> The min, med and max suggest that the cloud storage requests were relatively consistent in size.|\n",
    "| files pruned | 30 |A total of 30 files were skipped by Spark due to pruning based on the query's filters. This is due to the table being z-ordered by **FlightNum** and queried by the **FlightNum** column.|\n",
    "| files read | 1| Only 1 file was read during the execution of the Spark job.|\n",
    "\n",
    "\n",
    "#### Summary\n",
    "This table was Z-ordered by **FlightNum** and queried by the **FlightNum** column. In this scenario, the files were organized by **FlightNum** and queried by **FlightNum**, so it was optimized for the query to efficiently read the necessary files. On average, this query will take about ~2 seconds to complete.\n"
   ]
  },
  {
   "cell_type": "markdown",
   "metadata": {
    "application/vnd.databricks.v1+cell": {
     "cellMetadata": {},
     "inputWidgets": {},
     "nuid": "3409be9e-7042-4d66-a607-c3c91261c9eb",
     "showTitle": false,
     "tableResultSettingsMap": {},
     "title": ""
    }
   },
   "source": [
    "#### C2.3 id Column Query\n",
    "1. Run the following query to analyze the records in the flight table with the **id** *1125281431554*. Take note of the time it took for the query to execute.\n",
    "\n"
   ]
  },
  {
   "cell_type": "code",
   "execution_count": 0,
   "metadata": {
    "application/vnd.databricks.v1+cell": {
     "cellMetadata": {},
     "inputWidgets": {},
     "nuid": "b070a0d8-ac9e-470d-b0dd-90a74d51c272",
     "showTitle": false,
     "tableResultSettingsMap": {},
     "title": ""
    }
   },
   "outputs": [],
   "source": [
    "SELECT * \n",
    "FROM flights\n",
    "WHERE id = 1125281431554;"
   ]
  },
  {
   "cell_type": "markdown",
   "metadata": {
    "application/vnd.databricks.v1+cell": {
     "cellMetadata": {},
     "inputWidgets": {},
     "nuid": "53ec0bd9-f798-4659-9b9e-6a9fcf16c91b",
     "showTitle": false,
     "tableResultSettingsMap": {},
     "title": ""
    }
   },
   "source": [
    "Let's see how this query performed using the Spark UI. Note in particular the amount of cloud storage requests and their associated time. To view how the query performed complete the following:\n",
    "\n",
    "1. In the cell above, expand **Spark Jobs**.\n",
    "\n",
    "2. Right click on **View** and select *Open in a New Tab*. \n",
    "\n",
    "    **NOTE:** In the Vocareum lab environment if you click **View** without opening it in a new tab the pop up window will display an error.\n",
    "\n",
    "3. In the new window, find the **Associated SQL Query** header at the top and select the number.\n",
    "\n",
    "4. Here you should see the entire query plan.\n",
    "\n",
    "5. In the query plan, scroll down to the bottom and find **PhotonScan parquet dbacademy_flightdata.v01.flights (1)** and select the plus icon.\n",
    "\n",
    "\n",
    "\n",
    "#### Look at the following metrics in the Spark UI (results may vary slightly):\n",
    "| Metric    | Value    | Note    |\n",
    "|-------------|-------------|-------------|\n",
    "| cloud storage request count total (min, med, max)| 267 (1, 4, 14)| Refers to the number of requests made to the cloud storage systems like S3, Azure Blob, or Google Cloud Storage during job execution. This could involve multiple operations like reading metadata, accessing directories, or fetching the actual data.|\n",
    "| **cloud storage response size total (min, med, max)**|**4.7 GiB (256.0 KiB, 72.5 MiB, 101.1 MiB)**| Indicates the total amount of data transferred from cloud storage to Spark during the execution of a job. It helps track the volume of data read or written to cloud storage, providing insights into I/O performance and potential bottlenecks related to data transfer.<br></br> The total data transferred is extremely large at around 4.7 GiB and the individual request sizes vary greatly.|\n",
    "| files pruned | 0 |A total of 0 files were skipped by Spark due to pruning based on the query's filters. This is due to the table being z-ordered by **FlightNum** and queried by the high cardinality **id** column.|\n",
    "| files read | 31| All files were read during the execution of the Spark job.|\n",
    "\n",
    "\n",
    "#### Summary\n",
    "This table was Z-ordered by **FlightNum** and queried by the **id** column. The **id** column is a high-cardinality column, which causes the query to:\n",
    "- Have a very large cloud storage response size.\n",
    "- Read every file.\n",
    "- Run for around ~28 seconds."
   ]
  },
  {
   "cell_type": "markdown",
   "metadata": {
    "application/vnd.databricks.v1+cell": {
     "cellMetadata": {},
     "inputWidgets": {},
     "nuid": "1e61bf00-8773-43ab-a477-c943b30eee07",
     "showTitle": false,
     "tableResultSettingsMap": {},
     "title": ""
    }
   },
   "source": [
    "### C3. Explore Liquid Clustering on Tables\n",
    "Delta Lake liquid clustering replaces table partitioning and ZORDER to simplify data layout decisions and optimize query performance. It provides flexibility to redefine clustering keys without rewriting existing data, allowing data layout to evolve alongside analytic needs over time.  \n",
    "\n",
    "Databricks recommends liquid clustering for all new Delta tables. Scenarios benefiting from clustering include:\n",
    "\n",
    "* Tables often filtered by high cardinality columns.\n",
    "* Tables with a significant skew in data distribution.\n",
    "* Tables that grow quickly and require maintenance and tuning effort.\n",
    "* Tables with concurrent write requirements.\n",
    "* Tables with access patterns that change over time.\n",
    "* Tables where a typical partition key could leave the table with too many or too few partitions.\n",
    "\n",
    "For more information on how to enable the liquid clustering, refer to the [documentation](https://docs.databricks.com/en/delta/clustering.html#enable-liquid-clustering)\n",
    "\n",
    "**NOTE:** These queries on the ZORDERED table are already quite fast without using clustering, considering we are using a small cluster, and the tables are not extremely large. But there is room for improvement."
   ]
  },
  {
   "cell_type": "markdown",
   "metadata": {
    "application/vnd.databricks.v1+cell": {
     "cellMetadata": {},
     "inputWidgets": {},
     "nuid": "f991fad0-819e-419f-b698-cdda5eed3a34",
     "showTitle": false,
     "tableResultSettingsMap": {},
     "title": ""
    }
   },
   "source": [
    "#### C3.1 Query Performance with Liquid Clustering (id column)\n",
    "Run the following three queries. These queries pull data from the **flights_cluster_id** table. This table is exactly the same as the one we used in the queries above, except that we have enabled liquid clustering by adding `CLUSTER BY (id)` when the table was created.  \n",
    "  \n",
    "Note the following:\n",
    "- When we query by the clustered column (**id**), we see an improvement in query performance\n",
    "- We don't see a degradation in performance on queries against unclustered columns  \n"
   ]
  },
  {
   "cell_type": "markdown",
   "metadata": {
    "application/vnd.databricks.v1+cell": {
     "cellMetadata": {},
     "inputWidgets": {},
     "nuid": "9172b81d-62af-4799-9977-744a66a8c6b2",
     "showTitle": false,
     "tableResultSettingsMap": {},
     "title": ""
    }
   },
   "source": [
    "1. Execute the cell below to view the history of the **flights_cluster_id** table. In the output, observe the following:\n",
    "- In the **operationParameters** column, notice that the **flights_cluster_id** table has been optimized with a *clusterBy* on the **ID** column.\n",
    "\n",
    "- In the **operationMetrics** column, notice that the clustered table was created with *128* files.\n"
   ]
  },
  {
   "cell_type": "code",
   "execution_count": 0,
   "metadata": {
    "application/vnd.databricks.v1+cell": {
     "cellMetadata": {},
     "inputWidgets": {},
     "nuid": "777b7b2b-0ecf-4487-9a6e-c9731393b02e",
     "showTitle": false,
     "tableResultSettingsMap": {},
     "title": ""
    }
   },
   "outputs": [],
   "source": [
    "DESCRIBE HISTORY flights_cluster_id;"
   ]
  },
  {
   "cell_type": "markdown",
   "metadata": {
    "application/vnd.databricks.v1+cell": {
     "cellMetadata": {},
     "inputWidgets": {},
     "nuid": "df43a202-cd5a-4a97-8cde-219b5f2b1670",
     "showTitle": false,
     "tableResultSettingsMap": {},
     "title": ""
    }
   },
   "source": [
    "2. View detailed metadata about the **flights_cluster_id** table. Notice the following:\n",
    "- The table contains the same 6 columns.\n",
    "- Under *#Clustering Information*, we see that the table is clustered by **id**.\n",
    "- At the bottom of the results, the **Table Properties** contain a variety of properties for liquid clustering."
   ]
  },
  {
   "cell_type": "code",
   "execution_count": 0,
   "metadata": {
    "application/vnd.databricks.v1+cell": {
     "cellMetadata": {},
     "inputWidgets": {},
     "nuid": "0ef6b846-e723-4d45-b6bd-7127464376a8",
     "showTitle": false,
     "tableResultSettingsMap": {},
     "title": ""
    }
   },
   "outputs": [],
   "source": [
    "DESCRIBE TABLE EXTENDED flights_cluster_id;"
   ]
  },
  {
   "cell_type": "markdown",
   "metadata": {
    "application/vnd.databricks.v1+cell": {
     "cellMetadata": {},
     "inputWidgets": {},
     "nuid": "14e40b13-1043-4daf-a4a3-313650b1db4e",
     "showTitle": false,
     "tableResultSettingsMap": {},
     "title": ""
    }
   },
   "source": [
    "##### C3.1.1 Unique Carrier Column Query\n",
    "1. Run the following query to analyze the average arrival delay in flights for the *TW* airline. Take note of the time it took for the query to execute.\n",
    "\n",
    "    **NOTE:** The **flights_cluster_id** table is clustered by **id**.\n"
   ]
  },
  {
   "cell_type": "code",
   "execution_count": 0,
   "metadata": {
    "application/vnd.databricks.v1+cell": {
     "cellMetadata": {},
     "inputWidgets": {},
     "nuid": "911751f8-c40e-449e-8878-fff360f13447",
     "showTitle": false,
     "tableResultSettingsMap": {},
     "title": ""
    }
   },
   "outputs": [],
   "source": [
    "-- Perform the SELECT operation on the 'flights_cluster_id' table with the AVG operation on the 'ArrDelay' column and the 'UniqueCarrier' set to 'TW'.\n",
    "SELECT AVG(ArrDelay) \n",
    "FROM flights_cluster_id\n",
    "WHERE UniqueCarrier = 'TW';"
   ]
  },
  {
   "cell_type": "markdown",
   "metadata": {
    "application/vnd.databricks.v1+cell": {
     "cellMetadata": {},
     "inputWidgets": {},
     "nuid": "33b03451-7d6b-4000-9ae1-abb5d57860e1",
     "showTitle": false,
     "tableResultSettingsMap": {},
     "title": ""
    }
   },
   "source": [
    "Let's see how this query performed using the Spark UI. Note in particular the amount of cloud storage requests and their associated time. To view how the query performed complete the following:\n",
    "\n",
    "1. In the cell above, expand **Spark Jobs**.\n",
    "\n",
    "2. Right click on **View** and select *Open in a New Tab*. \n",
    "\n",
    "    **NOTE:** In the Vocareum lab environment if you click **View** without opening it in a new tab the pop up window will display an error.\n",
    "\n",
    "3. In the new window, find the **Associated SQL Query** header at the top and select the number.\n",
    "\n",
    "4. Here you should see the entire query plan.\n",
    "\n",
    "5. In the query plan, scroll down to the bottom and find **PhotonScan parquet dbacademy_flightdata.v01.flights_cluster_id (1)** and select the plus icon.\n",
    "\n",
    "\n",
    "\n",
    "#### Look at the following metrics in the Spark UI (results may vary slightly):\n",
    "| Metric    | Value    | Note    |\n",
    "|-------------|-------------|-------------|\n",
    "| cloud storage request count total (min, med, max)| 316 (4, 8, 12)|  Refers to the number of requests made to the cloud storage systems like S3, Azure Blob, or Google Cloud Storage during job execution. This could involve multiple operations like reading metadata, accessing directories, or fetching the actual data.|\n",
    "| cloud storage response size total (min, med, max)|1047.8 MiB (601.0 KiB, 27.5 MiB, 47.2 MiB) | Indicates the total amount of data transferred from cloud storage to Spark during the execution of a job. It helps track the volume of data read or written to cloud storage, providing insights into I/O performance and potential bottlenecks related to data transfer.|\n",
    "| files pruned | 0 |A total of 0 files were skipped by Spark due to pruning based on the query's filters.|\n",
    "| files read | 128 | All files were read during the execution of the Spark job.|\n",
    "\n",
    "\n",
    "#### Summary\n",
    "This table was clustered by **id** and queried by the **UniqueCarrier** column, taking about ~10 seconds to execute. The execution time and cloud storage response size are very similar to the query on the optimized **flights** table with a ZORDER on **FlightNum**.\n"
   ]
  },
  {
   "cell_type": "markdown",
   "metadata": {
    "application/vnd.databricks.v1+cell": {
     "cellMetadata": {},
     "inputWidgets": {},
     "nuid": "0a52b033-d0bb-4224-97d2-3ff3b381e3a0",
     "showTitle": false,
     "tableResultSettingsMap": {},
     "title": ""
    }
   },
   "source": [
    "##### C3.1.2 FlightNum Column Query\n",
    "1. Run the following query to analyze the average arrival delay by flight number (**FlightNum**) *1809*. Take note of the time it took for the query to execute.\n"
   ]
  },
  {
   "cell_type": "code",
   "execution_count": 0,
   "metadata": {
    "application/vnd.databricks.v1+cell": {
     "cellMetadata": {},
     "inputWidgets": {},
     "nuid": "5649ff60-4056-4e8a-acc7-fdc05014597d",
     "showTitle": false,
     "tableResultSettingsMap": {},
     "title": ""
    }
   },
   "outputs": [],
   "source": [
    "-- Perform the SELECT operation on the 'flights_cluster_id' table with the AVG operation on the 'ArrDelay' column and the 'FlightNum' set to '1890'.\n",
    "SELECT AVG(ArrDelay) \n",
    "FROM flights_cluster_id\n",
    "WHERE FlightNum = 1890;"
   ]
  },
  {
   "cell_type": "markdown",
   "metadata": {
    "application/vnd.databricks.v1+cell": {
     "cellMetadata": {},
     "inputWidgets": {},
     "nuid": "3d6d0dc0-f889-4a7b-85ad-2ab3bbcf59cb",
     "showTitle": false,
     "tableResultSettingsMap": {},
     "title": ""
    }
   },
   "source": [
    "Let's see how this query performed using the Spark UI. Note in particular the amount of cloud storage requests and their associated time. To view how the query performed complete the following:\n",
    "\n",
    "1. In the cell above, expand **Spark Jobs**.\n",
    "\n",
    "2. Right click on **View** and select *Open in a New Tab*. \n",
    "\n",
    "    **NOTE:** In the Vocareum lab environment if you click **View** without opening it in a new tab the pop up window will display an error.\n",
    "\n",
    "3. In the new window, find the **Associated SQL Query** header at the top and select the number.\n",
    "\n",
    "4. Here you should see the entire query plan.\n",
    "\n",
    "5. In the query plan, scroll down to the bottom and find **PhotonScan parquet dbacademy_flightdata.v01.flights_cluster_id (1)** and select the plus icon.\n",
    "\n",
    "\n",
    "\n",
    "#### Look at the following metrics in the Spark UI (results may vary slightly):\n",
    "| Metric    | Value    | Note    |\n",
    "|-------------|-------------|-------------|\n",
    "| cloud storage request count total (min, med, max)| \t275 (4, 12, 15)|Refers to the number of requests made to the cloud storage systems like S3, Azure Blob, or Google Cloud Storage during job execution. This could involve multiple operations like reading metadata, accessing directories, or fetching the actual data.|\n",
    "| cloud storage response size total (min, med, max)|1871.3 MiB (22.8 MiB, 85.3 MiB, 94.2 MiB) | Indicates the total amount of data transferred from cloud storage to Spark during the execution of a job. It helps track the volume of data read or written to cloud storage, providing insights into I/O performance and potential bottlenecks related to data transfer.|\n",
    "| files pruned | 0 |A total of 0 files were skipped by Spark due to pruning based on the query's filters. This is due to the table being clustered by **id** and queried by the **FlightNum** column.|\n",
    "| files read | 128 | All files were read during the execution of the Spark job.|\n",
    "\n",
    "\n",
    "#### Summary\n",
    "This table was clustered by **id** and queried by the **FlightNum** column, taking about ~10 seconds to execute. This query took a bit longer to execute, and the cloud storage response size was much larger than the query on the optimized **flights** table with a ZORDER on **FlightNum**.\n"
   ]
  },
  {
   "cell_type": "markdown",
   "metadata": {
    "application/vnd.databricks.v1+cell": {
     "cellMetadata": {},
     "inputWidgets": {},
     "nuid": "54ac68d2-dd4d-42bc-a085-679233e4e08d",
     "showTitle": false,
     "tableResultSettingsMap": {},
     "title": ""
    }
   },
   "source": [
    "##### C3.1.3 id Column Query\n",
    "1. Run the following query to analyze the records in the flight table with the **id** `1125281431554`. Take note of the time it took for the query to execute. Remember, the query on the **id** column in the **flights** table took about ~28 seconds to execute.\n"
   ]
  },
  {
   "cell_type": "code",
   "execution_count": 0,
   "metadata": {
    "application/vnd.databricks.v1+cell": {
     "cellMetadata": {},
     "inputWidgets": {},
     "nuid": "3eb03f31-a6b5-440d-9f37-7f9b2f026a77",
     "showTitle": false,
     "tableResultSettingsMap": {},
     "title": ""
    }
   },
   "outputs": [],
   "source": [
    "SELECT * \n",
    "FROM flights_cluster_id\n",
    "WHERE id = 1125281431554"
   ]
  },
  {
   "cell_type": "markdown",
   "metadata": {
    "application/vnd.databricks.v1+cell": {
     "cellMetadata": {},
     "inputWidgets": {},
     "nuid": "a113c297-3d22-4c32-a70b-4298610010e7",
     "showTitle": false,
     "tableResultSettingsMap": {},
     "title": ""
    }
   },
   "source": [
    "Let's see how this query performed using the Spark UI. Note in particular the amount of cloud storage requests and their associated time. To view how the query performed complete the following:\n",
    "\n",
    "1. In the cell above, expand **Spark Jobs**.\n",
    "\n",
    "2. Right click on **View** and select *Open in a New Tab*. \n",
    "\n",
    "    **NOTE:** In the Vocareum lab environment if you click **View** without opening it in a new tab the pop up window will display an error.\n",
    "\n",
    "3. In the new window, find the **Associated SQL Query** header at the top and select the number.\n",
    "\n",
    "4. Here you should see the entire query plan.\n",
    "\n",
    "5. In the query plan, scroll down to the bottom and find **PhotonScan parquet dbacademy_flightdata.v01.flights_cluster_id (1)** and select the plus icon.\n",
    "\n",
    "\n",
    "#### Look at the following metrics in the Spark UI (results may vary slightly):\n",
    "| Metric    | Value    | Note    |\n",
    "|-------------|-------------|-------------|\n",
    "| cloud storage request count total | 4| Refers to the number of requests made to the cloud storage systems like S3, Azure Blob, or Google Cloud Storage during job execution. This could involve multiple operations like reading metadata, accessing directories, or fetching the actual data.|\n",
    "| cloud storage response size total |54.5 MiB| Indicates the total amount of data transferred from cloud storage to Spark during the execution of a job. It helps track the volume of data read or written to cloud storage, providing insights into I/O performance and potential bottlenecks related to data transfer.|\n",
    "| files pruned | 127 |A total of 127 files were skipped by Spark due to pruning based on the query's filters. This is due to the table being clustered by **id** and queried by the **id** column.|\n",
    "| files read | 1| Only 1 file was read during the execution of the Spark job.|\n",
    "\n",
    "\n",
    "#### Summary\n",
    "This table was clustered by **id** and queried by the **id** column. This enables Spark to optimally read the data and execute in around ~2 seconds, compared to ~28 seconds for the **flights** table, which contained a ZORDER on **FlightNum** and was optimized. The cloud storage response size was also much smaller than 4.7 GiB.\n"
   ]
  },
  {
   "cell_type": "markdown",
   "metadata": {
    "application/vnd.databricks.v1+cell": {
     "cellMetadata": {},
     "inputWidgets": {},
     "nuid": "4ef181eb-41a2-40de-9fd6-0549c2a85eb1",
     "showTitle": false,
     "tableResultSettingsMap": {},
     "title": ""
    }
   },
   "source": [
    "#### C3.2 Query Performance with Liquid Clustering (id and flight_num columns)\n",
    "Run the following three queries. These queries pull data from the **flights_cluster_id_flightnum** table. This table is clustered by both the **id** and **flight_num** columns.  \n",
    "\n",
    "Note the following:\n",
    "- We still don't have any degradation on unclustered columns. Had we used `PARTITION BY` to partition by **FlightNum** and **id**, we would see massive slowdown for any queries not on those columns, and writes would be prohibitively slow for this volume of data\n",
    "- Now queries on **FlightNum** are improved\n",
    "- Queries are a little slower on **id** now, however and we can look at the DAG to see why.\n",
    "\n",
    "Note that, because  we had to read more files to satisfy this request. There is a (small) cost to clustering on more columns, so choose wisely."
   ]
  },
  {
   "cell_type": "markdown",
   "metadata": {
    "application/vnd.databricks.v1+cell": {
     "cellMetadata": {},
     "inputWidgets": {},
     "nuid": "0a408816-065e-41a7-af97-6eb73a2c3a5e",
     "showTitle": false,
     "tableResultSettingsMap": {},
     "title": ""
    }
   },
   "source": [
    "1. Execute the cell below to view the history of the **flights_cluster_id_flightnum** table. In the output, observe the following:\n",
    "- In the **operationParameters** column, notice that the **flights_cluster_id_flightnum** table has been optimized with a *clusterBy* on the **id** and **FlightNum** columns.\n",
    "- In the **operationMetrics** column, notice that the clustered table was created with *144* files.\n"
   ]
  },
  {
   "cell_type": "code",
   "execution_count": 0,
   "metadata": {
    "application/vnd.databricks.v1+cell": {
     "cellMetadata": {},
     "inputWidgets": {},
     "nuid": "148427a9-5414-44b7-ab8c-f5c324a30480",
     "showTitle": false,
     "tableResultSettingsMap": {},
     "title": ""
    }
   },
   "outputs": [],
   "source": [
    "DESCRIBE HISTORY flights_cluster_id_flightnum"
   ]
  },
  {
   "cell_type": "markdown",
   "metadata": {
    "application/vnd.databricks.v1+cell": {
     "cellMetadata": {},
     "inputWidgets": {},
     "nuid": "573f9795-518b-4f0b-86d4-954d823d72db",
     "showTitle": false,
     "tableResultSettingsMap": {},
     "title": ""
    }
   },
   "source": [
    "2. View detailed metadata about the **flights_cluster_id_flightnum** table. Notice the following:\n",
    "- Under *#Clustering Information*, we see that the table is clustered by **id** and **FlightNum**.\n",
    "- At the bottom of the results, the **Table Properties** contain a variety of properties for liquid clustering.\n"
   ]
  },
  {
   "cell_type": "code",
   "execution_count": 0,
   "metadata": {
    "application/vnd.databricks.v1+cell": {
     "cellMetadata": {},
     "inputWidgets": {},
     "nuid": "386979c3-9e0a-4334-bac3-8e2473d44047",
     "showTitle": false,
     "tableResultSettingsMap": {},
     "title": ""
    }
   },
   "outputs": [],
   "source": [
    "DESCRIBE TABLE EXTENDED flights_cluster_id_flightnum;"
   ]
  },
  {
   "cell_type": "markdown",
   "metadata": {
    "application/vnd.databricks.v1+cell": {
     "cellMetadata": {},
     "inputWidgets": {},
     "nuid": "77218d38-fd67-4062-9d54-79256b83cc6a",
     "showTitle": false,
     "tableResultSettingsMap": {},
     "title": ""
    }
   },
   "source": [
    "##### C3.2.1 Unique Carrier Column Query\n",
    "1. Run the following query to analyze the average arrival delay in flights for the *TW* airline. Take note of the time it took for the query to execute.\n"
   ]
  },
  {
   "cell_type": "code",
   "execution_count": 0,
   "metadata": {
    "application/vnd.databricks.v1+cell": {
     "cellMetadata": {},
     "inputWidgets": {},
     "nuid": "3598917f-126d-4c8d-9914-f39bcb04ccd9",
     "showTitle": false,
     "tableResultSettingsMap": {},
     "title": ""
    }
   },
   "outputs": [],
   "source": [
    "-- Perform the SELECT operation on the 'flights_cluster_id' table with the AVG operation on the 'ArrDelay' column and the 'UniqueCarrier' set to 'TW'.\n",
    "SELECT AVG(ArrDelay) \n",
    "FROM flights_cluster_id_flightnum\n",
    "WHERE UniqueCarrier = 'TW';"
   ]
  },
  {
   "cell_type": "markdown",
   "metadata": {
    "application/vnd.databricks.v1+cell": {
     "cellMetadata": {},
     "inputWidgets": {},
     "nuid": "48c8b507-ccae-405a-9732-cd58b4dc080f",
     "showTitle": false,
     "tableResultSettingsMap": {},
     "title": ""
    }
   },
   "source": [
    "Let's see how this query performed using the Spark UI. Note in particular the amount of cloud storage requests and their associated time. To view how the query performed complete the following:\n",
    "\n",
    "1. In the cell above, expand **Spark Jobs**.\n",
    "\n",
    "2. Right click on **View** and select *Open in a New Tab*. \n",
    "\n",
    "    **NOTE:** In the Vocareum lab environment if you click **View** without opening it in a new tab the pop up window will display an error.\n",
    "\n",
    "3. In the new window, find the **Associated SQL Query** header at the top and select the number.\n",
    "\n",
    "4. Here you should see the entire query plan.\n",
    "\n",
    "5. In the query plan, scroll down to the bottom and find **PhotonScan parquet dbacademy_flightdata.v01.flights_cluster_id_flightnum (1)** and select the plus icon.\n",
    "\n",
    "\n",
    "\n",
    "#### Look at the following metrics in the Spark UI (results may vary slightly):\n",
    "| Metric    | Value    | Note    |\n",
    "|-------------|-------------|-------------|\n",
    "| cloud storage request count total (min, med, max)| 374 (3, 10, 14)| Refers to the number of requests made to the cloud storage systems like S3, Azure Blob, or Google Cloud Storage during job execution. This could involve multiple operations like reading metadata, accessing directories, or fetching the actual data.|\n",
    "| cloud storage response size total (min, med, max)|997.6 MiB (988.3 KiB, 27.0 MiB, 43.7 MiB) | Indicates the total amount of data transferred from cloud storage to Spark during the execution of a job. It helps track the volume of data read or written to cloud storage, providing insights into I/O performance and potential bottlenecks related to data transfer.|\n",
    "| files pruned | 0 |A total of 0 files were skipped by Spark due to pruning based on the query's filters. This is due to the table being clustered by **id** and **FlightNum** and queried by the **UniqueCarrier** column.|\n",
    "| files read | 144 | All files were read during the execution of the Spark job.|\n",
    "\n",
    "\n",
    "#### Summary\n",
    "This table was clustered by **id** and **FlightNum**, and queried by the **UniqueCarrier** column. This query should run in about ~10 seconds. Similar to the other two queries performed on the **UniqueCarrier** column."
   ]
  },
  {
   "cell_type": "markdown",
   "metadata": {
    "application/vnd.databricks.v1+cell": {
     "cellMetadata": {},
     "inputWidgets": {},
     "nuid": "34cbcdd2-7065-49bd-b5f8-9d6ff429b238",
     "showTitle": false,
     "tableResultSettingsMap": {},
     "title": ""
    }
   },
   "source": [
    "##### C3.2.2 FlightNum Column Query\n",
    "1. Run the following query to analyze the average arrival delay by flight number (**FlightNum**) *1809*. Take note of the time it took for the query to execute. Remember, the **flights_cluster_id_flightnum** table is clustered by **id** and **FlightNum**.\n"
   ]
  },
  {
   "cell_type": "code",
   "execution_count": 0,
   "metadata": {
    "application/vnd.databricks.v1+cell": {
     "cellMetadata": {},
     "inputWidgets": {},
     "nuid": "7acf68e9-c720-4f9b-ac50-14a750b0694e",
     "showTitle": false,
     "tableResultSettingsMap": {},
     "title": ""
    }
   },
   "outputs": [],
   "source": [
    "-- Perform the SELECT operation on the 'flights_cluster_id' table with the AVG operation on the 'ArrDelay' column and the 'FlightNum' set to '1890'.\n",
    "SELECT AVG(ArrDelay) \n",
    "FROM flights_cluster_id_flightnum\n",
    "WHERE FlightNum = 1890;"
   ]
  },
  {
   "cell_type": "markdown",
   "metadata": {
    "application/vnd.databricks.v1+cell": {
     "cellMetadata": {},
     "inputWidgets": {},
     "nuid": "f58b070b-76b8-40b0-b62b-29aae69c4f40",
     "showTitle": false,
     "tableResultSettingsMap": {},
     "title": ""
    }
   },
   "source": [
    "Let's see how this query performed using the Spark UI. Note in particular the amount of cloud storage requests and their associated time. To view how the query performed complete the following:\n",
    "\n",
    "1. In the cell above, expand **Spark Jobs**.\n",
    "\n",
    "2. Right click on **View** and select *Open in a New Tab*. \n",
    "\n",
    "    **NOTE:** In the Vocareum lab environment if you click **View** without opening it in a new tab the pop up window will display an error.\n",
    "\n",
    "3. In the new window, find the **Associated SQL Query** header at the top and select the number.\n",
    "\n",
    "4. Here you should see the entire query plan.\n",
    "\n",
    "5. In the query plan, scroll down to the bottom and find **PhotonScan parquet dbacademy_flightdata.v01.flights_cluster_id_flightnum (1)** and select the plus icon.\n",
    "\n",
    "\n",
    "\n",
    "#### Look at the following metrics in the Spark UI (results may vary slightly):\n",
    "| Metric    | Value    | Note    |\n",
    "|-------------|-------------|-------------|\n",
    "| cloud storage request count total (min, med, max)| 32 (4, 6, 6)|Refers to the number of requests made to the cloud storage systems like S3, Azure Blob, or Google Cloud Storage during job execution. This could involve multiple operations like reading metadata, accessing directories, or fetching the actual data.|\n",
    "| cloud storage response size total (min, med, max)|146.3 MiB (21.9 MiB, 24.9 MiB, 27.6 MiB) | Indicates the total amount of data transferred from cloud storage to Spark during the execution of a job. It helps track the volume of data read or written to cloud storage, providing insights into I/O performance and potential bottlenecks related to data transfer.|\n",
    "| files pruned | 132 |A total of 132 files were skipped by Spark due to pruning based on the query's filters. This is due to the table being clustered by **id** and **FlightNum**, and queried by the **FlightNum** column.|\n",
    "| files read | 12| Only 12 files were read during the execution of the Spark job.|\n",
    "\n",
    "\n",
    "#### Summary\n",
    "This table was clustered by **FlightNum** and **id** and queried by the **FlightNum** column. This enables Spark to optimize how it reads the data. This query should execute in around ~2 seconds, similar to the **flights** table with a ZORDER on **FlightNum**.\n"
   ]
  },
  {
   "cell_type": "markdown",
   "metadata": {
    "application/vnd.databricks.v1+cell": {
     "cellMetadata": {},
     "inputWidgets": {},
     "nuid": "ddf51841-7b1a-475e-8419-3c4d80ddd26a",
     "showTitle": false,
     "tableResultSettingsMap": {},
     "title": ""
    }
   },
   "source": [
    "##### C3.2.3 id Column Query\n",
    "1. Run the following query to analyze the records in the flight table with the **id** *1125281431554*. Take note of the time it took for the query to execute. Remember, the **flights_cluster_id_flightnum** table is clustered by **id** and **FlightNum**.\n",
    "\n",
    "    Notice how quickly this query executes compared to the **flights** table.\n"
   ]
  },
  {
   "cell_type": "code",
   "execution_count": 0,
   "metadata": {
    "application/vnd.databricks.v1+cell": {
     "cellMetadata": {},
     "inputWidgets": {},
     "nuid": "bb7b00fc-2e1e-4faa-8378-6f8b245f2874",
     "showTitle": false,
     "tableResultSettingsMap": {},
     "title": ""
    }
   },
   "outputs": [],
   "source": [
    "SELECT * \n",
    "FROM flights_cluster_id_flightnum\n",
    "WHERE id = 1125281431554"
   ]
  },
  {
   "cell_type": "markdown",
   "metadata": {
    "application/vnd.databricks.v1+cell": {
     "cellMetadata": {},
     "inputWidgets": {},
     "nuid": "bba98623-3d55-4d17-831d-02f1c104c142",
     "showTitle": false,
     "tableResultSettingsMap": {},
     "title": ""
    }
   },
   "source": [
    "Let's see how this query performed using the Spark UI. Note in particular the amount of cloud storage requests and their associated time. To view how the query performed complete the following:\n",
    "\n",
    "1. In the cell above, expand **Spark Jobs**.\n",
    "\n",
    "2. Right click on **View** and select *Open in a New Tab*. \n",
    "\n",
    "    **NOTE:** In the Vocareum lab environment if you click **View** without opening it in a new tab the pop up window will display an error.\n",
    "\n",
    "3. In the new window, find the **Associated SQL Query** header at the top and select the number.\n",
    "\n",
    "4. Here you should see the entire query plan.\n",
    "\n",
    "5. In the query plan, scroll down to the bottom and find **PhotonScan parquet dbacademy_flightdata.v01.flights_cluster_id_flightnum (1)** and select the plus icon.\n",
    "\n",
    "\n",
    "\n",
    "#### Look at the following metrics in the Spark UI (results may vary slightly):\n",
    "| Metric    | Value    | Note    |\n",
    "|-------------|-------------|-------------|\n",
    "| cloud storage request count total (min, med, max)| 29 (2, 6, 6)|  Tracks the number of read and write requests made to cloud storage systems like S3, Azure Blob, or Google Cloud Storage during job execution. Monitoring this metric helps optimize performance, reduce costs, and identify potential inefficiencies in data access patterns.|\n",
    "| cloud storage response size total (min, med, max)|370.9 MiB (27.3 MiB, 68.5 MiB, 71.5 MiB) | Indicates the total amount of data transferred from cloud storage to Spark during the execution of a job. It helps track the volume of data read or written to cloud storage, providing insights into I/O performance and potential bottlenecks related to data transfer.|\n",
    "| files pruned | 134 |A total of 134 files were skipped by Spark due to pruning based on the query's filters. This is due to the table being clustered by **FlightNum** and **id**, and queried by the  **id** column.|\n",
    "| files read | 10 | All files were read during the execution of the Spark job.|\n",
    "\n",
    "\n",
    "#### Liquid Clustering Summary\n",
    "This table was clustered by **FlightNum** and **id** and queried by the **id** column. This enables Spark to optimize how it reads the data. This query should execute in around 2 seconds, much faster than the **flights** table with a ZORDER on **FlightNum** using the same query (~28 seconds).\n",
    "\n",
    "<br></br>\n",
    "## NEWS! Automatic Liquid Clustering (Public Preview as of March 2025)!\n",
    "\n",
    "- [Announcing Automatic Liquid Clustering: Optimized data layout for up to 10x faster queries](https://www.databricks.com/blog/announcing-automatic-liquid-clustering) (Blog)\n",
    "\n",
    "- [Automatic liquid clustering](https://docs.databricks.com/aws/en/delta/clustering#automatic-liquid-clustering) documentation\n",
    "\n",
    "![LQ Auto](./Includes/images/Liquid-Clusters-OG.png)\n"
   ]
  },
  {
   "cell_type": "markdown",
   "metadata": {
    "application/vnd.databricks.v1+cell": {
     "cellMetadata": {},
     "inputWidgets": {},
     "nuid": "3493e502-6b43-4863-92f4-f511d9088fbb",
     "showTitle": false,
     "tableResultSettingsMap": {},
     "title": ""
    }
   },
   "source": [
    "### D. Lab Queries Summary (estimated average execution times below, execution times will vary)\n",
    "Please review the queries for each table below and compare some of the query statistics."
   ]
  },
  {
   "cell_type": "markdown",
   "metadata": {
    "application/vnd.databricks.v1+cell": {
     "cellMetadata": {},
     "inputWidgets": {},
     "nuid": "1dbf5cdb-aac3-4c96-81de-f46a20e16fc1",
     "showTitle": false,
     "tableResultSettingsMap": {},
     "title": ""
    }
   },
   "source": [
    "#### D1. Query by UniqueCarrier\n",
    "**NOTES:** No storage optimization was set on the **UniqueCarrier** column, so all files were read for each table during the query. Each query had similar cloud storage response sizes and execution times.\n",
    "\n",
    "|Table| Query | Total Files | Files Read | Files Pruned | Query Duration (will vary) | cloud storage request count total | cloud storage response size total |\n",
    "|----------|----------|----------|----------|----------|----------|----------|----------|\n",
    "|**ZORDER by FlightNum**| `WHERE UniqueCarrier = 'TW'`    | 31   |31   |0   | ~12 s | 149  | 1068 MiB |\n",
    "|**CLUSTER BY id**| `WHERE UniqueCarrier = 'TW'`   | 128  | 128   | 0  | ~10 s | 316 | 1047.8 MiB |\n",
    "|**CLUSTER BY (id, FlightNum)**| `WHERE UniqueCarrier = 'TW'`  | 144  | 144   | 0 | ~10 s | 374  | 997.6 MiB |"
   ]
  },
  {
   "cell_type": "markdown",
   "metadata": {
    "application/vnd.databricks.v1+cell": {
     "cellMetadata": {},
     "inputWidgets": {},
     "nuid": "14390cc4-6de7-45d4-a2e0-2eecf1153267",
     "showTitle": false,
     "tableResultSettingsMap": {},
     "title": ""
    }
   },
   "source": [
    "#### D2. Query by FlightNum\n",
    "**NOTES:** Notice that when the tables included **FlightNum** in a storage optimization technique, many of the files were pruned, increasing efficiency and speeding up execution times.\n",
    "\n",
    "The table that was only clustered by **id** ran slower, and the cloud storage response size was much larger.\n",
    "\n",
    "\n",
    "|Table| Query | Total Files | Files Read | Files Pruned | Query Duration (will vary) | cloud storage request count total | cloud storage response size total |\n",
    "|----------|----------|----------|----------|----------|----------|----------|----------|\n",
    "|**ZORDER by FlightNum**| `WHERE FlightNum = 1890`    | 31   |1   |30   | ~2 s | 6 |53.MiB |\n",
    "|**CLUSTER BY id**| `WHERE FlightNum = 1890`   | 128  | 128   | 0  | ~10 s\t |275  | **1871.3 MiB** |\n",
    "|**CLUSTER BY (id, FlightNum)**| `WHERE FlightNum = 1890`  | 144  | 12   | 132 | ~2 s| 32 | 146.3 MiB |\n",
    "\n"
   ]
  },
  {
   "cell_type": "markdown",
   "metadata": {
    "application/vnd.databricks.v1+cell": {
     "cellMetadata": {},
     "inputWidgets": {},
     "nuid": "4b193564-e1ef-45f8-9710-cc5a9d2e270c",
     "showTitle": false,
     "tableResultSettingsMap": {},
     "title": ""
    }
   },
   "source": [
    "#### D3. Query by id\n",
    "**NOTES:** Notice that when the tables included **id** in a storage optimization technique (both liquid clustered tables), many of the files were pruned, increasing efficiency, even in the table that is clustered by both **id** and **FlightNum**. \n",
    "\n",
    "You can also see that the cloud storage response size of each of the clustered tables was much smaller than the Z-ordered table by **FlightNum**.\n",
    "\n",
    "Also, notice that the Z-ordered table took an extremely long time to complete, and the cloud storage response size was much larger when querying the **id** column in the **flights** table.\n",
    "\n",
    "\n",
    "|Table| Query | Total Files | Files Read | Files Pruned | Query Duration (will vary) | cloud storage request count total | cloud storage response size total |\n",
    "|----------|----------|----------|----------|----------|----------|----------|----------|\n",
    "|**ZORDER by FlightNum**| `WHERE id = 1125281431554`     | 31   |31   |31   | **~28 s** |**267**  | **4.7 GiB** |\n",
    "|**CLUSTER BY id**| `WHERE id = 1125281431554`    | 128  | 1   | 127  | ~2 s | 4 |54.5 MiB |\n",
    "|**CLUSTER BY (id, FlightNum)**| `WHERE id = 1125281431554`   | 144  | 10   | 134 | ~2 s | 29 | 370.9 MiB |"
   ]
  },
  {
   "cell_type": "markdown",
   "metadata": {
    "application/vnd.databricks.v1+cell": {
     "cellMetadata": {},
     "inputWidgets": {},
     "nuid": "bdc5344d-d065-4de6-8448-c989bb4c55cd",
     "showTitle": false,
     "tableResultSettingsMap": {},
     "title": ""
    }
   },
   "source": [
    "\n",
    "&copy; 2025 Databricks, Inc. All rights reserved.<br/>\n",
    "Apache, Apache Spark, Spark and the Spark logo are trademarks of the \n",
    "<a href=\"https://www.apache.org/\">Apache Software Foundation</a>.<br/>\n",
    "<br/><a href=\"https://databricks.com/privacy-policy\">Privacy Policy</a> | \n",
    "<a href=\"https://databricks.com/terms-of-use\">Terms of Use</a> | \n",
    "<a href=\"https://help.databricks.com/\">Support</a>"
   ]
  }
 ],
 "metadata": {
  "application/vnd.databricks.v1+notebook": {
   "computePreferences": null,
   "dashboards": [],
   "environmentMetadata": null,
   "inputWidgetPreferences": null,
   "language": "sql",
   "notebookMetadata": {},
   "notebookName": "PO 1.2L - Data Skipping and Liquid Clustering",
   "widgets": {}
  },
  "language_info": {
   "name": "sql"
  }
 },
 "nbformat": 4,
 "nbformat_minor": 0
}