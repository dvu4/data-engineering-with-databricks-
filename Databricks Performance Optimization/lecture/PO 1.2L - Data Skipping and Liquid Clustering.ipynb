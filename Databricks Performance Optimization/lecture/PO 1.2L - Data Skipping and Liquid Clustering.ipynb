{
 "cells": [
  {
   "cell_type": "markdown",
   "metadata": {
    "application/vnd.databricks.v1+cell": {
     "cellMetadata": {},
     "inputWidgets": {},
     "nuid": "536c9535-818a-4a87-9673-14ecd11186ce",
     "showTitle": false,
     "tableResultSettingsMap": {},
     "title": ""
    }
   },
   "source": [
    "\n",
    "<div style=\"text-align: center; line-height: 0; padding-top: 9px;\">\n",
    "  <img src=\"https://databricks.com/wp-content/uploads/2018/03/db-academy-rgb-1200px.png\" alt=\"Databricks Learning\">\n",
    "</div>\n"
   ]
  },
  {
   "cell_type": "markdown",
   "metadata": {
    "application/vnd.databricks.v1+cell": {
     "cellMetadata": {},
     "inputWidgets": {},
     "nuid": "627a5183-b587-4ed1-8823-b6d728c4ab2c",
     "showTitle": false,
     "tableResultSettingsMap": {},
     "title": ""
    }
   },
   "source": [
    "# Lab: Data Skipping and Liquid Clustering\n",
    "\n",
    "In this demo, we are going to work with Liquid Clustering, a Delta Lake optimization feature that replaces table partitioning and ZORDER to simplify data layout decisions and optimize query performance. It provides flexibility to redefine clustering keys without rewriting data. Refer to the [documentation](https://docs.databricks.com/en/delta/clustering.html) for more information.\n",
    "\n",
    "#### Learning Objectives\n",
    "**By the end of this lab, you will be able to:**\n",
    "\n",
    "* Disable Spark caching to observe the effects of Liquid Clustering.\n",
    "* Count records and explore data in the flights tables.\n",
    "* Execute queries on an unclustered table and analyze their performance using Spark UI.\n",
    "* Execute and compare queries on tables clustered by different columns (**id** and **id** + **FlightNum**).\n",
    "* Inspect query performance using the Spark UI to understand the benefits of Liquid Clustering.\n",
    "\n",
    "#### Prerequisites\n",
    "In order to follow along with this lab, you will need:\n",
    "\n",
    "* Basic knowledge of running SQL queries in Databricks is required.\n",
    "* Familiarity with Delta Lake and its optimization features is recommended.\n"
   ]
  },
  {
   "cell_type": "markdown",
   "metadata": {
    "application/vnd.databricks.v1+cell": {
     "cellMetadata": {},
     "inputWidgets": {},
     "nuid": "a4d6d5c3-d0e2-495f-9aef-d34b39bb3d1f",
     "showTitle": false,
     "tableResultSettingsMap": {},
     "title": ""
    }
   },
   "source": [
    "## REQUIRED - SELECT CLASSIC COMPUTE\n",
    "\n",
    "Before executing cells in this notebook, please select your classic compute cluster in the lab. Be aware that **Serverless** is enabled by default. If you use Serverless, errors will be returned when setting compute runtime properties.\n",
    "\n",
    "Follow these steps to select the classic compute cluster:\n",
    "\n",
    "1. Navigate to the top-right of this notebook and click the drop-down menu to select your cluster. By default, the notebook will use **Serverless**.\n",
    "\n",
    "1. If your cluster is available, select it and continue to the next cell. If the cluster is not shown:\n",
    "\n",
    "  - In the drop-down, select **More**.\n",
    "\n",
    "  - In the **Attach to an existing compute resource** pop-up, select the first drop-down. You will see a unique cluster name in that drop-down. Please select that cluster.\n",
    "\n",
    "**NOTE:** If your cluster has terminated, you might need to restart it in order to select it. To do this:\n",
    "\n",
    "1. Right-click on **Compute** in the left navigation pane and select *Open in new tab*.\n",
    "\n",
    "1. Find the triangle icon to the right of your compute cluster name and click it.\n",
    "\n",
    "1. Wait a few minutes for the cluster to start.\n",
    "\n",
    "1. Once the cluster is running, complete the steps above to select your cluster."
   ]
  },
  {
   "cell_type": "markdown",
   "metadata": {
    "application/vnd.databricks.v1+cell": {
     "cellMetadata": {},
     "inputWidgets": {},
     "nuid": "1cb39614-8166-4270-b790-231be522b238",
     "showTitle": false,
     "tableResultSettingsMap": {},
     "title": ""
    }
   },
   "source": [
    "## A. Classroom Setup\n",
    "\n",
    "Run the following cell to configure your working environment for this course. It will also set your default catalog to your unique **labuser** catalog, and the default schema to **default**. All tables will be read from and written to this location.\n",
    "<br></br>\n",
    "\n",
    "**NOTE:** The `DA` object is only used in Databricks Academy courses and is not available outside of these courses. It will dynamically reference the information needed to run the course."
   ]
  },
  {
   "cell_type": "code",
   "execution_count": 0,
   "metadata": {
    "application/vnd.databricks.v1+cell": {
     "cellMetadata": {
      "byteLimit": 2048000,
      "rowLimit": 10000
     },
     "inputWidgets": {},
     "nuid": "6702ce17-5b80-4423-bdc5-0a85da15d447",
     "showTitle": false,
     "tableResultSettingsMap": {},
     "title": ""
    }
   },
   "outputs": [
    {
     "output_type": "stream",
     "name": "stdout",
     "output_type": "stream",
     "text": [
      "\u001B[43mNote: you may need to restart the kernel using %restart_python or dbutils.library.restartPython() to use updated packages.\u001B[0m\n"
     ]
    },
    {
     "output_type": "display_data",
     "data": {
      "text/html": [
       "<table style=\"width:100%\">\n",
       "            <tr>\n",
       "                <td style=\"white-space:nowrap; width:1em\">Course Catalog:</td>\n",
       "                <td><input type=\"text\" value=\"labuser10305556_1747289640\" style=\"width: 100%\"></td></tr>\n",
       "            <tr>\n",
       "                <td style=\"white-space:nowrap; width:1em\">Your Schema:</td>\n",
       "                <td><input type=\"text\" value=\"default\" style=\"width: 100%\"></td></tr>\n",
       "            <tr>\n",
       "                <td style=\"white-space:nowrap; width:1em\">Airline Data Catalog:</td>\n",
       "                <td><input type=\"text\" value=\"dbacademy_airline\" style=\"width: 100%\"></td></tr>\n",
       "            <tr>\n",
       "                <td style=\"white-space:nowrap; width:1em\">Airline Schema:</td>\n",
       "                <td><input type=\"text\" value=\"flightdata\" style=\"width: 100%\"></td></tr></table>"
      ]
     },
     "metadata": {},
     "output_type": "display_data"
    }
   ],
   "source": [
    "%run ./Includes/Classroom-Setup-2L"
   ]
  },
  {
   "cell_type": "markdown",
   "metadata": {
    "application/vnd.databricks.v1+cell": {
     "cellMetadata": {},
     "inputWidgets": {},
     "nuid": "03e202b6-c43e-45c4-b670-6da8d09d4b88",
     "showTitle": false,
     "tableResultSettingsMap": {},
     "title": ""
    }
   },
   "source": [
    "Set the default catalog to **dbacademy_flightdata** and the schema to **v01**. We will use the read-only tables in this location for the demonstration.\n",
    "\n",
    "**NOTE:** These tables are shared through the Databricks Marketplace, provided by **Databricks**. The name of the share is **Airline Performance Data**."
   ]
  },
  {
   "cell_type": "code",
   "execution_count": 0,
   "metadata": {
    "application/vnd.databricks.v1+cell": {
     "cellMetadata": {
      "byteLimit": 2048000,
      "rowLimit": 10000
     },
     "inputWidgets": {},
     "nuid": "4600df8b-f221-4565-9b1f-d45661d9a638",
     "showTitle": false,
     "tableResultSettingsMap": {},
     "title": ""
    }
   },
   "outputs": [
    {
     "output_type": "display_data",
     "data": {
      "text/html": [
       "<style scoped>\n",
       "  .table-result-container {\n",
       "    max-height: 300px;\n",
       "    overflow: auto;\n",
       "  }\n",
       "  table, th, td {\n",
       "    border: 1px solid black;\n",
       "    border-collapse: collapse;\n",
       "  }\n",
       "  th, td {\n",
       "    padding: 5px;\n",
       "  }\n",
       "  th {\n",
       "    text-align: left;\n",
       "  }\n",
       "</style><div class='table-result-container'><table class='table-result'><thead style='background-color: white'><tr><th>current_catalog()</th><th>current_schema()</th></tr></thead><tbody><tr><td>dbacademy_flightdata</td><td>v01</td></tr></tbody></table></div>"
      ]
     },
     "metadata": {
      "application/vnd.databricks.v1+output": {
       "addedWidgets": {},
       "aggData": [],
       "aggError": "",
       "aggOverflow": false,
       "aggSchema": [],
       "aggSeriesLimitReached": false,
       "aggType": "",
       "arguments": {},
       "columnCustomDisplayInfos": {},
       "data": [
        [
         "dbacademy_flightdata",
         "v01"
        ]
       ],
       "datasetInfos": [],
       "dbfsResultPath": null,
       "isJsonSchema": true,
       "metadata": {
        "isDbfsCommandResult": false
       },
       "overflow": false,
       "plotOptions": {
        "customPlotOptions": {},
        "displayType": "table",
        "pivotAggregation": null,
        "pivotColumns": null,
        "xColumns": null,
        "yColumns": null
       },
       "removedWidgets": [],
       "schema": [
        {
         "metadata": "{\"__autoGeneratedAlias\":\"true\"}",
         "name": "current_catalog()",
         "type": "\"string\""
        },
        {
         "metadata": "{\"__autoGeneratedAlias\":\"true\"}",
         "name": "current_schema()",
         "type": "\"string\""
        }
       ],
       "type": "table"
      }
     },
     "output_type": "display_data"
    }
   ],
   "source": [
    "USE CATALOG dbacademy_flightdata;\n",
    "USE SCHEMA v01;\n",
    "\n",
    "SELECT current_catalog(), current_schema()"
   ]
  },
  {
   "cell_type": "markdown",
   "metadata": {
    "application/vnd.databricks.v1+cell": {
     "cellMetadata": {},
     "inputWidgets": {},
     "nuid": "2b5eafbc-318f-4207-8f03-0fab021211f2",
     "showTitle": false,
     "tableResultSettingsMap": {},
     "title": ""
    }
   },
   "source": [
    "## B. Disable Caching\n",
    "\n",
    "Run the following cell to set a Spark configuration variable that disables disk caching.\n",
    "\n",
    "Turning disk caching off prevents Databricks from storing cloud storage files after the first query. This makes the effect of the optimizations more apparent by ensuring that files are always pulled from cloud storage for each query.\n",
    "\n",
    "For more information, see [Optimize performance with caching on Databricks](https://docs.databricks.com/en/optimizations/disk-cache.html#optimize-performance-with-caching-on-databricks).\n",
    "\n",
    "**NOTE:** This will not work in Serverless. Please use classic compute to turn off caching. If you're using Serverless, an error will be returned."
   ]
  },
  {
   "cell_type": "code",
   "execution_count": 0,
   "metadata": {
    "application/vnd.databricks.v1+cell": {
     "cellMetadata": {
      "byteLimit": 2048000,
      "rowLimit": 10000
     },
     "inputWidgets": {},
     "nuid": "0e297376-4955-4908-b226-c384e92f4295",
     "showTitle": false,
     "tableResultSettingsMap": {},
     "title": ""
    }
   },
   "outputs": [],
   "source": [
    "%python\n",
    "# Set the spark configuration variable \"io.cache\" as \"False\"\n",
    "spark.conf.set('spark.databricks.io.cache.enabled', False)"
   ]
  },
  {
   "cell_type": "markdown",
   "metadata": {
    "application/vnd.databricks.v1+cell": {
     "cellMetadata": {},
     "inputWidgets": {},
     "nuid": "5d39287c-4224-482e-ac90-9c6a80635459",
     "showTitle": false,
     "tableResultSettingsMap": {},
     "title": ""
    }
   },
   "source": [
    "## C. Inspecting the tables with and without clustering, using Spark UI to identify that data is skipped at the source."
   ]
  },
  {
   "cell_type": "markdown",
   "metadata": {
    "application/vnd.databricks.v1+cell": {
     "cellMetadata": {},
     "inputWidgets": {},
     "nuid": "f87d7cc8-ff07-4635-9380-048ddab37027",
     "showTitle": false,
     "tableResultSettingsMap": {},
     "title": ""
    }
   },
   "source": [
    "### C1. Explore the Data\n",
    "In this lab, we will be using airline flight data that has been saved in three different ways:\n",
    "- **flights**: OPTIMIZED with a ZORDER on **FlightNum**.\n",
    "- **flights_cluster_id**: Liquid clustered using the **id** column.\n",
    "- **flights_cluster_id_flightnum**: Liquid clustered by two columns (**id** and **FlightNum**).\n",
    "\n",
    "Each table contains the exact same data.\n"
   ]
  },
  {
   "cell_type": "markdown",
   "metadata": {
    "application/vnd.databricks.v1+cell": {
     "cellMetadata": {},
     "inputWidgets": {},
     "nuid": "1ada90c5-3733-483b-956a-47dfdb64baa7",
     "showTitle": false,
     "tableResultSettingsMap": {},
     "title": ""
    }
   },
   "source": [
    "1. Preview the **flights** table. Notice that it contains the following columns: **id, year, FlightNum, ArrDelay, UniqueCarrier, TailNum**.\n"
   ]
  },
  {
   "cell_type": "code",
   "execution_count": 0,
   "metadata": {
    "application/vnd.databricks.v1+cell": {
     "cellMetadata": {
      "byteLimit": 2048000,
      "rowLimit": 10000
     },
     "inputWidgets": {},
     "nuid": "c248b8f0-0842-4d45-9c3f-a0aa953c88ba",
     "showTitle": false,
     "tableResultSettingsMap": {},
     "title": ""
    }
   },
   "outputs": [
    {
     "output_type": "display_data",
     "data": {
      "text/html": [
       "<style scoped>\n",
       "  .table-result-container {\n",
       "    max-height: 300px;\n",
       "    overflow: auto;\n",
       "  }\n",
       "  table, th, td {\n",
       "    border: 1px solid black;\n",
       "    border-collapse: collapse;\n",
       "  }\n",
       "  th, td {\n",
       "    padding: 5px;\n",
       "  }\n",
       "  th {\n",
       "    text-align: left;\n",
       "  }\n",
       "</style><div class='table-result-container'><table class='table-result'><thead style='background-color: white'><tr><th>id</th><th>year</th><th>FlightNum</th><th>ArrDelay</th><th>UniqueCarrier</th><th>TailNum</th></tr></thead><tbody><tr><td>936302871625</td><td>2005</td><td>1</td><td>-4</td><td>AA</td><td>N328AA</td></tr><tr><td>936302871626</td><td>2005</td><td>1</td><td>38</td><td>AA</td><td>N376AA</td></tr><tr><td>936302871627</td><td>2005</td><td>1</td><td>4</td><td>AA</td><td>N335AA</td></tr><tr><td>936302871628</td><td>2005</td><td>1</td><td>-25</td><td>AA</td><td>N329AA</td></tr><tr><td>936302871629</td><td>2005</td><td>1</td><td>-5</td><td>AA</td><td>N319AA</td></tr><tr><td>936302871630</td><td>2005</td><td>1</td><td>-24</td><td>AA</td><td>N325AA</td></tr><tr><td>936302871631</td><td>2005</td><td>1</td><td>-19</td><td>AA</td><td>N330AA</td></tr><tr><td>936302871632</td><td>2005</td><td>1</td><td>-12</td><td>AA</td><td>N335AA</td></tr><tr><td>936302871633</td><td>2005</td><td>1</td><td>-13</td><td>AA</td><td>N336AA</td></tr><tr><td>936302871634</td><td>2005</td><td>1</td><td>-22</td><td>AA</td><td>N332AA</td></tr></tbody></table></div>"
      ]
     },
     "metadata": {
      "application/vnd.databricks.v1+output": {
       "addedWidgets": {},
       "aggData": [],
       "aggError": "",
       "aggOverflow": false,
       "aggSchema": [],
       "aggSeriesLimitReached": false,
       "aggType": "",
       "arguments": {},
       "columnCustomDisplayInfos": {},
       "data": [
        [
         936302871625,
         2005,
         1,
         "-4",
         "AA",
         "N328AA"
        ],
        [
         936302871626,
         2005,
         1,
         "38",
         "AA",
         "N376AA"
        ],
        [
         936302871627,
         2005,
         1,
         "4",
         "AA",
         "N335AA"
        ],
        [
         936302871628,
         2005,
         1,
         "-25",
         "AA",
         "N329AA"
        ],
        [
         936302871629,
         2005,
         1,
         "-5",
         "AA",
         "N319AA"
        ],
        [
         936302871630,
         2005,
         1,
         "-24",
         "AA",
         "N325AA"
        ],
        [
         936302871631,
         2005,
         1,
         "-19",
         "AA",
         "N330AA"
        ],
        [
         936302871632,
         2005,
         1,
         "-12",
         "AA",
         "N335AA"
        ],
        [
         936302871633,
         2005,
         1,
         "-13",
         "AA",
         "N336AA"
        ],
        [
         936302871634,
         2005,
         1,
         "-22",
         "AA",
         "N332AA"
        ]
       ],
       "datasetInfos": [],
       "dbfsResultPath": null,
       "isJsonSchema": true,
       "metadata": {
        "isDbfsCommandResult": false
       },
       "overflow": false,
       "plotOptions": {
        "customPlotOptions": {},
        "displayType": "table",
        "pivotAggregation": null,
        "pivotColumns": null,
        "xColumns": null,
        "yColumns": null
       },
       "removedWidgets": [],
       "schema": [
        {
         "metadata": "{}",
         "name": "id",
         "type": "\"long\""
        },
        {
         "metadata": "{}",
         "name": "year",
         "type": "\"integer\""
        },
        {
         "metadata": "{}",
         "name": "FlightNum",
         "type": "\"integer\""
        },
        {
         "metadata": "{}",
         "name": "ArrDelay",
         "type": "\"string\""
        },
        {
         "metadata": "{}",
         "name": "UniqueCarrier",
         "type": "\"string\""
        },
        {
         "metadata": "{}",
         "name": "TailNum",
         "type": "\"string\""
        }
       ],
       "type": "table"
      }
     },
     "output_type": "display_data"
    }
   ],
   "source": [
    "SELECT * \n",
    "FROM flights\n",
    "LIMIT 10;"
   ]
  },
  {
   "cell_type": "markdown",
   "metadata": {
    "application/vnd.databricks.v1+cell": {
     "cellMetadata": {},
     "inputWidgets": {},
     "nuid": "734dc875-5463-4bf7-9c3a-acd2d2f0201d",
     "showTitle": false,
     "tableResultSettingsMap": {},
     "title": ""
    }
   },
   "source": [
    "2. Count the number of rows in each of the flight tables (**flights, flights_cluster_id, flights_cluster_id_flightnum**) to confirm that the number of rows in each table is *1,235,347,780*.\n",
    "\n",
    "    Each table contains the same data but is stored differently.\n"
   ]
  },
  {
   "cell_type": "code",
   "execution_count": 0,
   "metadata": {
    "application/vnd.databricks.v1+cell": {
     "cellMetadata": {
      "byteLimit": 2048000,
      "rowLimit": 10000
     },
     "inputWidgets": {},
     "nuid": "01a83031-adc9-4b65-97b5-37a357fdf8fc",
     "showTitle": false,
     "tableResultSettingsMap": {},
     "title": ""
    }
   },
   "outputs": [
    {
     "output_type": "display_data",
     "data": {
      "text/html": [
       "<style scoped>\n",
       "  .table-result-container {\n",
       "    max-height: 300px;\n",
       "    overflow: auto;\n",
       "  }\n",
       "  table, th, td {\n",
       "    border: 1px solid black;\n",
       "    border-collapse: collapse;\n",
       "  }\n",
       "  th, td {\n",
       "    padding: 5px;\n",
       "  }\n",
       "  th {\n",
       "    text-align: left;\n",
       "  }\n",
       "</style><div class='table-result-container'><table class='table-result'><thead style='background-color: white'><tr><th>flights</th><th>TotalRows</th></tr></thead><tbody><tr><td>flights</td><td>1235347780</td></tr><tr><td>flights_cluster_id</td><td>1235347780</td></tr><tr><td>flights_cluster_id_flightnum</td><td>1235347780</td></tr></tbody></table></div>"
      ]
     },
     "metadata": {
      "application/vnd.databricks.v1+output": {
       "addedWidgets": {},
       "aggData": [],
       "aggError": "",
       "aggOverflow": false,
       "aggSchema": [],
       "aggSeriesLimitReached": false,
       "aggType": "",
       "arguments": {},
       "columnCustomDisplayInfos": {},
       "data": [
        [
         "flights",
         1235347780
        ],
        [
         "flights_cluster_id",
         1235347780
        ],
        [
         "flights_cluster_id_flightnum",
         1235347780
        ]
       ],
       "datasetInfos": [],
       "dbfsResultPath": null,
       "isJsonSchema": true,
       "metadata": {
        "isDbfsCommandResult": false
       },
       "overflow": false,
       "plotOptions": {
        "customPlotOptions": {},
        "displayType": "table",
        "pivotAggregation": null,
        "pivotColumns": null,
        "xColumns": null,
        "yColumns": null
       },
       "removedWidgets": [],
       "schema": [
        {
         "metadata": "{}",
         "name": "flights",
         "type": "\"string\""
        },
        {
         "metadata": "{}",
         "name": "TotalRows",
         "type": "\"long\""
        }
       ],
       "type": "table"
      }
     },
     "output_type": "display_data"
    }
   ],
   "source": [
    "SELECT 'flights', count(*) AS TotalRows\n",
    "FROM flights\n",
    "UNION ALL\n",
    "SELECT 'flights_cluster_id', count(*) AS TotalRows\n",
    "FROM flights_cluster_id\n",
    "UNION ALL\n",
    "SELECT 'flights_cluster_id_flightnum', count(*) AS TotalRows\n",
    "FROM flights_cluster_id_flightnum;"
   ]
  },
  {
   "cell_type": "markdown",
   "metadata": {
    "application/vnd.databricks.v1+cell": {
     "cellMetadata": {},
     "inputWidgets": {},
     "nuid": "c9865973-ebb4-4634-b893-b8cbe73ce175",
     "showTitle": false,
     "tableResultSettingsMap": {},
     "title": ""
    }
   },
   "source": [
    "### C2. Query Performance with ZORDER"
   ]
  },
  {
   "cell_type": "markdown",
   "metadata": {
    "application/vnd.databricks.v1+cell": {
     "cellMetadata": {},
     "inputWidgets": {},
     "nuid": "1eb09246-a60f-479d-9c2d-04f342250c83",
     "showTitle": false,
     "tableResultSettingsMap": {},
     "title": ""
    }
   },
   "source": [
    "1. Execute the cell below to view the history of the **flights** table. In the output, observe the following:\n",
    "- In the **operation** column, find the version (row) of the Delta table that has been *OPTIMIZED*.\n",
    "\n",
    "- In the **operationParameters** column, notice that the **flights** table has been optimized with a ZORDER on the **FlightNum** column. Z-ordering is a technique used to colocate related information in the same set of files.\n",
    "\n",
    "- In the **operationMetrics** column, observe that the OPTIMIZED statement removed (*numRemovedFiles*) *160* files and added (*numAddedFiles*) *31* files to optimize the storage of the table.\n"
   ]
  },
  {
   "cell_type": "code",
   "execution_count": 0,
   "metadata": {
    "application/vnd.databricks.v1+cell": {
     "cellMetadata": {
      "byteLimit": 2048000,
      "rowLimit": 10000
     },
     "inputWidgets": {},
     "nuid": "c113ad39-fc28-4841-999c-26664d085e3b",
     "showTitle": false,
     "tableResultSettingsMap": {},
     "title": ""
    }
   },
   "outputs": [
    {
     "output_type": "display_data",
     "data": {
      "text/html": [
       "<style scoped>\n",
       "  .table-result-container {\n",
       "    max-height: 300px;\n",
       "    overflow: auto;\n",
       "  }\n",
       "  table, th, td {\n",
       "    border: 1px solid black;\n",
       "    border-collapse: collapse;\n",
       "  }\n",
       "  th, td {\n",
       "    padding: 5px;\n",
       "  }\n",
       "  th {\n",
       "    text-align: left;\n",
       "  }\n",
       "</style><div class='table-result-container'><table class='table-result'><thead style='background-color: white'><tr><th>version</th><th>timestamp</th><th>userId</th><th>userName</th><th>operation</th><th>operationParameters</th><th>job</th><th>notebook</th><th>clusterId</th><th>readVersion</th><th>isolationLevel</th><th>isBlindAppend</th><th>operationMetrics</th><th>userMetadata</th><th>engineInfo</th></tr></thead><tbody><tr><td>1</td><td>2024-12-03T18:24:47Z</td><td>3815490658822207</td><td>david.leblanc@databricks.com</td><td>OPTIMIZE</td><td>Map(predicate -> [], auto -> false, clusterBy -> [], zOrderBy -> [\"FlightNum\"], batchId -> 0)</td><td>null</td><td>List(1748258649959904)</td><td>0912-202238-s1wcxm9s</td><td>0</td><td>SnapshotIsolation</td><td>false</td><td>Map(numRemovedFiles -> 160, numRemovedBytes -> 8386219439, p25FileSize -> 252566716, numDeletionVectorsRemoved -> 0, minFileSize -> 225236011, numAddedFiles -> 31, maxFileSize -> 299875306, p75FileSize -> 267756534, p50FileSize -> 262424949, numAddedBytes -> 8122318606)</td><td>null</td><td>Databricks-Runtime/15.4.x-cpu-ml-scala2.12</td></tr><tr><td>0</td><td>2024-12-03T18:00:11Z</td><td>3815490658822207</td><td>david.leblanc@databricks.com</td><td>CREATE OR REPLACE TABLE AS SELECT</td><td>Map(partitionBy -> [], clusterBy -> [], description -> null, isManaged -> true, properties -> {}, statsOnLoad -> false)</td><td>null</td><td>List(1748258649959904)</td><td>0912-202238-s1wcxm9s</td><td>null</td><td>WriteSerializable</td><td>false</td><td>Map(numFiles -> 160, numOutputRows -> 1235347780, numOutputBytes -> 8386219439)</td><td>null</td><td>Databricks-Runtime/15.4.x-cpu-ml-scala2.12</td></tr></tbody></table></div>"
      ]
     },
     "metadata": {
      "application/vnd.databricks.v1+output": {
       "addedWidgets": {},
       "aggData": [],
       "aggError": "",
       "aggOverflow": false,
       "aggSchema": [],
       "aggSeriesLimitReached": false,
       "aggType": "",
       "arguments": {},
       "columnCustomDisplayInfos": {},
       "data": [
        [
         1,
         "2024-12-03T18:24:47Z",
         "3815490658822207",
         "david.leblanc@databricks.com",
         "OPTIMIZE",
         {
          "auto": "false",
          "batchId": "0",
          "clusterBy": "[]",
          "predicate": "[]",
          "zOrderBy": "[\"FlightNum\"]"
         },
         null,
         [
          "1748258649959904"
         ],
         "0912-202238-s1wcxm9s",
         0,
         "SnapshotIsolation",
         false,
         {
          "maxFileSize": "299875306",
          "minFileSize": "225236011",
          "numAddedBytes": "8122318606",
          "numAddedFiles": "31",
          "numDeletionVectorsRemoved": "0",
          "numRemovedBytes": "8386219439",
          "numRemovedFiles": "160",
          "p25FileSize": "252566716",
          "p50FileSize": "262424949",
          "p75FileSize": "267756534"
         },
         null,
         "Databricks-Runtime/15.4.x-cpu-ml-scala2.12"
        ],
        [
         0,
         "2024-12-03T18:00:11Z",
         "3815490658822207",
         "david.leblanc@databricks.com",
         "CREATE OR REPLACE TABLE AS SELECT",
         {
          "clusterBy": "[]",
          "description": null,
          "isManaged": "true",
          "partitionBy": "[]",
          "properties": "{}",
          "statsOnLoad": "false"
         },
         null,
         [
          "1748258649959904"
         ],
         "0912-202238-s1wcxm9s",
         null,
         "WriteSerializable",
         false,
         {
          "numFiles": "160",
          "numOutputBytes": "8386219439",
          "numOutputRows": "1235347780"
         },
         null,
         "Databricks-Runtime/15.4.x-cpu-ml-scala2.12"
        ]
       ],
       "datasetInfos": [],
       "dbfsResultPath": null,
       "isJsonSchema": true,
       "metadata": {
        "isDbfsCommandResult": false
       },
       "overflow": false,
       "plotOptions": {
        "customPlotOptions": {},
        "displayType": "table",
        "pivotAggregation": null,
        "pivotColumns": null,
        "xColumns": null,
        "yColumns": null
       },
       "removedWidgets": [],
       "schema": [
        {
         "metadata": "{}",
         "name": "version",
         "type": "\"long\""
        },
        {
         "metadata": "{}",
         "name": "timestamp",
         "type": "\"timestamp\""
        },
        {
         "metadata": "{}",
         "name": "userId",
         "type": "\"string\""
        },
        {
         "metadata": "{}",
         "name": "userName",
         "type": "\"string\""
        },
        {
         "metadata": "{}",
         "name": "operation",
         "type": "\"string\""
        },
        {
         "metadata": "{}",
         "name": "operationParameters",
         "type": "{\"type\":\"map\",\"keyType\":\"string\",\"valueType\":\"string\",\"valueContainsNull\":true}"
        },
        {
         "metadata": "{}",
         "name": "job",
         "type": "{\"type\":\"struct\",\"fields\":[{\"name\":\"jobId\",\"type\":\"string\",\"nullable\":true,\"metadata\":{}},{\"name\":\"jobName\",\"type\":\"string\",\"nullable\":true,\"metadata\":{}},{\"name\":\"jobRunId\",\"type\":\"string\",\"nullable\":true,\"metadata\":{}},{\"name\":\"runId\",\"type\":\"string\",\"nullable\":true,\"metadata\":{}},{\"name\":\"jobOwnerId\",\"type\":\"string\",\"nullable\":true,\"metadata\":{}},{\"name\":\"triggerType\",\"type\":\"string\",\"nullable\":true,\"metadata\":{}}]}"
        },
        {
         "metadata": "{}",
         "name": "notebook",
         "type": "{\"type\":\"struct\",\"fields\":[{\"name\":\"notebookId\",\"type\":\"string\",\"nullable\":true,\"metadata\":{}}]}"
        },
        {
         "metadata": "{}",
         "name": "clusterId",
         "type": "\"string\""
        },
        {
         "metadata": "{}",
         "name": "readVersion",
         "type": "\"long\""
        },
        {
         "metadata": "{}",
         "name": "isolationLevel",
         "type": "\"string\""
        },
        {
         "metadata": "{}",
         "name": "isBlindAppend",
         "type": "\"boolean\""
        },
        {
         "metadata": "{}",
         "name": "operationMetrics",
         "type": "{\"type\":\"map\",\"keyType\":\"string\",\"valueType\":\"string\",\"valueContainsNull\":true}"
        },
        {
         "metadata": "{}",
         "name": "userMetadata",
         "type": "\"string\""
        },
        {
         "metadata": "{}",
         "name": "engineInfo",
         "type": "\"string\""
        }
       ],
       "type": "table"
      }
     },
     "output_type": "display_data"
    }
   ],
   "source": [
    "DESCRIBE HISTORY flights;"
   ]
  },
  {
   "cell_type": "markdown",
   "metadata": {
    "application/vnd.databricks.v1+cell": {
     "cellMetadata": {},
     "inputWidgets": {},
     "nuid": "63867e74-c502-4fe1-af5b-56917aff073b",
     "showTitle": false,
     "tableResultSettingsMap": {},
     "title": ""
    }
   },
   "source": [
    "#### C2.1 Unique Carrier Column Query\n",
    "1. Run the following query to analyze the average arrival delay in flights by querying the **UniqueCarrier** column for the *TW* airline. Take note of the time it took for the query to execute.\n",
    "\n",
    "**NOTE:** The **flights** table contains a ZORDER on **FlightNum**."
   ]
  },
  {
   "cell_type": "code",
   "execution_count": 0,
   "metadata": {
    "application/vnd.databricks.v1+cell": {
     "cellMetadata": {
      "byteLimit": 2048000,
      "rowLimit": 10000
     },
     "inputWidgets": {},
     "nuid": "027ab602-5e74-428a-a42f-90c4ca3874c8",
     "showTitle": false,
     "tableResultSettingsMap": {},
     "title": ""
    }
   },
   "outputs": [
    {
     "output_type": "display_data",
     "data": {
      "text/html": [
       "<style scoped>\n",
       "  .table-result-container {\n",
       "    max-height: 300px;\n",
       "    overflow: auto;\n",
       "  }\n",
       "  table, th, td {\n",
       "    border: 1px solid black;\n",
       "    border-collapse: collapse;\n",
       "  }\n",
       "  th, td {\n",
       "    padding: 5px;\n",
       "  }\n",
       "  th {\n",
       "    text-align: left;\n",
       "  }\n",
       "</style><div class='table-result-container'><table class='table-result'><thead style='background-color: white'><tr><th>avg(ArrDelay)</th></tr></thead><tbody><tr><td>6.856535107094981</td></tr></tbody></table></div>"
      ]
     },
     "metadata": {
      "application/vnd.databricks.v1+output": {
       "addedWidgets": {},
       "aggData": [],
       "aggError": "",
       "aggOverflow": false,
       "aggSchema": [],
       "aggSeriesLimitReached": false,
       "aggType": "",
       "arguments": {},
       "columnCustomDisplayInfos": {},
       "data": [
        [
         6.856535107094981
        ]
       ],
       "datasetInfos": [],
       "dbfsResultPath": null,
       "isJsonSchema": true,
       "metadata": {
        "isDbfsCommandResult": false
       },
       "overflow": false,
       "plotOptions": {
        "customPlotOptions": {},
        "displayType": "table",
        "pivotAggregation": null,
        "pivotColumns": null,
        "xColumns": null,
        "yColumns": null
       },
       "removedWidgets": [],
       "schema": [
        {
         "metadata": "{\"__autoGeneratedAlias\":\"true\"}",
         "name": "avg(ArrDelay)",
         "type": "\"double\""
        }
       ],
       "type": "table"
      }
     },
     "output_type": "display_data"
    }
   ],
   "source": [
    "-- Perform the SELECT operation with the AVG operation on the 'ArrDelay' column and the 'UniqueCarrier' set to 'TW'.\n",
    "\n",
    "SELECT AVG(ArrDelay)\n",
    "FROM flights\n",
    "WHERE UniqueCarrier = 'TW';"
   ]
  },
  {
   "cell_type": "markdown",
   "metadata": {
    "application/vnd.databricks.v1+cell": {
     "cellMetadata": {},
     "inputWidgets": {},
     "nuid": "5e8294ea-bf1c-4f7e-a237-41175295c5e4",
     "showTitle": false,
     "tableResultSettingsMap": {},
     "title": ""
    }
   },
   "source": [
    "\n",
    "Let's see how this query performed using the Spark UI. Note in particular the amount of cloud storage requests and their associated time. To view how the query performed complete the following:\n",
    "\n",
    "1. In the cell above, expand **Spark Jobs**.\n",
    "\n",
    "2. Right click on **View** and select *Open in a New Tab*. \n",
    "\n",
    "    **NOTE:** In the Vocareum lab environment if you click **View** without opening it in a new tab the pop up window will display an error.\n",
    "\n",
    "3. In the new window, find the **Associated SQL Query** header at the top and select the number.\n",
    "\n",
    "4. Here you should see the entire query plan.\n",
    "\n",
    "5. In the query plan, scroll down to the bottom and find **PhotonScan parquet dbacademy_flightdata.v01.flights (1)** and select the plus icon.\n",
    "\n",
    "\n",
    "\n",
    "#### Look at the following metrics in the Spark UI (results may vary slightly):\n",
    "| Metric    | Value    | Note    |\n",
    "|-------------|-------------|-------------|\n",
    "| cloud storage request count total (min, med, max)| 149 (3, 3, 18)|  Refers to the number of requests made to the cloud storage systems like S3, Azure Blob, or Google Cloud Storage during job execution. This could involve multiple operations like reading metadata, accessing directories, or fetching the actual data.<br></br>Monitoring this metric helps optimize performance, reduce costs, and identify potential inefficiencies in data access patterns.|\n",
    "| cloud storage response size total (min, med, max)|1068.4 MiB (336.6 KiB, 45.7 MiB, 50.7 MiB)| Indicates the total amount of data transferred from cloud storage to Spark during the execution of a job. It helps track the volume of data read or written to cloud storage, providing insights into I/O performance and potential bottlenecks related to data transfer.<br></br> The data transferred ranged from small to large requests, with an average response size around 45.7 MiB.|\n",
    "| files pruned | 0 |A total of 0 files were skipped by Spark due to pruning based on the query's filters. This is due to the table being z-ordered by **FlightNum** but queried by the **UniqueCarrier** column.|\n",
    "| files read | 31| All 31 files were read during the execution of the Spark job.|\n",
    "\n",
    "\n",
    "#### Summary\n",
    "This table was Z-ordered by **FlightNum** but queried by the **UniqueCarrier** column. Spark needs to read all of the files to filter the table and return a single row. On average, this query will take about ~10 seconds to complete.\n"
   ]
  },
  {
   "cell_type": "markdown",
   "metadata": {
    "application/vnd.databricks.v1+cell": {
     "cellMetadata": {},
     "inputWidgets": {},
     "nuid": "e1191deb-51e1-4965-a7a1-260435b0e4ce",
     "showTitle": false,
     "tableResultSettingsMap": {},
     "title": ""
    }
   },
   "source": [
    "#### C2.2 FlightNum Column (ZORDER column) Query\n",
    "1. Run the following query to analyze the average arrival delay by flight number (**FlightNum**) *1809*. Take note of the time it took for the query to execute.\n"
   ]
  },
  {
   "cell_type": "code",
   "execution_count": 0,
   "metadata": {
    "application/vnd.databricks.v1+cell": {
     "cellMetadata": {
      "byteLimit": 2048000,
      "rowLimit": 10000
     },
     "inputWidgets": {},
     "nuid": "857ca8d3-7d84-47ea-876c-30f4a9f4d75c",
     "showTitle": false,
     "tableResultSettingsMap": {},
     "title": ""
    }
   },
   "outputs": [
    {
     "output_type": "display_data",
     "data": {
      "text/html": [
       "<style scoped>\n",
       "  .table-result-container {\n",
       "    max-height: 300px;\n",
       "    overflow: auto;\n",
       "  }\n",
       "  table, th, td {\n",
       "    border: 1px solid black;\n",
       "    border-collapse: collapse;\n",
       "  }\n",
       "  th, td {\n",
       "    padding: 5px;\n",
       "  }\n",
       "  th {\n",
       "    text-align: left;\n",
       "  }\n",
       "</style><div class='table-result-container'><table class='table-result'><thead style='background-color: white'><tr><th>avg(ArrDelay)</th></tr></thead><tbody><tr><td>6.197794202121549</td></tr></tbody></table></div>"
      ]
     },
     "metadata": {
      "application/vnd.databricks.v1+output": {
       "addedWidgets": {},
       "aggData": [],
       "aggError": "",
       "aggOverflow": false,
       "aggSchema": [],
       "aggSeriesLimitReached": false,
       "aggType": "",
       "arguments": {},
       "columnCustomDisplayInfos": {},
       "data": [
        [
         6.197794202121549
        ]
       ],
       "datasetInfos": [],
       "dbfsResultPath": null,
       "isJsonSchema": true,
       "metadata": {
        "isDbfsCommandResult": false
       },
       "overflow": false,
       "plotOptions": {
        "customPlotOptions": {},
        "displayType": "table",
        "pivotAggregation": null,
        "pivotColumns": null,
        "xColumns": null,
        "yColumns": null
       },
       "removedWidgets": [],
       "schema": [
        {
         "metadata": "{\"__autoGeneratedAlias\":\"true\"}",
         "name": "avg(ArrDelay)",
         "type": "\"double\""
        }
       ],
       "type": "table"
      }
     },
     "output_type": "display_data"
    }
   ],
   "source": [
    "-- Perform the SELECT operation with the AVG operation on the 'ArrDelay' column and the 'FlightNum' set to '1890'.\n",
    "SELECT AVG(ArrDelay) \n",
    "FROM flights\n",
    "WHERE FlightNum = 1890"
   ]
  },
  {
   "cell_type": "markdown",
   "metadata": {
    "application/vnd.databricks.v1+cell": {
     "cellMetadata": {},
     "inputWidgets": {},
     "nuid": "b2fc3180-4e15-41ab-a8cc-984f1eaa46ae",
     "showTitle": false,
     "tableResultSettingsMap": {},
     "title": ""
    }
   },
   "source": [
    "Let's see how this query performed using the Spark UI. Note in particular the amount of cloud storage requests and their associated time. To view how the query performed complete the following:\n",
    "\n",
    "1. In the cell above, expand **Spark Jobs**.\n",
    "\n",
    "2. Right click on **View** and select *Open in a New Tab*. \n",
    "\n",
    "    **NOTE:** In the Vocareum lab environment if you click **View** without opening it in a new tab the pop up window will display an error.\n",
    "\n",
    "3. In the new window, find the **Associated SQL Query** header at the top and select the number.\n",
    "\n",
    "4. Here you should see the entire query plan.\n",
    "\n",
    "5. In the query plan, scroll down to the bottom and find **PhotonScan parquet dbacademy_flightdata.v01.flights (1)** and select the plus icon.\n",
    "\n",
    "\n",
    "\n",
    "#### Look at the following metrics in the Spark UI (results may vary slightly):\n",
    "| Metric    | Value    | Note    |\n",
    "|-------------|-------------|-------------|\n",
    "| cloud storage request count total (min, med, max)| 6 (3, 3, 3)|  Refers to the number of requests made to the cloud storage systems like S3, Azure Blob, or Google Cloud Storage during job execution. This could involve multiple operations like reading metadata, accessing directories, or fetching the actual data.|\n",
    "| cloud storage response size total (min, med, max)|53.5 MiB (26.3 MiB, 27.2 MiB, 27.2 MiB)| Indicates the total amount of data transferred from cloud storage to Spark during the execution of a job. It helps track the volume of data read or written to cloud storage, providing insights into I/O performance and potential bottlenecks related to data transfer.<br></br> The min, med and max suggest that the cloud storage requests were relatively consistent in size.|\n",
    "| files pruned | 30 |A total of 30 files were skipped by Spark due to pruning based on the query's filters. This is due to the table being z-ordered by **FlightNum** and queried by the **FlightNum** column.|\n",
    "| files read | 1| Only 1 file was read during the execution of the Spark job.|\n",
    "\n",
    "\n",
    "#### Summary\n",
    "This table was Z-ordered by **FlightNum** and queried by the **FlightNum** column. In this scenario, the files were organized by **FlightNum** and queried by **FlightNum**, so it was optimized for the query to efficiently read the necessary files. On average, this query will take about ~2 seconds to complete.\n"
   ]
  },
  {
   "cell_type": "markdown",
   "metadata": {
    "application/vnd.databricks.v1+cell": {
     "cellMetadata": {},
     "inputWidgets": {},
     "nuid": "3409be9e-7042-4d66-a607-c3c91261c9eb",
     "showTitle": false,
     "tableResultSettingsMap": {},
     "title": ""
    }
   },
   "source": [
    "#### C2.3 id Column Query\n",
    "1. Run the following query to analyze the records in the flight table with the **id** *1125281431554*. Take note of the time it took for the query to execute.\n",
    "\n"
   ]
  },
  {
   "cell_type": "code",
   "execution_count": 0,
   "metadata": {
    "application/vnd.databricks.v1+cell": {
     "cellMetadata": {
      "byteLimit": 2048000,
      "rowLimit": 10000
     },
     "inputWidgets": {},
     "nuid": "b070a0d8-ac9e-470d-b0dd-90a74d51c272",
     "showTitle": false,
     "tableResultSettingsMap": {},
     "title": ""
    }
   },
   "outputs": [
    {
     "output_type": "display_data",
     "data": {
      "text/html": [
       "<style scoped>\n",
       "  .table-result-container {\n",
       "    max-height: 300px;\n",
       "    overflow: auto;\n",
       "  }\n",
       "  table, th, td {\n",
       "    border: 1px solid black;\n",
       "    border-collapse: collapse;\n",
       "  }\n",
       "  th, td {\n",
       "    padding: 5px;\n",
       "  }\n",
       "  th {\n",
       "    text-align: left;\n",
       "  }\n",
       "</style><div class='table-result-container'><table class='table-result'><thead style='background-color: white'><tr><th>id</th><th>year</th><th>FlightNum</th><th>ArrDelay</th><th>UniqueCarrier</th><th>TailNum</th></tr></thead><tbody><tr><td>1125281431554</td><td>1992</td><td>222</td><td>-8</td><td>AA</td><td>NA</td></tr></tbody></table></div>"
      ]
     },
     "metadata": {
      "application/vnd.databricks.v1+output": {
       "addedWidgets": {},
       "aggData": [],
       "aggError": "",
       "aggOverflow": false,
       "aggSchema": [],
       "aggSeriesLimitReached": false,
       "aggType": "",
       "arguments": {},
       "columnCustomDisplayInfos": {},
       "data": [
        [
         1125281431554,
         1992,
         222,
         "-8",
         "AA",
         "NA"
        ]
       ],
       "datasetInfos": [],
       "dbfsResultPath": null,
       "isJsonSchema": true,
       "metadata": {
        "isDbfsCommandResult": false
       },
       "overflow": false,
       "plotOptions": {
        "customPlotOptions": {},
        "displayType": "table",
        "pivotAggregation": null,
        "pivotColumns": null,
        "xColumns": null,
        "yColumns": null
       },
       "removedWidgets": [],
       "schema": [
        {
         "metadata": "{}",
         "name": "id",
         "type": "\"long\""
        },
        {
         "metadata": "{}",
         "name": "year",
         "type": "\"integer\""
        },
        {
         "metadata": "{}",
         "name": "FlightNum",
         "type": "\"integer\""
        },
        {
         "metadata": "{}",
         "name": "ArrDelay",
         "type": "\"string\""
        },
        {
         "metadata": "{}",
         "name": "UniqueCarrier",
         "type": "\"string\""
        },
        {
         "metadata": "{}",
         "name": "TailNum",
         "type": "\"string\""
        }
       ],
       "type": "table"
      }
     },
     "output_type": "display_data"
    }
   ],
   "source": [
    "SELECT * \n",
    "FROM flights\n",
    "WHERE id = 1125281431554;"
   ]
  },
  {
   "cell_type": "markdown",
   "metadata": {
    "application/vnd.databricks.v1+cell": {
     "cellMetadata": {},
     "inputWidgets": {},
     "nuid": "53ec0bd9-f798-4659-9b9e-6a9fcf16c91b",
     "showTitle": false,
     "tableResultSettingsMap": {},
     "title": ""
    }
   },
   "source": [
    "Let's see how this query performed using the Spark UI. Note in particular the amount of cloud storage requests and their associated time. To view how the query performed complete the following:\n",
    "\n",
    "1. In the cell above, expand **Spark Jobs**.\n",
    "\n",
    "2. Right click on **View** and select *Open in a New Tab*. \n",
    "\n",
    "    **NOTE:** In the Vocareum lab environment if you click **View** without opening it in a new tab the pop up window will display an error.\n",
    "\n",
    "3. In the new window, find the **Associated SQL Query** header at the top and select the number.\n",
    "\n",
    "4. Here you should see the entire query plan.\n",
    "\n",
    "5. In the query plan, scroll down to the bottom and find **PhotonScan parquet dbacademy_flightdata.v01.flights (1)** and select the plus icon.\n",
    "\n",
    "\n",
    "\n",
    "#### Look at the following metrics in the Spark UI (results may vary slightly):\n",
    "| Metric    | Value    | Note    |\n",
    "|-------------|-------------|-------------|\n",
    "| cloud storage request count total (min, med, max)| 267 (1, 4, 14)| Refers to the number of requests made to the cloud storage systems like S3, Azure Blob, or Google Cloud Storage during job execution. This could involve multiple operations like reading metadata, accessing directories, or fetching the actual data.|\n",
    "| **cloud storage response size total (min, med, max)**|**4.7 GiB (256.0 KiB, 72.5 MiB, 101.1 MiB)**| Indicates the total amount of data transferred from cloud storage to Spark during the execution of a job. It helps track the volume of data read or written to cloud storage, providing insights into I/O performance and potential bottlenecks related to data transfer.<br></br> The total data transferred is extremely large at around 4.7 GiB and the individual request sizes vary greatly.|\n",
    "| files pruned | 0 |A total of 0 files were skipped by Spark due to pruning based on the query's filters. This is due to the table being z-ordered by **FlightNum** and queried by the high cardinality **id** column.|\n",
    "| files read | 31| All files were read during the execution of the Spark job.|\n",
    "\n",
    "\n",
    "#### Summary\n",
    "This table was Z-ordered by **FlightNum** and queried by the **id** column. The **id** column is a high-cardinality column, which causes the query to:\n",
    "- Have a very large cloud storage response size.\n",
    "- Read every file.\n",
    "- Run for around ~28 seconds."
   ]
  },
  {
   "cell_type": "markdown",
   "metadata": {
    "application/vnd.databricks.v1+cell": {
     "cellMetadata": {},
     "inputWidgets": {},
     "nuid": "1e61bf00-8773-43ab-a477-c943b30eee07",
     "showTitle": false,
     "tableResultSettingsMap": {},
     "title": ""
    }
   },
   "source": [
    "### C3. Explore Liquid Clustering on Tables\n",
    "Delta Lake liquid clustering replaces table partitioning and ZORDER to simplify data layout decisions and optimize query performance. It provides flexibility to redefine clustering keys without rewriting existing data, allowing data layout to evolve alongside analytic needs over time.  \n",
    "\n",
    "Databricks recommends liquid clustering for all new Delta tables. Scenarios benefiting from clustering include:\n",
    "\n",
    "* Tables often filtered by high cardinality columns.\n",
    "* Tables with a significant skew in data distribution.\n",
    "* Tables that grow quickly and require maintenance and tuning effort.\n",
    "* Tables with concurrent write requirements.\n",
    "* Tables with access patterns that change over time.\n",
    "* Tables where a typical partition key could leave the table with too many or too few partitions.\n",
    "\n",
    "For more information on how to enable the liquid clustering, refer to the [documentation](https://docs.databricks.com/en/delta/clustering.html#enable-liquid-clustering)\n",
    "\n",
    "**NOTE:** These queries on the ZORDERED table are already quite fast without using clustering, considering we are using a small cluster, and the tables are not extremely large. But there is room for improvement."
   ]
  },
  {
   "cell_type": "markdown",
   "metadata": {
    "application/vnd.databricks.v1+cell": {
     "cellMetadata": {},
     "inputWidgets": {},
     "nuid": "f991fad0-819e-419f-b698-cdda5eed3a34",
     "showTitle": false,
     "tableResultSettingsMap": {},
     "title": ""
    }
   },
   "source": [
    "#### C3.1 Query Performance with Liquid Clustering (id column)\n",
    "Run the following three queries. These queries pull data from the **flights_cluster_id** table. This table is exactly the same as the one we used in the queries above, except that we have enabled liquid clustering by adding `CLUSTER BY (id)` when the table was created.  \n",
    "  \n",
    "Note the following:\n",
    "- When we query by the clustered column (**id**), we see an improvement in query performance\n",
    "- We don't see a degradation in performance on queries against unclustered columns  \n"
   ]
  },
  {
   "cell_type": "markdown",
   "metadata": {
    "application/vnd.databricks.v1+cell": {
     "cellMetadata": {},
     "inputWidgets": {},
     "nuid": "9172b81d-62af-4799-9977-744a66a8c6b2",
     "showTitle": false,
     "tableResultSettingsMap": {},
     "title": ""
    }
   },
   "source": [
    "1. Execute the cell below to view the history of the **flights_cluster_id** table. In the output, observe the following:\n",
    "- In the **operationParameters** column, notice that the **flights_cluster_id** table has been optimized with a *clusterBy* on the **ID** column.\n",
    "\n",
    "- In the **operationMetrics** column, notice that the clustered table was created with *128* files.\n"
   ]
  },
  {
   "cell_type": "code",
   "execution_count": 0,
   "metadata": {
    "application/vnd.databricks.v1+cell": {
     "cellMetadata": {
      "byteLimit": 2048000,
      "rowLimit": 10000
     },
     "inputWidgets": {},
     "nuid": "777b7b2b-0ecf-4487-9a6e-c9731393b02e",
     "showTitle": false,
     "tableResultSettingsMap": {},
     "title": ""
    }
   },
   "outputs": [
    {
     "output_type": "display_data",
     "data": {
      "text/html": [
       "<style scoped>\n",
       "  .table-result-container {\n",
       "    max-height: 300px;\n",
       "    overflow: auto;\n",
       "  }\n",
       "  table, th, td {\n",
       "    border: 1px solid black;\n",
       "    border-collapse: collapse;\n",
       "  }\n",
       "  th, td {\n",
       "    padding: 5px;\n",
       "  }\n",
       "  th {\n",
       "    text-align: left;\n",
       "  }\n",
       "</style><div class='table-result-container'><table class='table-result'><thead style='background-color: white'><tr><th>version</th><th>timestamp</th><th>userId</th><th>userName</th><th>operation</th><th>operationParameters</th><th>job</th><th>notebook</th><th>clusterId</th><th>readVersion</th><th>isolationLevel</th><th>isBlindAppend</th><th>operationMetrics</th><th>userMetadata</th><th>engineInfo</th></tr></thead><tbody><tr><td>0</td><td>2024-12-03T18:47:05Z</td><td>3815490658822207</td><td>david.leblanc@databricks.com</td><td>CREATE TABLE AS SELECT</td><td>Map(partitionBy -> [], clusterBy -> [\"id\"], description -> null, isManaged -> true, properties -> {\"delta.enableDeletionVectors\":\"true\",\"delta.enableRowTracking\":\"true\",\"delta.checkpointPolicy\":\"v2\",\"delta.rowTracking.materializedRowCommitVersionColumnName\":\"_row-commit-version-col-bd03ea2d-cc1b-4542-beb7-264fcb4ce4ba\",\"delta.rowTracking.materializedRowIdColumnName\":\"_row-id-col-26c57c7e-731a-45cf-b014-551812ffe676\"}, statsOnLoad -> false, clusteringOnWriteStatus -> kdtree triggered)</td><td>null</td><td>List(1748258649959904)</td><td>0912-202238-s1wcxm9s</td><td>null</td><td>WriteSerializable</td><td>true</td><td>Map(numFiles -> 128, numOutputRows -> 1235347780, numOutputBytes -> 8279322235)</td><td>null</td><td>Databricks-Runtime/15.4.x-cpu-ml-scala2.12</td></tr></tbody></table></div>"
      ]
     },
     "metadata": {
      "application/vnd.databricks.v1+output": {
       "addedWidgets": {},
       "aggData": [],
       "aggError": "",
       "aggOverflow": false,
       "aggSchema": [],
       "aggSeriesLimitReached": false,
       "aggType": "",
       "arguments": {},
       "columnCustomDisplayInfos": {},
       "data": [
        [
         0,
         "2024-12-03T18:47:05Z",
         "3815490658822207",
         "david.leblanc@databricks.com",
         "CREATE TABLE AS SELECT",
         {
          "clusterBy": "[\"id\"]",
          "clusteringOnWriteStatus": "kdtree triggered",
          "description": null,
          "isManaged": "true",
          "partitionBy": "[]",
          "properties": "{\"delta.enableDeletionVectors\":\"true\",\"delta.enableRowTracking\":\"true\",\"delta.checkpointPolicy\":\"v2\",\"delta.rowTracking.materializedRowCommitVersionColumnName\":\"_row-commit-version-col-bd03ea2d-cc1b-4542-beb7-264fcb4ce4ba\",\"delta.rowTracking.materializedRowIdColumnName\":\"_row-id-col-26c57c7e-731a-45cf-b014-551812ffe676\"}",
          "statsOnLoad": "false"
         },
         null,
         [
          "1748258649959904"
         ],
         "0912-202238-s1wcxm9s",
         null,
         "WriteSerializable",
         true,
         {
          "numFiles": "128",
          "numOutputBytes": "8279322235",
          "numOutputRows": "1235347780"
         },
         null,
         "Databricks-Runtime/15.4.x-cpu-ml-scala2.12"
        ]
       ],
       "datasetInfos": [],
       "dbfsResultPath": null,
       "isJsonSchema": true,
       "metadata": {
        "isDbfsCommandResult": false
       },
       "overflow": false,
       "plotOptions": {
        "customPlotOptions": {},
        "displayType": "table",
        "pivotAggregation": null,
        "pivotColumns": null,
        "xColumns": null,
        "yColumns": null
       },
       "removedWidgets": [],
       "schema": [
        {
         "metadata": "{}",
         "name": "version",
         "type": "\"long\""
        },
        {
         "metadata": "{}",
         "name": "timestamp",
         "type": "\"timestamp\""
        },
        {
         "metadata": "{}",
         "name": "userId",
         "type": "\"string\""
        },
        {
         "metadata": "{}",
         "name": "userName",
         "type": "\"string\""
        },
        {
         "metadata": "{}",
         "name": "operation",
         "type": "\"string\""
        },
        {
         "metadata": "{}",
         "name": "operationParameters",
         "type": "{\"type\":\"map\",\"keyType\":\"string\",\"valueType\":\"string\",\"valueContainsNull\":true}"
        },
        {
         "metadata": "{}",
         "name": "job",
         "type": "{\"type\":\"struct\",\"fields\":[{\"name\":\"jobId\",\"type\":\"string\",\"nullable\":true,\"metadata\":{}},{\"name\":\"jobName\",\"type\":\"string\",\"nullable\":true,\"metadata\":{}},{\"name\":\"jobRunId\",\"type\":\"string\",\"nullable\":true,\"metadata\":{}},{\"name\":\"runId\",\"type\":\"string\",\"nullable\":true,\"metadata\":{}},{\"name\":\"jobOwnerId\",\"type\":\"string\",\"nullable\":true,\"metadata\":{}},{\"name\":\"triggerType\",\"type\":\"string\",\"nullable\":true,\"metadata\":{}}]}"
        },
        {
         "metadata": "{}",
         "name": "notebook",
         "type": "{\"type\":\"struct\",\"fields\":[{\"name\":\"notebookId\",\"type\":\"string\",\"nullable\":true,\"metadata\":{}}]}"
        },
        {
         "metadata": "{}",
         "name": "clusterId",
         "type": "\"string\""
        },
        {
         "metadata": "{}",
         "name": "readVersion",
         "type": "\"long\""
        },
        {
         "metadata": "{}",
         "name": "isolationLevel",
         "type": "\"string\""
        },
        {
         "metadata": "{}",
         "name": "isBlindAppend",
         "type": "\"boolean\""
        },
        {
         "metadata": "{}",
         "name": "operationMetrics",
         "type": "{\"type\":\"map\",\"keyType\":\"string\",\"valueType\":\"string\",\"valueContainsNull\":true}"
        },
        {
         "metadata": "{}",
         "name": "userMetadata",
         "type": "\"string\""
        },
        {
         "metadata": "{}",
         "name": "engineInfo",
         "type": "\"string\""
        }
       ],
       "type": "table"
      }
     },
     "output_type": "display_data"
    }
   ],
   "source": [
    "DESCRIBE HISTORY flights_cluster_id;"
   ]
  },
  {
   "cell_type": "markdown",
   "metadata": {
    "application/vnd.databricks.v1+cell": {
     "cellMetadata": {},
     "inputWidgets": {},
     "nuid": "df43a202-cd5a-4a97-8cde-219b5f2b1670",
     "showTitle": false,
     "tableResultSettingsMap": {},
     "title": ""
    }
   },
   "source": [
    "2. View detailed metadata about the **flights_cluster_id** table. Notice the following:\n",
    "- The table contains the same 6 columns.\n",
    "- Under *#Clustering Information*, we see that the table is clustered by **id**.\n",
    "- At the bottom of the results, the **Table Properties** contain a variety of properties for liquid clustering."
   ]
  },
  {
   "cell_type": "code",
   "execution_count": 0,
   "metadata": {
    "application/vnd.databricks.v1+cell": {
     "cellMetadata": {
      "byteLimit": 2048000,
      "rowLimit": 10000
     },
     "inputWidgets": {},
     "nuid": "0ef6b846-e723-4d45-b6bd-7127464376a8",
     "showTitle": false,
     "tableResultSettingsMap": {},
     "title": ""
    }
   },
   "outputs": [
    {
     "output_type": "display_data",
     "data": {
      "text/html": [
       "<style scoped>\n",
       "  .table-result-container {\n",
       "    max-height: 300px;\n",
       "    overflow: auto;\n",
       "  }\n",
       "  table, th, td {\n",
       "    border: 1px solid black;\n",
       "    border-collapse: collapse;\n",
       "  }\n",
       "  th, td {\n",
       "    padding: 5px;\n",
       "  }\n",
       "  th {\n",
       "    text-align: left;\n",
       "  }\n",
       "</style><div class='table-result-container'><table class='table-result'><thead style='background-color: white'><tr><th>col_name</th><th>data_type</th><th>comment</th></tr></thead><tbody><tr><td>id</td><td>bigint</td><td>null</td></tr><tr><td>year</td><td>int</td><td>null</td></tr><tr><td>FlightNum</td><td>int</td><td>null</td></tr><tr><td>ArrDelay</td><td>string</td><td>null</td></tr><tr><td>UniqueCarrier</td><td>string</td><td>null</td></tr><tr><td>TailNum</td><td>string</td><td>null</td></tr><tr><td># Clustering Information</td><td></td><td></td></tr><tr><td># col_name</td><td>data_type</td><td>comment</td></tr><tr><td>id</td><td>bigint</td><td>null</td></tr><tr><td></td><td></td><td></td></tr><tr><td># Delta Statistics Columns</td><td></td><td></td></tr><tr><td>Column Names</td><td>FlightNum, year, TailNum, id, UniqueCarrier, ArrDelay</td><td></td></tr><tr><td>Column Selection Method</td><td>first-32</td><td></td></tr><tr><td></td><td></td><td></td></tr><tr><td># Detailed Table Information</td><td></td><td></td></tr><tr><td>Catalog</td><td>dbacademy_flightdata</td><td></td></tr><tr><td>Database</td><td>v01</td><td></td></tr><tr><td>Table</td><td>flights_cluster_id</td><td></td></tr><tr><td>Created Time</td><td>Thu May 08 11:10:32 UTC 2025</td><td></td></tr><tr><td>Last Access</td><td>UNKNOWN</td><td></td></tr><tr><td>Created By</td><td>Spark </td><td></td></tr><tr><td>Type</td><td>MANAGED</td><td></td></tr><tr><td>Location</td><td>s3://marketplace-sandbox-uc-databricks/UC/8f245c11-89d6-49ba-b4cb-8698c92dc4fe/tables/40d0691d-6fb9-4582-8032-dadc4a8a5e99</td><td></td></tr><tr><td>Provider</td><td>delta</td><td></td></tr><tr><td>Owner</td><td>metastore_admins</td><td></td></tr><tr><td>Is_managed_location</td><td>true</td><td></td></tr><tr><td>Table Properties</td><td>[clusteringColumns=[[\"id\"]],delta.checkpointPolicy=v2,delta.enableDeletionVectors=true,delta.enableRowTracking=true,delta.feature.clustering=supported,delta.feature.deletionVectors=supported,delta.feature.domainMetadata=supported,delta.feature.rowTracking=supported,delta.feature.v2Checkpoint=supported,delta.minReaderVersion=3,delta.minWriterVersion=7,delta.rowTracking.materializedRowCommitVersionColumnName=_row-commit-version-col-bd03ea2d-cc1b-4542-beb7-264fcb4ce4ba,delta.rowTracking.materializedRowIdColumnName=_row-id-col-26c57c7e-731a-45cf-b014-551812ffe676]</td><td></td></tr></tbody></table></div>"
      ]
     },
     "metadata": {
      "application/vnd.databricks.v1+output": {
       "addedWidgets": {},
       "aggData": [],
       "aggError": "",
       "aggOverflow": false,
       "aggSchema": [],
       "aggSeriesLimitReached": false,
       "aggType": "",
       "arguments": {},
       "columnCustomDisplayInfos": {},
       "data": [
        [
         "id",
         "bigint",
         null
        ],
        [
         "year",
         "int",
         null
        ],
        [
         "FlightNum",
         "int",
         null
        ],
        [
         "ArrDelay",
         "string",
         null
        ],
        [
         "UniqueCarrier",
         "string",
         null
        ],
        [
         "TailNum",
         "string",
         null
        ],
        [
         "# Clustering Information",
         "",
         ""
        ],
        [
         "# col_name",
         "data_type",
         "comment"
        ],
        [
         "id",
         "bigint",
         null
        ],
        [
         "",
         "",
         ""
        ],
        [
         "# Delta Statistics Columns",
         "",
         ""
        ],
        [
         "Column Names",
         "FlightNum, year, TailNum, id, UniqueCarrier, ArrDelay",
         ""
        ],
        [
         "Column Selection Method",
         "first-32",
         ""
        ],
        [
         "",
         "",
         ""
        ],
        [
         "# Detailed Table Information",
         "",
         ""
        ],
        [
         "Catalog",
         "dbacademy_flightdata",
         ""
        ],
        [
         "Database",
         "v01",
         ""
        ],
        [
         "Table",
         "flights_cluster_id",
         ""
        ],
        [
         "Created Time",
         "Thu May 08 11:10:32 UTC 2025",
         ""
        ],
        [
         "Last Access",
         "UNKNOWN",
         ""
        ],
        [
         "Created By",
         "Spark ",
         ""
        ],
        [
         "Type",
         "MANAGED",
         ""
        ],
        [
         "Location",
         "s3://marketplace-sandbox-uc-databricks/UC/8f245c11-89d6-49ba-b4cb-8698c92dc4fe/tables/40d0691d-6fb9-4582-8032-dadc4a8a5e99",
         ""
        ],
        [
         "Provider",
         "delta",
         ""
        ],
        [
         "Owner",
         "metastore_admins",
         ""
        ],
        [
         "Is_managed_location",
         "true",
         ""
        ],
        [
         "Table Properties",
         "[clusteringColumns=[[\"id\"]],delta.checkpointPolicy=v2,delta.enableDeletionVectors=true,delta.enableRowTracking=true,delta.feature.clustering=supported,delta.feature.deletionVectors=supported,delta.feature.domainMetadata=supported,delta.feature.rowTracking=supported,delta.feature.v2Checkpoint=supported,delta.minReaderVersion=3,delta.minWriterVersion=7,delta.rowTracking.materializedRowCommitVersionColumnName=_row-commit-version-col-bd03ea2d-cc1b-4542-beb7-264fcb4ce4ba,delta.rowTracking.materializedRowIdColumnName=_row-id-col-26c57c7e-731a-45cf-b014-551812ffe676]",
         ""
        ]
       ],
       "datasetInfos": [],
       "dbfsResultPath": null,
       "isJsonSchema": true,
       "metadata": {
        "isDbfsCommandResult": false
       },
       "overflow": false,
       "plotOptions": {
        "customPlotOptions": {},
        "displayType": "table",
        "pivotAggregation": null,
        "pivotColumns": null,
        "xColumns": null,
        "yColumns": null
       },
       "removedWidgets": [],
       "schema": [
        {
         "metadata": "{\"comment\":\"name of the column\"}",
         "name": "col_name",
         "type": "\"string\""
        },
        {
         "metadata": "{\"comment\":\"data type of the column\"}",
         "name": "data_type",
         "type": "\"string\""
        },
        {
         "metadata": "{\"comment\":\"comment of the column\"}",
         "name": "comment",
         "type": "\"string\""
        }
       ],
       "type": "table"
      }
     },
     "output_type": "display_data"
    }
   ],
   "source": [
    "DESCRIBE TABLE EXTENDED flights_cluster_id;"
   ]
  },
  {
   "cell_type": "markdown",
   "metadata": {
    "application/vnd.databricks.v1+cell": {
     "cellMetadata": {},
     "inputWidgets": {},
     "nuid": "14e40b13-1043-4daf-a4a3-313650b1db4e",
     "showTitle": false,
     "tableResultSettingsMap": {},
     "title": ""
    }
   },
   "source": [
    "##### C3.1.1 Unique Carrier Column Query\n",
    "1. Run the following query to analyze the average arrival delay in flights for the *TW* airline. Take note of the time it took for the query to execute.\n",
    "\n",
    "    **NOTE:** The **flights_cluster_id** table is clustered by **id**.\n"
   ]
  },
  {
   "cell_type": "code",
   "execution_count": 0,
   "metadata": {
    "application/vnd.databricks.v1+cell": {
     "cellMetadata": {
      "byteLimit": 2048000,
      "rowLimit": 10000
     },
     "inputWidgets": {},
     "nuid": "911751f8-c40e-449e-8878-fff360f13447",
     "showTitle": false,
     "tableResultSettingsMap": {},
     "title": ""
    }
   },
   "outputs": [
    {
     "output_type": "display_data",
     "data": {
      "text/html": [
       "<style scoped>\n",
       "  .table-result-container {\n",
       "    max-height: 300px;\n",
       "    overflow: auto;\n",
       "  }\n",
       "  table, th, td {\n",
       "    border: 1px solid black;\n",
       "    border-collapse: collapse;\n",
       "  }\n",
       "  th, td {\n",
       "    padding: 5px;\n",
       "  }\n",
       "  th {\n",
       "    text-align: left;\n",
       "  }\n",
       "</style><div class='table-result-container'><table class='table-result'><thead style='background-color: white'><tr><th>avg(ArrDelay)</th></tr></thead><tbody><tr><td>6.856535107094981</td></tr></tbody></table></div>"
      ]
     },
     "metadata": {
      "application/vnd.databricks.v1+output": {
       "addedWidgets": {},
       "aggData": [],
       "aggError": "",
       "aggOverflow": false,
       "aggSchema": [],
       "aggSeriesLimitReached": false,
       "aggType": "",
       "arguments": {},
       "columnCustomDisplayInfos": {},
       "data": [
        [
         6.856535107094981
        ]
       ],
       "datasetInfos": [],
       "dbfsResultPath": null,
       "isJsonSchema": true,
       "metadata": {
        "isDbfsCommandResult": false
       },
       "overflow": false,
       "plotOptions": {
        "customPlotOptions": {},
        "displayType": "table",
        "pivotAggregation": null,
        "pivotColumns": null,
        "xColumns": null,
        "yColumns": null
       },
       "removedWidgets": [],
       "schema": [
        {
         "metadata": "{\"__autoGeneratedAlias\":\"true\"}",
         "name": "avg(ArrDelay)",
         "type": "\"double\""
        }
       ],
       "type": "table"
      }
     },
     "output_type": "display_data"
    }
   ],
   "source": [
    "-- Perform the SELECT operation on the 'flights_cluster_id' table with the AVG operation on the 'ArrDelay' column and the 'UniqueCarrier' set to 'TW'.\n",
    "SELECT AVG(ArrDelay) \n",
    "FROM flights_cluster_id\n",
    "WHERE UniqueCarrier = 'TW';"
   ]
  },
  {
   "cell_type": "markdown",
   "metadata": {
    "application/vnd.databricks.v1+cell": {
     "cellMetadata": {},
     "inputWidgets": {},
     "nuid": "33b03451-7d6b-4000-9ae1-abb5d57860e1",
     "showTitle": false,
     "tableResultSettingsMap": {},
     "title": ""
    }
   },
   "source": [
    "Let's see how this query performed using the Spark UI. Note in particular the amount of cloud storage requests and their associated time. To view how the query performed complete the following:\n",
    "\n",
    "1. In the cell above, expand **Spark Jobs**.\n",
    "\n",
    "2. Right click on **View** and select *Open in a New Tab*. \n",
    "\n",
    "    **NOTE:** In the Vocareum lab environment if you click **View** without opening it in a new tab the pop up window will display an error.\n",
    "\n",
    "3. In the new window, find the **Associated SQL Query** header at the top and select the number.\n",
    "\n",
    "4. Here you should see the entire query plan.\n",
    "\n",
    "5. In the query plan, scroll down to the bottom and find **PhotonScan parquet dbacademy_flightdata.v01.flights_cluster_id (1)** and select the plus icon.\n",
    "\n",
    "\n",
    "\n",
    "#### Look at the following metrics in the Spark UI (results may vary slightly):\n",
    "| Metric    | Value    | Note    |\n",
    "|-------------|-------------|-------------|\n",
    "| cloud storage request count total (min, med, max)| 316 (4, 8, 12)|  Refers to the number of requests made to the cloud storage systems like S3, Azure Blob, or Google Cloud Storage during job execution. This could involve multiple operations like reading metadata, accessing directories, or fetching the actual data.|\n",
    "| cloud storage response size total (min, med, max)|1047.8 MiB (601.0 KiB, 27.5 MiB, 47.2 MiB) | Indicates the total amount of data transferred from cloud storage to Spark during the execution of a job. It helps track the volume of data read or written to cloud storage, providing insights into I/O performance and potential bottlenecks related to data transfer.|\n",
    "| files pruned | 0 |A total of 0 files were skipped by Spark due to pruning based on the query's filters.|\n",
    "| files read | 128 | All files were read during the execution of the Spark job.|\n",
    "\n",
    "\n",
    "#### Summary\n",
    "This table was clustered by **id** and queried by the **UniqueCarrier** column, taking about ~10 seconds to execute. The execution time and cloud storage response size are very similar to the query on the optimized **flights** table with a ZORDER on **FlightNum**.\n"
   ]
  },
  {
   "cell_type": "markdown",
   "metadata": {
    "application/vnd.databricks.v1+cell": {
     "cellMetadata": {},
     "inputWidgets": {},
     "nuid": "0a52b033-d0bb-4224-97d2-3ff3b381e3a0",
     "showTitle": false,
     "tableResultSettingsMap": {},
     "title": ""
    }
   },
   "source": [
    "##### C3.1.2 FlightNum Column Query\n",
    "1. Run the following query to analyze the average arrival delay by flight number (**FlightNum**) *1809*. Take note of the time it took for the query to execute.\n"
   ]
  },
  {
   "cell_type": "code",
   "execution_count": 0,
   "metadata": {
    "application/vnd.databricks.v1+cell": {
     "cellMetadata": {
      "byteLimit": 2048000,
      "rowLimit": 10000
     },
     "inputWidgets": {},
     "nuid": "5649ff60-4056-4e8a-acc7-fdc05014597d",
     "showTitle": false,
     "tableResultSettingsMap": {},
     "title": ""
    }
   },
   "outputs": [
    {
     "output_type": "display_data",
     "data": {
      "text/html": [
       "<style scoped>\n",
       "  .table-result-container {\n",
       "    max-height: 300px;\n",
       "    overflow: auto;\n",
       "  }\n",
       "  table, th, td {\n",
       "    border: 1px solid black;\n",
       "    border-collapse: collapse;\n",
       "  }\n",
       "  th, td {\n",
       "    padding: 5px;\n",
       "  }\n",
       "  th {\n",
       "    text-align: left;\n",
       "  }\n",
       "</style><div class='table-result-container'><table class='table-result'><thead style='background-color: white'><tr><th>avg(ArrDelay)</th></tr></thead><tbody><tr><td>6.197794202121549</td></tr></tbody></table></div>"
      ]
     },
     "metadata": {
      "application/vnd.databricks.v1+output": {
       "addedWidgets": {},
       "aggData": [],
       "aggError": "",
       "aggOverflow": false,
       "aggSchema": [],
       "aggSeriesLimitReached": false,
       "aggType": "",
       "arguments": {},
       "columnCustomDisplayInfos": {},
       "data": [
        [
         6.197794202121549
        ]
       ],
       "datasetInfos": [],
       "dbfsResultPath": null,
       "isJsonSchema": true,
       "metadata": {
        "isDbfsCommandResult": false
       },
       "overflow": false,
       "plotOptions": {
        "customPlotOptions": {},
        "displayType": "table",
        "pivotAggregation": null,
        "pivotColumns": null,
        "xColumns": null,
        "yColumns": null
       },
       "removedWidgets": [],
       "schema": [
        {
         "metadata": "{\"__autoGeneratedAlias\":\"true\"}",
         "name": "avg(ArrDelay)",
         "type": "\"double\""
        }
       ],
       "type": "table"
      }
     },
     "output_type": "display_data"
    }
   ],
   "source": [
    "-- Perform the SELECT operation on the 'flights_cluster_id' table with the AVG operation on the 'ArrDelay' column and the 'FlightNum' set to '1890'.\n",
    "SELECT AVG(ArrDelay) \n",
    "FROM flights_cluster_id\n",
    "WHERE FlightNum = 1890;"
   ]
  },
  {
   "cell_type": "markdown",
   "metadata": {
    "application/vnd.databricks.v1+cell": {
     "cellMetadata": {},
     "inputWidgets": {},
     "nuid": "3d6d0dc0-f889-4a7b-85ad-2ab3bbcf59cb",
     "showTitle": false,
     "tableResultSettingsMap": {},
     "title": ""
    }
   },
   "source": [
    "Let's see how this query performed using the Spark UI. Note in particular the amount of cloud storage requests and their associated time. To view how the query performed complete the following:\n",
    "\n",
    "1. In the cell above, expand **Spark Jobs**.\n",
    "\n",
    "2. Right click on **View** and select *Open in a New Tab*. \n",
    "\n",
    "    **NOTE:** In the Vocareum lab environment if you click **View** without opening it in a new tab the pop up window will display an error.\n",
    "\n",
    "3. In the new window, find the **Associated SQL Query** header at the top and select the number.\n",
    "\n",
    "4. Here you should see the entire query plan.\n",
    "\n",
    "5. In the query plan, scroll down to the bottom and find **PhotonScan parquet dbacademy_flightdata.v01.flights_cluster_id (1)** and select the plus icon.\n",
    "\n",
    "\n",
    "\n",
    "#### Look at the following metrics in the Spark UI (results may vary slightly):\n",
    "| Metric    | Value    | Note    |\n",
    "|-------------|-------------|-------------|\n",
    "| cloud storage request count total (min, med, max)| \t275 (4, 12, 15)|Refers to the number of requests made to the cloud storage systems like S3, Azure Blob, or Google Cloud Storage during job execution. This could involve multiple operations like reading metadata, accessing directories, or fetching the actual data.|\n",
    "| cloud storage response size total (min, med, max)|1871.3 MiB (22.8 MiB, 85.3 MiB, 94.2 MiB) | Indicates the total amount of data transferred from cloud storage to Spark during the execution of a job. It helps track the volume of data read or written to cloud storage, providing insights into I/O performance and potential bottlenecks related to data transfer.|\n",
    "| files pruned | 0 |A total of 0 files were skipped by Spark due to pruning based on the query's filters. This is due to the table being clustered by **id** and queried by the **FlightNum** column.|\n",
    "| files read | 128 | All files were read during the execution of the Spark job.|\n",
    "\n",
    "\n",
    "#### Summary\n",
    "This table was clustered by **id** and queried by the **FlightNum** column, taking about ~10 seconds to execute. This query took a bit longer to execute, and the cloud storage response size was much larger than the query on the optimized **flights** table with a ZORDER on **FlightNum**.\n"
   ]
  },
  {
   "cell_type": "markdown",
   "metadata": {
    "application/vnd.databricks.v1+cell": {
     "cellMetadata": {},
     "inputWidgets": {},
     "nuid": "54ac68d2-dd4d-42bc-a085-679233e4e08d",
     "showTitle": false,
     "tableResultSettingsMap": {},
     "title": ""
    }
   },
   "source": [
    "##### C3.1.3 id Column Query\n",
    "1. Run the following query to analyze the records in the flight table with the **id** `1125281431554`. Take note of the time it took for the query to execute. Remember, the query on the **id** column in the **flights** table took about ~28 seconds to execute.\n"
   ]
  },
  {
   "cell_type": "code",
   "execution_count": 0,
   "metadata": {
    "application/vnd.databricks.v1+cell": {
     "cellMetadata": {
      "byteLimit": 2048000,
      "rowLimit": 10000
     },
     "inputWidgets": {},
     "nuid": "3eb03f31-a6b5-440d-9f37-7f9b2f026a77",
     "showTitle": false,
     "tableResultSettingsMap": {},
     "title": ""
    }
   },
   "outputs": [
    {
     "output_type": "display_data",
     "data": {
      "text/html": [
       "<style scoped>\n",
       "  .table-result-container {\n",
       "    max-height: 300px;\n",
       "    overflow: auto;\n",
       "  }\n",
       "  table, th, td {\n",
       "    border: 1px solid black;\n",
       "    border-collapse: collapse;\n",
       "  }\n",
       "  th, td {\n",
       "    padding: 5px;\n",
       "  }\n",
       "  th {\n",
       "    text-align: left;\n",
       "  }\n",
       "</style><div class='table-result-container'><table class='table-result'><thead style='background-color: white'><tr><th>id</th><th>year</th><th>FlightNum</th><th>ArrDelay</th><th>UniqueCarrier</th><th>TailNum</th></tr></thead><tbody><tr><td>1125281431554</td><td>1992</td><td>222</td><td>-8</td><td>AA</td><td>NA</td></tr></tbody></table></div>"
      ]
     },
     "metadata": {
      "application/vnd.databricks.v1+output": {
       "addedWidgets": {},
       "aggData": [],
       "aggError": "",
       "aggOverflow": false,
       "aggSchema": [],
       "aggSeriesLimitReached": false,
       "aggType": "",
       "arguments": {},
       "columnCustomDisplayInfos": {},
       "data": [
        [
         1125281431554,
         1992,
         222,
         "-8",
         "AA",
         "NA"
        ]
       ],
       "datasetInfos": [],
       "dbfsResultPath": null,
       "isJsonSchema": true,
       "metadata": {
        "isDbfsCommandResult": false
       },
       "overflow": false,
       "plotOptions": {
        "customPlotOptions": {},
        "displayType": "table",
        "pivotAggregation": null,
        "pivotColumns": null,
        "xColumns": null,
        "yColumns": null
       },
       "removedWidgets": [],
       "schema": [
        {
         "metadata": "{}",
         "name": "id",
         "type": "\"long\""
        },
        {
         "metadata": "{}",
         "name": "year",
         "type": "\"integer\""
        },
        {
         "metadata": "{}",
         "name": "FlightNum",
         "type": "\"integer\""
        },
        {
         "metadata": "{}",
         "name": "ArrDelay",
         "type": "\"string\""
        },
        {
         "metadata": "{}",
         "name": "UniqueCarrier",
         "type": "\"string\""
        },
        {
         "metadata": "{}",
         "name": "TailNum",
         "type": "\"string\""
        }
       ],
       "type": "table"
      }
     },
     "output_type": "display_data"
    }
   ],
   "source": [
    "SELECT * \n",
    "FROM flights_cluster_id\n",
    "WHERE id = 1125281431554"
   ]
  },
  {
   "cell_type": "markdown",
   "metadata": {
    "application/vnd.databricks.v1+cell": {
     "cellMetadata": {},
     "inputWidgets": {},
     "nuid": "a113c297-3d22-4c32-a70b-4298610010e7",
     "showTitle": false,
     "tableResultSettingsMap": {},
     "title": ""
    }
   },
   "source": [
    "Let's see how this query performed using the Spark UI. Note in particular the amount of cloud storage requests and their associated time. To view how the query performed complete the following:\n",
    "\n",
    "1. In the cell above, expand **Spark Jobs**.\n",
    "\n",
    "2. Right click on **View** and select *Open in a New Tab*. \n",
    "\n",
    "    **NOTE:** In the Vocareum lab environment if you click **View** without opening it in a new tab the pop up window will display an error.\n",
    "\n",
    "3. In the new window, find the **Associated SQL Query** header at the top and select the number.\n",
    "\n",
    "4. Here you should see the entire query plan.\n",
    "\n",
    "5. In the query plan, scroll down to the bottom and find **PhotonScan parquet dbacademy_flightdata.v01.flights_cluster_id (1)** and select the plus icon.\n",
    "\n",
    "\n",
    "#### Look at the following metrics in the Spark UI (results may vary slightly):\n",
    "| Metric    | Value    | Note    |\n",
    "|-------------|-------------|-------------|\n",
    "| cloud storage request count total | 4| Refers to the number of requests made to the cloud storage systems like S3, Azure Blob, or Google Cloud Storage during job execution. This could involve multiple operations like reading metadata, accessing directories, or fetching the actual data.|\n",
    "| cloud storage response size total |54.5 MiB| Indicates the total amount of data transferred from cloud storage to Spark during the execution of a job. It helps track the volume of data read or written to cloud storage, providing insights into I/O performance and potential bottlenecks related to data transfer.|\n",
    "| files pruned | 127 |A total of 127 files were skipped by Spark due to pruning based on the query's filters. This is due to the table being clustered by **id** and queried by the **id** column.|\n",
    "| files read | 1| Only 1 file was read during the execution of the Spark job.|\n",
    "\n",
    "\n",
    "#### Summary\n",
    "This table was clustered by **id** and queried by the **id** column. This enables Spark to optimally read the data and execute in around ~2 seconds, compared to ~28 seconds for the **flights** table, which contained a ZORDER on **FlightNum** and was optimized. The cloud storage response size was also much smaller than 4.7 GiB.\n"
   ]
  },
  {
   "cell_type": "markdown",
   "metadata": {
    "application/vnd.databricks.v1+cell": {
     "cellMetadata": {},
     "inputWidgets": {},
     "nuid": "4ef181eb-41a2-40de-9fd6-0549c2a85eb1",
     "showTitle": false,
     "tableResultSettingsMap": {},
     "title": ""
    }
   },
   "source": [
    "#### C3.2 Query Performance with Liquid Clustering (id and flight_num columns)\n",
    "Run the following three queries. These queries pull data from the **flights_cluster_id_flightnum** table. This table is clustered by both the **id** and **flight_num** columns.  \n",
    "\n",
    "Note the following:\n",
    "- We still don't have any degradation on unclustered columns. Had we used `PARTITION BY` to partition by **FlightNum** and **id**, we would see massive slowdown for any queries not on those columns, and writes would be prohibitively slow for this volume of data\n",
    "- Now queries on **FlightNum** are improved\n",
    "- Queries are a little slower on **id** now, however and we can look at the DAG to see why.\n",
    "\n",
    "Note that, because  we had to read more files to satisfy this request. There is a (small) cost to clustering on more columns, so choose wisely."
   ]
  },
  {
   "cell_type": "markdown",
   "metadata": {
    "application/vnd.databricks.v1+cell": {
     "cellMetadata": {},
     "inputWidgets": {},
     "nuid": "0a408816-065e-41a7-af97-6eb73a2c3a5e",
     "showTitle": false,
     "tableResultSettingsMap": {},
     "title": ""
    }
   },
   "source": [
    "1. Execute the cell below to view the history of the **flights_cluster_id_flightnum** table. In the output, observe the following:\n",
    "- In the **operationParameters** column, notice that the **flights_cluster_id_flightnum** table has been optimized with a *clusterBy* on the **id** and **FlightNum** columns.\n",
    "- In the **operationMetrics** column, notice that the clustered table was created with *144* files.\n"
   ]
  },
  {
   "cell_type": "code",
   "execution_count": 0,
   "metadata": {
    "application/vnd.databricks.v1+cell": {
     "cellMetadata": {
      "byteLimit": 2048000,
      "rowLimit": 10000
     },
     "inputWidgets": {},
     "nuid": "148427a9-5414-44b7-ab8c-f5c324a30480",
     "showTitle": false,
     "tableResultSettingsMap": {},
     "title": ""
    }
   },
   "outputs": [
    {
     "output_type": "display_data",
     "data": {
      "text/html": [
       "<style scoped>\n",
       "  .table-result-container {\n",
       "    max-height: 300px;\n",
       "    overflow: auto;\n",
       "  }\n",
       "  table, th, td {\n",
       "    border: 1px solid black;\n",
       "    border-collapse: collapse;\n",
       "  }\n",
       "  th, td {\n",
       "    padding: 5px;\n",
       "  }\n",
       "  th {\n",
       "    text-align: left;\n",
       "  }\n",
       "</style><div class='table-result-container'><table class='table-result'><thead style='background-color: white'><tr><th>version</th><th>timestamp</th><th>userId</th><th>userName</th><th>operation</th><th>operationParameters</th><th>job</th><th>notebook</th><th>clusterId</th><th>readVersion</th><th>isolationLevel</th><th>isBlindAppend</th><th>operationMetrics</th><th>userMetadata</th><th>engineInfo</th></tr></thead><tbody><tr><td>0</td><td>2024-12-03T19:06:47Z</td><td>3815490658822207</td><td>david.leblanc@databricks.com</td><td>CREATE TABLE AS SELECT</td><td>Map(partitionBy -> [], clusterBy -> [\"id\",\"FlightNum\"], description -> null, isManaged -> true, properties -> {\"delta.enableDeletionVectors\":\"true\",\"delta.enableRowTracking\":\"true\",\"delta.checkpointPolicy\":\"v2\",\"delta.rowTracking.materializedRowCommitVersionColumnName\":\"_row-commit-version-col-5ebefda6-fe35-4c85-9375-9928d4fbcf43\",\"delta.rowTracking.materializedRowIdColumnName\":\"_row-id-col-26f19bce-3cde-48a4-a942-e36aa4c2859b\"}, statsOnLoad -> false, clusteringOnWriteStatus -> kdtree triggered)</td><td>null</td><td>List(1748258649959904)</td><td>0912-202238-s1wcxm9s</td><td>null</td><td>WriteSerializable</td><td>true</td><td>Map(numFiles -> 144, numOutputRows -> 1235347780, numOutputBytes -> 8299868357)</td><td>null</td><td>Databricks-Runtime/15.4.x-cpu-ml-scala2.12</td></tr></tbody></table></div>"
      ]
     },
     "metadata": {
      "application/vnd.databricks.v1+output": {
       "addedWidgets": {},
       "aggData": [],
       "aggError": "",
       "aggOverflow": false,
       "aggSchema": [],
       "aggSeriesLimitReached": false,
       "aggType": "",
       "arguments": {},
       "columnCustomDisplayInfos": {},
       "data": [
        [
         0,
         "2024-12-03T19:06:47Z",
         "3815490658822207",
         "david.leblanc@databricks.com",
         "CREATE TABLE AS SELECT",
         {
          "clusterBy": "[\"id\",\"FlightNum\"]",
          "clusteringOnWriteStatus": "kdtree triggered",
          "description": null,
          "isManaged": "true",
          "partitionBy": "[]",
          "properties": "{\"delta.enableDeletionVectors\":\"true\",\"delta.enableRowTracking\":\"true\",\"delta.checkpointPolicy\":\"v2\",\"delta.rowTracking.materializedRowCommitVersionColumnName\":\"_row-commit-version-col-5ebefda6-fe35-4c85-9375-9928d4fbcf43\",\"delta.rowTracking.materializedRowIdColumnName\":\"_row-id-col-26f19bce-3cde-48a4-a942-e36aa4c2859b\"}",
          "statsOnLoad": "false"
         },
         null,
         [
          "1748258649959904"
         ],
         "0912-202238-s1wcxm9s",
         null,
         "WriteSerializable",
         true,
         {
          "numFiles": "144",
          "numOutputBytes": "8299868357",
          "numOutputRows": "1235347780"
         },
         null,
         "Databricks-Runtime/15.4.x-cpu-ml-scala2.12"
        ]
       ],
       "datasetInfos": [],
       "dbfsResultPath": null,
       "isJsonSchema": true,
       "metadata": {
        "isDbfsCommandResult": false
       },
       "overflow": false,
       "plotOptions": {
        "customPlotOptions": {},
        "displayType": "table",
        "pivotAggregation": null,
        "pivotColumns": null,
        "xColumns": null,
        "yColumns": null
       },
       "removedWidgets": [],
       "schema": [
        {
         "metadata": "{}",
         "name": "version",
         "type": "\"long\""
        },
        {
         "metadata": "{}",
         "name": "timestamp",
         "type": "\"timestamp\""
        },
        {
         "metadata": "{}",
         "name": "userId",
         "type": "\"string\""
        },
        {
         "metadata": "{}",
         "name": "userName",
         "type": "\"string\""
        },
        {
         "metadata": "{}",
         "name": "operation",
         "type": "\"string\""
        },
        {
         "metadata": "{}",
         "name": "operationParameters",
         "type": "{\"type\":\"map\",\"keyType\":\"string\",\"valueType\":\"string\",\"valueContainsNull\":true}"
        },
        {
         "metadata": "{}",
         "name": "job",
         "type": "{\"type\":\"struct\",\"fields\":[{\"name\":\"jobId\",\"type\":\"string\",\"nullable\":true,\"metadata\":{}},{\"name\":\"jobName\",\"type\":\"string\",\"nullable\":true,\"metadata\":{}},{\"name\":\"jobRunId\",\"type\":\"string\",\"nullable\":true,\"metadata\":{}},{\"name\":\"runId\",\"type\":\"string\",\"nullable\":true,\"metadata\":{}},{\"name\":\"jobOwnerId\",\"type\":\"string\",\"nullable\":true,\"metadata\":{}},{\"name\":\"triggerType\",\"type\":\"string\",\"nullable\":true,\"metadata\":{}}]}"
        },
        {
         "metadata": "{}",
         "name": "notebook",
         "type": "{\"type\":\"struct\",\"fields\":[{\"name\":\"notebookId\",\"type\":\"string\",\"nullable\":true,\"metadata\":{}}]}"
        },
        {
         "metadata": "{}",
         "name": "clusterId",
         "type": "\"string\""
        },
        {
         "metadata": "{}",
         "name": "readVersion",
         "type": "\"long\""
        },
        {
         "metadata": "{}",
         "name": "isolationLevel",
         "type": "\"string\""
        },
        {
         "metadata": "{}",
         "name": "isBlindAppend",
         "type": "\"boolean\""
        },
        {
         "metadata": "{}",
         "name": "operationMetrics",
         "type": "{\"type\":\"map\",\"keyType\":\"string\",\"valueType\":\"string\",\"valueContainsNull\":true}"
        },
        {
         "metadata": "{}",
         "name": "userMetadata",
         "type": "\"string\""
        },
        {
         "metadata": "{}",
         "name": "engineInfo",
         "type": "\"string\""
        }
       ],
       "type": "table"
      }
     },
     "output_type": "display_data"
    }
   ],
   "source": [
    "DESCRIBE HISTORY flights_cluster_id_flightnum"
   ]
  },
  {
   "cell_type": "markdown",
   "metadata": {
    "application/vnd.databricks.v1+cell": {
     "cellMetadata": {},
     "inputWidgets": {},
     "nuid": "573f9795-518b-4f0b-86d4-954d823d72db",
     "showTitle": false,
     "tableResultSettingsMap": {},
     "title": ""
    }
   },
   "source": [
    "2. View detailed metadata about the **flights_cluster_id_flightnum** table. Notice the following:\n",
    "- Under *#Clustering Information*, we see that the table is clustered by **id** and **FlightNum**.\n",
    "- At the bottom of the results, the **Table Properties** contain a variety of properties for liquid clustering.\n"
   ]
  },
  {
   "cell_type": "code",
   "execution_count": 0,
   "metadata": {
    "application/vnd.databricks.v1+cell": {
     "cellMetadata": {
      "byteLimit": 2048000,
      "rowLimit": 10000
     },
     "inputWidgets": {},
     "nuid": "386979c3-9e0a-4334-bac3-8e2473d44047",
     "showTitle": false,
     "tableResultSettingsMap": {},
     "title": ""
    }
   },
   "outputs": [
    {
     "output_type": "display_data",
     "data": {
      "text/html": [
       "<style scoped>\n",
       "  .table-result-container {\n",
       "    max-height: 300px;\n",
       "    overflow: auto;\n",
       "  }\n",
       "  table, th, td {\n",
       "    border: 1px solid black;\n",
       "    border-collapse: collapse;\n",
       "  }\n",
       "  th, td {\n",
       "    padding: 5px;\n",
       "  }\n",
       "  th {\n",
       "    text-align: left;\n",
       "  }\n",
       "</style><div class='table-result-container'><table class='table-result'><thead style='background-color: white'><tr><th>col_name</th><th>data_type</th><th>comment</th></tr></thead><tbody><tr><td>id</td><td>bigint</td><td>null</td></tr><tr><td>year</td><td>int</td><td>null</td></tr><tr><td>FlightNum</td><td>int</td><td>null</td></tr><tr><td>ArrDelay</td><td>string</td><td>null</td></tr><tr><td>UniqueCarrier</td><td>string</td><td>null</td></tr><tr><td>TailNum</td><td>string</td><td>null</td></tr><tr><td># Clustering Information</td><td></td><td></td></tr><tr><td># col_name</td><td>data_type</td><td>comment</td></tr><tr><td>id</td><td>bigint</td><td>null</td></tr><tr><td>FlightNum</td><td>int</td><td>null</td></tr><tr><td></td><td></td><td></td></tr><tr><td># Delta Statistics Columns</td><td></td><td></td></tr><tr><td>Column Names</td><td>FlightNum, year, TailNum, id, UniqueCarrier, ArrDelay</td><td></td></tr><tr><td>Column Selection Method</td><td>first-32</td><td></td></tr><tr><td></td><td></td><td></td></tr><tr><td># Detailed Table Information</td><td></td><td></td></tr><tr><td>Catalog</td><td>dbacademy_flightdata</td><td></td></tr><tr><td>Database</td><td>v01</td><td></td></tr><tr><td>Table</td><td>flights_cluster_id_flightnum</td><td></td></tr><tr><td>Created Time</td><td>Thu May 08 11:10:32 UTC 2025</td><td></td></tr><tr><td>Last Access</td><td>UNKNOWN</td><td></td></tr><tr><td>Created By</td><td>Spark </td><td></td></tr><tr><td>Type</td><td>MANAGED</td><td></td></tr><tr><td>Location</td><td>s3://marketplace-sandbox-uc-databricks/UC/8f245c11-89d6-49ba-b4cb-8698c92dc4fe/tables/e8b147f7-d220-46c8-a843-b1bdc707305d</td><td></td></tr><tr><td>Provider</td><td>delta</td><td></td></tr><tr><td>Owner</td><td>metastore_admins</td><td></td></tr><tr><td>Is_managed_location</td><td>true</td><td></td></tr><tr><td>Table Properties</td><td>[clusteringColumns=[[\"id\"],[\"FlightNum\"]],delta.checkpointPolicy=v2,delta.enableDeletionVectors=true,delta.enableRowTracking=true,delta.feature.clustering=supported,delta.feature.deletionVectors=supported,delta.feature.domainMetadata=supported,delta.feature.rowTracking=supported,delta.feature.v2Checkpoint=supported,delta.minReaderVersion=3,delta.minWriterVersion=7,delta.rowTracking.materializedRowCommitVersionColumnName=_row-commit-version-col-5ebefda6-fe35-4c85-9375-9928d4fbcf43,delta.rowTracking.materializedRowIdColumnName=_row-id-col-26f19bce-3cde-48a4-a942-e36aa4c2859b]</td><td></td></tr></tbody></table></div>"
      ]
     },
     "metadata": {
      "application/vnd.databricks.v1+output": {
       "addedWidgets": {},
       "aggData": [],
       "aggError": "",
       "aggOverflow": false,
       "aggSchema": [],
       "aggSeriesLimitReached": false,
       "aggType": "",
       "arguments": {},
       "columnCustomDisplayInfos": {},
       "data": [
        [
         "id",
         "bigint",
         null
        ],
        [
         "year",
         "int",
         null
        ],
        [
         "FlightNum",
         "int",
         null
        ],
        [
         "ArrDelay",
         "string",
         null
        ],
        [
         "UniqueCarrier",
         "string",
         null
        ],
        [
         "TailNum",
         "string",
         null
        ],
        [
         "# Clustering Information",
         "",
         ""
        ],
        [
         "# col_name",
         "data_type",
         "comment"
        ],
        [
         "id",
         "bigint",
         null
        ],
        [
         "FlightNum",
         "int",
         null
        ],
        [
         "",
         "",
         ""
        ],
        [
         "# Delta Statistics Columns",
         "",
         ""
        ],
        [
         "Column Names",
         "FlightNum, year, TailNum, id, UniqueCarrier, ArrDelay",
         ""
        ],
        [
         "Column Selection Method",
         "first-32",
         ""
        ],
        [
         "",
         "",
         ""
        ],
        [
         "# Detailed Table Information",
         "",
         ""
        ],
        [
         "Catalog",
         "dbacademy_flightdata",
         ""
        ],
        [
         "Database",
         "v01",
         ""
        ],
        [
         "Table",
         "flights_cluster_id_flightnum",
         ""
        ],
        [
         "Created Time",
         "Thu May 08 11:10:32 UTC 2025",
         ""
        ],
        [
         "Last Access",
         "UNKNOWN",
         ""
        ],
        [
         "Created By",
         "Spark ",
         ""
        ],
        [
         "Type",
         "MANAGED",
         ""
        ],
        [
         "Location",
         "s3://marketplace-sandbox-uc-databricks/UC/8f245c11-89d6-49ba-b4cb-8698c92dc4fe/tables/e8b147f7-d220-46c8-a843-b1bdc707305d",
         ""
        ],
        [
         "Provider",
         "delta",
         ""
        ],
        [
         "Owner",
         "metastore_admins",
         ""
        ],
        [
         "Is_managed_location",
         "true",
         ""
        ],
        [
         "Table Properties",
         "[clusteringColumns=[[\"id\"],[\"FlightNum\"]],delta.checkpointPolicy=v2,delta.enableDeletionVectors=true,delta.enableRowTracking=true,delta.feature.clustering=supported,delta.feature.deletionVectors=supported,delta.feature.domainMetadata=supported,delta.feature.rowTracking=supported,delta.feature.v2Checkpoint=supported,delta.minReaderVersion=3,delta.minWriterVersion=7,delta.rowTracking.materializedRowCommitVersionColumnName=_row-commit-version-col-5ebefda6-fe35-4c85-9375-9928d4fbcf43,delta.rowTracking.materializedRowIdColumnName=_row-id-col-26f19bce-3cde-48a4-a942-e36aa4c2859b]",
         ""
        ]
       ],
       "datasetInfos": [],
       "dbfsResultPath": null,
       "isJsonSchema": true,
       "metadata": {
        "isDbfsCommandResult": false
       },
       "overflow": false,
       "plotOptions": {
        "customPlotOptions": {},
        "displayType": "table",
        "pivotAggregation": null,
        "pivotColumns": null,
        "xColumns": null,
        "yColumns": null
       },
       "removedWidgets": [],
       "schema": [
        {
         "metadata": "{\"comment\":\"name of the column\"}",
         "name": "col_name",
         "type": "\"string\""
        },
        {
         "metadata": "{\"comment\":\"data type of the column\"}",
         "name": "data_type",
         "type": "\"string\""
        },
        {
         "metadata": "{\"comment\":\"comment of the column\"}",
         "name": "comment",
         "type": "\"string\""
        }
       ],
       "type": "table"
      }
     },
     "output_type": "display_data"
    }
   ],
   "source": [
    "DESCRIBE TABLE EXTENDED flights_cluster_id_flightnum;"
   ]
  },
  {
   "cell_type": "markdown",
   "metadata": {
    "application/vnd.databricks.v1+cell": {
     "cellMetadata": {},
     "inputWidgets": {},
     "nuid": "77218d38-fd67-4062-9d54-79256b83cc6a",
     "showTitle": false,
     "tableResultSettingsMap": {},
     "title": ""
    }
   },
   "source": [
    "##### C3.2.1 Unique Carrier Column Query\n",
    "1. Run the following query to analyze the average arrival delay in flights for the *TW* airline. Take note of the time it took for the query to execute.\n"
   ]
  },
  {
   "cell_type": "code",
   "execution_count": 0,
   "metadata": {
    "application/vnd.databricks.v1+cell": {
     "cellMetadata": {
      "byteLimit": 2048000,
      "rowLimit": 10000
     },
     "inputWidgets": {},
     "nuid": "3598917f-126d-4c8d-9914-f39bcb04ccd9",
     "showTitle": false,
     "tableResultSettingsMap": {},
     "title": ""
    }
   },
   "outputs": [
    {
     "output_type": "display_data",
     "data": {
      "text/html": [
       "<style scoped>\n",
       "  .table-result-container {\n",
       "    max-height: 300px;\n",
       "    overflow: auto;\n",
       "  }\n",
       "  table, th, td {\n",
       "    border: 1px solid black;\n",
       "    border-collapse: collapse;\n",
       "  }\n",
       "  th, td {\n",
       "    padding: 5px;\n",
       "  }\n",
       "  th {\n",
       "    text-align: left;\n",
       "  }\n",
       "</style><div class='table-result-container'><table class='table-result'><thead style='background-color: white'><tr><th>avg(ArrDelay)</th></tr></thead><tbody><tr><td>6.856535107094981</td></tr></tbody></table></div>"
      ]
     },
     "metadata": {
      "application/vnd.databricks.v1+output": {
       "addedWidgets": {},
       "aggData": [],
       "aggError": "",
       "aggOverflow": false,
       "aggSchema": [],
       "aggSeriesLimitReached": false,
       "aggType": "",
       "arguments": {},
       "columnCustomDisplayInfos": {},
       "data": [
        [
         6.856535107094981
        ]
       ],
       "datasetInfos": [],
       "dbfsResultPath": null,
       "isJsonSchema": true,
       "metadata": {
        "isDbfsCommandResult": false
       },
       "overflow": false,
       "plotOptions": {
        "customPlotOptions": {},
        "displayType": "table",
        "pivotAggregation": null,
        "pivotColumns": null,
        "xColumns": null,
        "yColumns": null
       },
       "removedWidgets": [],
       "schema": [
        {
         "metadata": "{\"__autoGeneratedAlias\":\"true\"}",
         "name": "avg(ArrDelay)",
         "type": "\"double\""
        }
       ],
       "type": "table"
      }
     },
     "output_type": "display_data"
    }
   ],
   "source": [
    "-- Perform the SELECT operation on the 'flights_cluster_id' table with the AVG operation on the 'ArrDelay' column and the 'UniqueCarrier' set to 'TW'.\n",
    "SELECT AVG(ArrDelay) \n",
    "FROM flights_cluster_id_flightnum\n",
    "WHERE UniqueCarrier = 'TW';"
   ]
  },
  {
   "cell_type": "markdown",
   "metadata": {
    "application/vnd.databricks.v1+cell": {
     "cellMetadata": {},
     "inputWidgets": {},
     "nuid": "48c8b507-ccae-405a-9732-cd58b4dc080f",
     "showTitle": false,
     "tableResultSettingsMap": {},
     "title": ""
    }
   },
   "source": [
    "Let's see how this query performed using the Spark UI. Note in particular the amount of cloud storage requests and their associated time. To view how the query performed complete the following:\n",
    "\n",
    "1. In the cell above, expand **Spark Jobs**.\n",
    "\n",
    "2. Right click on **View** and select *Open in a New Tab*. \n",
    "\n",
    "    **NOTE:** In the Vocareum lab environment if you click **View** without opening it in a new tab the pop up window will display an error.\n",
    "\n",
    "3. In the new window, find the **Associated SQL Query** header at the top and select the number.\n",
    "\n",
    "4. Here you should see the entire query plan.\n",
    "\n",
    "5. In the query plan, scroll down to the bottom and find **PhotonScan parquet dbacademy_flightdata.v01.flights_cluster_id_flightnum (1)** and select the plus icon.\n",
    "\n",
    "\n",
    "\n",
    "#### Look at the following metrics in the Spark UI (results may vary slightly):\n",
    "| Metric    | Value    | Note    |\n",
    "|-------------|-------------|-------------|\n",
    "| cloud storage request count total (min, med, max)| 374 (3, 10, 14)| Refers to the number of requests made to the cloud storage systems like S3, Azure Blob, or Google Cloud Storage during job execution. This could involve multiple operations like reading metadata, accessing directories, or fetching the actual data.|\n",
    "| cloud storage response size total (min, med, max)|997.6 MiB (988.3 KiB, 27.0 MiB, 43.7 MiB) | Indicates the total amount of data transferred from cloud storage to Spark during the execution of a job. It helps track the volume of data read or written to cloud storage, providing insights into I/O performance and potential bottlenecks related to data transfer.|\n",
    "| files pruned | 0 |A total of 0 files were skipped by Spark due to pruning based on the query's filters. This is due to the table being clustered by **id** and **FlightNum** and queried by the **UniqueCarrier** column.|\n",
    "| files read | 144 | All files were read during the execution of the Spark job.|\n",
    "\n",
    "\n",
    "#### Summary\n",
    "This table was clustered by **id** and **FlightNum**, and queried by the **UniqueCarrier** column. This query should run in about ~10 seconds. Similar to the other two queries performed on the **UniqueCarrier** column."
   ]
  },
  {
   "cell_type": "markdown",
   "metadata": {
    "application/vnd.databricks.v1+cell": {
     "cellMetadata": {},
     "inputWidgets": {},
     "nuid": "34cbcdd2-7065-49bd-b5f8-9d6ff429b238",
     "showTitle": false,
     "tableResultSettingsMap": {},
     "title": ""
    }
   },
   "source": [
    "##### C3.2.2 FlightNum Column Query\n",
    "1. Run the following query to analyze the average arrival delay by flight number (**FlightNum**) *1809*. Take note of the time it took for the query to execute. Remember, the **flights_cluster_id_flightnum** table is clustered by **id** and **FlightNum**.\n"
   ]
  },
  {
   "cell_type": "code",
   "execution_count": 0,
   "metadata": {
    "application/vnd.databricks.v1+cell": {
     "cellMetadata": {
      "byteLimit": 2048000,
      "rowLimit": 10000
     },
     "inputWidgets": {},
     "nuid": "7acf68e9-c720-4f9b-ac50-14a750b0694e",
     "showTitle": false,
     "tableResultSettingsMap": {},
     "title": ""
    }
   },
   "outputs": [
    {
     "output_type": "display_data",
     "data": {
      "text/html": [
       "<style scoped>\n",
       "  .table-result-container {\n",
       "    max-height: 300px;\n",
       "    overflow: auto;\n",
       "  }\n",
       "  table, th, td {\n",
       "    border: 1px solid black;\n",
       "    border-collapse: collapse;\n",
       "  }\n",
       "  th, td {\n",
       "    padding: 5px;\n",
       "  }\n",
       "  th {\n",
       "    text-align: left;\n",
       "  }\n",
       "</style><div class='table-result-container'><table class='table-result'><thead style='background-color: white'><tr><th>avg(ArrDelay)</th></tr></thead><tbody><tr><td>6.197794202121549</td></tr></tbody></table></div>"
      ]
     },
     "metadata": {
      "application/vnd.databricks.v1+output": {
       "addedWidgets": {},
       "aggData": [],
       "aggError": "",
       "aggOverflow": false,
       "aggSchema": [],
       "aggSeriesLimitReached": false,
       "aggType": "",
       "arguments": {},
       "columnCustomDisplayInfos": {},
       "data": [
        [
         6.197794202121549
        ]
       ],
       "datasetInfos": [],
       "dbfsResultPath": null,
       "isJsonSchema": true,
       "metadata": {
        "isDbfsCommandResult": false
       },
       "overflow": false,
       "plotOptions": {
        "customPlotOptions": {},
        "displayType": "table",
        "pivotAggregation": null,
        "pivotColumns": null,
        "xColumns": null,
        "yColumns": null
       },
       "removedWidgets": [],
       "schema": [
        {
         "metadata": "{\"__autoGeneratedAlias\":\"true\"}",
         "name": "avg(ArrDelay)",
         "type": "\"double\""
        }
       ],
       "type": "table"
      }
     },
     "output_type": "display_data"
    }
   ],
   "source": [
    "-- Perform the SELECT operation on the 'flights_cluster_id' table with the AVG operation on the 'ArrDelay' column and the 'FlightNum' set to '1890'.\n",
    "SELECT AVG(ArrDelay) \n",
    "FROM flights_cluster_id_flightnum\n",
    "WHERE FlightNum = 1890;"
   ]
  },
  {
   "cell_type": "markdown",
   "metadata": {
    "application/vnd.databricks.v1+cell": {
     "cellMetadata": {},
     "inputWidgets": {},
     "nuid": "f58b070b-76b8-40b0-b62b-29aae69c4f40",
     "showTitle": false,
     "tableResultSettingsMap": {},
     "title": ""
    }
   },
   "source": [
    "Let's see how this query performed using the Spark UI. Note in particular the amount of cloud storage requests and their associated time. To view how the query performed complete the following:\n",
    "\n",
    "1. In the cell above, expand **Spark Jobs**.\n",
    "\n",
    "2. Right click on **View** and select *Open in a New Tab*. \n",
    "\n",
    "    **NOTE:** In the Vocareum lab environment if you click **View** without opening it in a new tab the pop up window will display an error.\n",
    "\n",
    "3. In the new window, find the **Associated SQL Query** header at the top and select the number.\n",
    "\n",
    "4. Here you should see the entire query plan.\n",
    "\n",
    "5. In the query plan, scroll down to the bottom and find **PhotonScan parquet dbacademy_flightdata.v01.flights_cluster_id_flightnum (1)** and select the plus icon.\n",
    "\n",
    "\n",
    "\n",
    "#### Look at the following metrics in the Spark UI (results may vary slightly):\n",
    "| Metric    | Value    | Note    |\n",
    "|-------------|-------------|-------------|\n",
    "| cloud storage request count total (min, med, max)| 32 (4, 6, 6)|Refers to the number of requests made to the cloud storage systems like S3, Azure Blob, or Google Cloud Storage during job execution. This could involve multiple operations like reading metadata, accessing directories, or fetching the actual data.|\n",
    "| cloud storage response size total (min, med, max)|146.3 MiB (21.9 MiB, 24.9 MiB, 27.6 MiB) | Indicates the total amount of data transferred from cloud storage to Spark during the execution of a job. It helps track the volume of data read or written to cloud storage, providing insights into I/O performance and potential bottlenecks related to data transfer.|\n",
    "| files pruned | 132 |A total of 132 files were skipped by Spark due to pruning based on the query's filters. This is due to the table being clustered by **id** and **FlightNum**, and queried by the **FlightNum** column.|\n",
    "| files read | 12| Only 12 files were read during the execution of the Spark job.|\n",
    "\n",
    "\n",
    "#### Summary\n",
    "This table was clustered by **FlightNum** and **id** and queried by the **FlightNum** column. This enables Spark to optimize how it reads the data. This query should execute in around ~2 seconds, similar to the **flights** table with a ZORDER on **FlightNum**.\n"
   ]
  },
  {
   "cell_type": "markdown",
   "metadata": {
    "application/vnd.databricks.v1+cell": {
     "cellMetadata": {},
     "inputWidgets": {},
     "nuid": "ddf51841-7b1a-475e-8419-3c4d80ddd26a",
     "showTitle": false,
     "tableResultSettingsMap": {},
     "title": ""
    }
   },
   "source": [
    "##### C3.2.3 id Column Query\n",
    "1. Run the following query to analyze the records in the flight table with the **id** *1125281431554*. Take note of the time it took for the query to execute. Remember, the **flights_cluster_id_flightnum** table is clustered by **id** and **FlightNum**.\n",
    "\n",
    "    Notice how quickly this query executes compared to the **flights** table.\n"
   ]
  },
  {
   "cell_type": "code",
   "execution_count": 0,
   "metadata": {
    "application/vnd.databricks.v1+cell": {
     "cellMetadata": {
      "byteLimit": 2048000,
      "rowLimit": 10000
     },
     "inputWidgets": {},
     "nuid": "bb7b00fc-2e1e-4faa-8378-6f8b245f2874",
     "showTitle": false,
     "tableResultSettingsMap": {},
     "title": ""
    }
   },
   "outputs": [
    {
     "output_type": "display_data",
     "data": {
      "text/html": [
       "<style scoped>\n",
       "  .table-result-container {\n",
       "    max-height: 300px;\n",
       "    overflow: auto;\n",
       "  }\n",
       "  table, th, td {\n",
       "    border: 1px solid black;\n",
       "    border-collapse: collapse;\n",
       "  }\n",
       "  th, td {\n",
       "    padding: 5px;\n",
       "  }\n",
       "  th {\n",
       "    text-align: left;\n",
       "  }\n",
       "</style><div class='table-result-container'><table class='table-result'><thead style='background-color: white'><tr><th>id</th><th>year</th><th>FlightNum</th><th>ArrDelay</th><th>UniqueCarrier</th><th>TailNum</th></tr></thead><tbody><tr><td>1125281431554</td><td>1992</td><td>222</td><td>-8</td><td>AA</td><td>NA</td></tr></tbody></table></div>"
      ]
     },
     "metadata": {
      "application/vnd.databricks.v1+output": {
       "addedWidgets": {},
       "aggData": [],
       "aggError": "",
       "aggOverflow": false,
       "aggSchema": [],
       "aggSeriesLimitReached": false,
       "aggType": "",
       "arguments": {},
       "columnCustomDisplayInfos": {},
       "data": [
        [
         1125281431554,
         1992,
         222,
         "-8",
         "AA",
         "NA"
        ]
       ],
       "datasetInfos": [],
       "dbfsResultPath": null,
       "isJsonSchema": true,
       "metadata": {
        "isDbfsCommandResult": false
       },
       "overflow": false,
       "plotOptions": {
        "customPlotOptions": {},
        "displayType": "table",
        "pivotAggregation": null,
        "pivotColumns": null,
        "xColumns": null,
        "yColumns": null
       },
       "removedWidgets": [],
       "schema": [
        {
         "metadata": "{}",
         "name": "id",
         "type": "\"long\""
        },
        {
         "metadata": "{}",
         "name": "year",
         "type": "\"integer\""
        },
        {
         "metadata": "{}",
         "name": "FlightNum",
         "type": "\"integer\""
        },
        {
         "metadata": "{}",
         "name": "ArrDelay",
         "type": "\"string\""
        },
        {
         "metadata": "{}",
         "name": "UniqueCarrier",
         "type": "\"string\""
        },
        {
         "metadata": "{}",
         "name": "TailNum",
         "type": "\"string\""
        }
       ],
       "type": "table"
      }
     },
     "output_type": "display_data"
    }
   ],
   "source": [
    "SELECT * \n",
    "FROM flights_cluster_id_flightnum\n",
    "WHERE id = 1125281431554"
   ]
  },
  {
   "cell_type": "markdown",
   "metadata": {
    "application/vnd.databricks.v1+cell": {
     "cellMetadata": {},
     "inputWidgets": {},
     "nuid": "bba98623-3d55-4d17-831d-02f1c104c142",
     "showTitle": false,
     "tableResultSettingsMap": {},
     "title": ""
    }
   },
   "source": [
    "Let's see how this query performed using the Spark UI. Note in particular the amount of cloud storage requests and their associated time. To view how the query performed complete the following:\n",
    "\n",
    "1. In the cell above, expand **Spark Jobs**.\n",
    "\n",
    "2. Right click on **View** and select *Open in a New Tab*. \n",
    "\n",
    "    **NOTE:** In the Vocareum lab environment if you click **View** without opening it in a new tab the pop up window will display an error.\n",
    "\n",
    "3. In the new window, find the **Associated SQL Query** header at the top and select the number.\n",
    "\n",
    "4. Here you should see the entire query plan.\n",
    "\n",
    "5. In the query plan, scroll down to the bottom and find **PhotonScan parquet dbacademy_flightdata.v01.flights_cluster_id_flightnum (1)** and select the plus icon.\n",
    "\n",
    "\n",
    "\n",
    "#### Look at the following metrics in the Spark UI (results may vary slightly):\n",
    "| Metric    | Value    | Note    |\n",
    "|-------------|-------------|-------------|\n",
    "| cloud storage request count total (min, med, max)| 29 (2, 6, 6)|  Tracks the number of read and write requests made to cloud storage systems like S3, Azure Blob, or Google Cloud Storage during job execution. Monitoring this metric helps optimize performance, reduce costs, and identify potential inefficiencies in data access patterns.|\n",
    "| cloud storage response size total (min, med, max)|370.9 MiB (27.3 MiB, 68.5 MiB, 71.5 MiB) | Indicates the total amount of data transferred from cloud storage to Spark during the execution of a job. It helps track the volume of data read or written to cloud storage, providing insights into I/O performance and potential bottlenecks related to data transfer.|\n",
    "| files pruned | 134 |A total of 134 files were skipped by Spark due to pruning based on the query's filters. This is due to the table being clustered by **FlightNum** and **id**, and queried by the  **id** column.|\n",
    "| files read | 10 | All files were read during the execution of the Spark job.|\n",
    "\n",
    "\n",
    "#### Liquid Clustering Summary\n",
    "This table was clustered by **FlightNum** and **id** and queried by the **id** column. This enables Spark to optimize how it reads the data. This query should execute in around 2 seconds, much faster than the **flights** table with a ZORDER on **FlightNum** using the same query (~28 seconds).\n",
    "\n",
    "<br></br>\n",
    "## NEWS! Automatic Liquid Clustering (Public Preview as of March 2025)!\n",
    "\n",
    "- [Announcing Automatic Liquid Clustering: Optimized data layout for up to 10x faster queries](https://www.databricks.com/blog/announcing-automatic-liquid-clustering) (Blog)\n",
    "\n",
    "- [Automatic liquid clustering](https://docs.databricks.com/aws/en/delta/clustering#automatic-liquid-clustering) documentation\n",
    "\n",
    "![LQ Auto](./Includes/images/Liquid-Clusters-OG.png)\n"
   ]
  },
  {
   "cell_type": "markdown",
   "metadata": {
    "application/vnd.databricks.v1+cell": {
     "cellMetadata": {},
     "inputWidgets": {},
     "nuid": "3493e502-6b43-4863-92f4-f511d9088fbb",
     "showTitle": false,
     "tableResultSettingsMap": {},
     "title": ""
    }
   },
   "source": [
    "### D. Lab Queries Summary (estimated average execution times below, execution times will vary)\n",
    "Please review the queries for each table below and compare some of the query statistics."
   ]
  },
  {
   "cell_type": "markdown",
   "metadata": {
    "application/vnd.databricks.v1+cell": {
     "cellMetadata": {},
     "inputWidgets": {},
     "nuid": "1dbf5cdb-aac3-4c96-81de-f46a20e16fc1",
     "showTitle": false,
     "tableResultSettingsMap": {},
     "title": ""
    }
   },
   "source": [
    "#### D1. Query by UniqueCarrier\n",
    "**NOTES:** No storage optimization was set on the **UniqueCarrier** column, so all files were read for each table during the query. Each query had similar cloud storage response sizes and execution times.\n",
    "\n",
    "|Table| Query | Total Files | Files Read | Files Pruned | Query Duration (will vary) | cloud storage request count total | cloud storage response size total |\n",
    "|----------|----------|----------|----------|----------|----------|----------|----------|\n",
    "|**ZORDER by FlightNum**| `WHERE UniqueCarrier = 'TW'`    | 31   |31   |0   | ~12 s | 149  | 1068 MiB |\n",
    "|**CLUSTER BY id**| `WHERE UniqueCarrier = 'TW'`   | 128  | 128   | 0  | ~10 s | 316 | 1047.8 MiB |\n",
    "|**CLUSTER BY (id, FlightNum)**| `WHERE UniqueCarrier = 'TW'`  | 144  | 144   | 0 | ~10 s | 374  | 997.6 MiB |"
   ]
  },
  {
   "cell_type": "markdown",
   "metadata": {
    "application/vnd.databricks.v1+cell": {
     "cellMetadata": {},
     "inputWidgets": {},
     "nuid": "14390cc4-6de7-45d4-a2e0-2eecf1153267",
     "showTitle": false,
     "tableResultSettingsMap": {},
     "title": ""
    }
   },
   "source": [
    "#### D2. Query by FlightNum\n",
    "**NOTES:** Notice that when the tables included **FlightNum** in a storage optimization technique, many of the files were pruned, increasing efficiency and speeding up execution times.\n",
    "\n",
    "The table that was only clustered by **id** ran slower, and the cloud storage response size was much larger.\n",
    "\n",
    "\n",
    "|Table| Query | Total Files | Files Read | Files Pruned | Query Duration (will vary) | cloud storage request count total | cloud storage response size total |\n",
    "|----------|----------|----------|----------|----------|----------|----------|----------|\n",
    "|**ZORDER by FlightNum**| `WHERE FlightNum = 1890`    | 31   |1   |30   | ~2 s | 6 |53.MiB |\n",
    "|**CLUSTER BY id**| `WHERE FlightNum = 1890`   | 128  | 128   | 0  | ~10 s\t |275  | **1871.3 MiB** |\n",
    "|**CLUSTER BY (id, FlightNum)**| `WHERE FlightNum = 1890`  | 144  | 12   | 132 | ~2 s| 32 | 146.3 MiB |\n",
    "\n"
   ]
  },
  {
   "cell_type": "markdown",
   "metadata": {
    "application/vnd.databricks.v1+cell": {
     "cellMetadata": {},
     "inputWidgets": {},
     "nuid": "4b193564-e1ef-45f8-9710-cc5a9d2e270c",
     "showTitle": false,
     "tableResultSettingsMap": {},
     "title": ""
    }
   },
   "source": [
    "#### D3. Query by id\n",
    "**NOTES:** Notice that when the tables included **id** in a storage optimization technique (both liquid clustered tables), many of the files were pruned, increasing efficiency, even in the table that is clustered by both **id** and **FlightNum**. \n",
    "\n",
    "You can also see that the cloud storage response size of each of the clustered tables was much smaller than the Z-ordered table by **FlightNum**.\n",
    "\n",
    "Also, notice that the Z-ordered table took an extremely long time to complete, and the cloud storage response size was much larger when querying the **id** column in the **flights** table.\n",
    "\n",
    "\n",
    "|Table| Query | Total Files | Files Read | Files Pruned | Query Duration (will vary) | cloud storage request count total | cloud storage response size total |\n",
    "|----------|----------|----------|----------|----------|----------|----------|----------|\n",
    "|**ZORDER by FlightNum**| `WHERE id = 1125281431554`     | 31   |31   |31   | **~28 s** |**267**  | **4.7 GiB** |\n",
    "|**CLUSTER BY id**| `WHERE id = 1125281431554`    | 128  | 1   | 127  | ~2 s | 4 |54.5 MiB |\n",
    "|**CLUSTER BY (id, FlightNum)**| `WHERE id = 1125281431554`   | 144  | 10   | 134 | ~2 s | 29 | 370.9 MiB |"
   ]
  },
  {
   "cell_type": "markdown",
   "metadata": {
    "application/vnd.databricks.v1+cell": {
     "cellMetadata": {},
     "inputWidgets": {},
     "nuid": "bdc5344d-d065-4de6-8448-c989bb4c55cd",
     "showTitle": false,
     "tableResultSettingsMap": {},
     "title": ""
    }
   },
   "source": [
    "\n",
    "&copy; 2025 Databricks, Inc. All rights reserved.<br/>\n",
    "Apache, Apache Spark, Spark and the Spark logo are trademarks of the \n",
    "<a href=\"https://www.apache.org/\">Apache Software Foundation</a>.<br/>\n",
    "<br/><a href=\"https://databricks.com/privacy-policy\">Privacy Policy</a> | \n",
    "<a href=\"https://databricks.com/terms-of-use\">Terms of Use</a> | \n",
    "<a href=\"https://help.databricks.com/\">Support</a>"
   ]
  },
  {
   "cell_type": "code",
   "execution_count": 0,
   "metadata": {
    "application/vnd.databricks.v1+cell": {
     "cellMetadata": {},
     "inputWidgets": {},
     "nuid": "1335515e-a261-4143-9c8f-ce12a51317ee",
     "showTitle": false,
     "tableResultSettingsMap": {},
     "title": ""
    }
   },
   "outputs": [],
   "source": []
  }
 ],
 "metadata": {
  "application/vnd.databricks.v1+notebook": {
   "computePreferences": null,
   "dashboards": [],
   "environmentMetadata": null,
   "inputWidgetPreferences": null,
   "language": "sql",
   "notebookMetadata": {
    "pythonIndentUnit": 4
   },
   "notebookName": "PO 1.2L - Data Skipping and Liquid Clustering",
   "widgets": {}
  },
  "language_info": {
   "name": "sql"
  }
 },
 "nbformat": 4,
 "nbformat_minor": 0
}