{
 "cells": [
  {
   "cell_type": "markdown",
   "metadata": {
    "application/vnd.databricks.v1+cell": {
     "cellMetadata": {},
     "inputWidgets": {},
     "nuid": "39155808-ea3c-4ecd-a044-cabbf7875f75",
     "showTitle": false,
     "tableResultSettingsMap": {},
     "title": ""
    }
   },
   "source": [
    "\n",
    "<div style=\"text-align: center; line-height: 0; padding-top: 9px;\">\n",
    "  <img src=\"https://databricks.com/wp-content/uploads/2018/03/db-academy-rgb-1200px.png\" alt=\"Databricks Learning\">\n",
    "</div>\n"
   ]
  },
  {
   "cell_type": "markdown",
   "metadata": {
    "application/vnd.databricks.v1+cell": {
     "cellMetadata": {},
     "inputWidgets": {},
     "nuid": "c9874d2d-210a-44cb-8f05-e56b277425c2",
     "showTitle": false,
     "tableResultSettingsMap": {},
     "title": ""
    }
   },
   "source": [
    "# Creating Anonymized User's Age table\n",
    "\n",
    "In this lesson we'll create a anonymized key for storing potentially sensitive user data.  \n",
    "\n",
    "Our approach in this notebook is fairly straightforward; some industries may require more elaborate de-identification to guarantee privacy.\n",
    "\n",
    "We'll examine design patterns for ensuring PII is stored securely and updated accurately. \n",
    "\n",
    "##### Objectives\n",
    "- Describe the purpose of \"salting\" before hashing\n",
    "- Apply salted hashing to sensitive data(user_id)\n",
    "- Apply tokenization to sensitive data(user_id)"
   ]
  },
  {
   "cell_type": "markdown",
   "metadata": {
    "application/vnd.databricks.v1+cell": {
     "cellMetadata": {},
     "inputWidgets": {},
     "nuid": "827711f9-6ae4-46ca-a851-5652e02c5966",
     "showTitle": false,
     "tableResultSettingsMap": {},
     "title": ""
    }
   },
   "source": [
    "### A. DAG\n",
    "\n",
    "![Anonymization DAG](../Includes/images/piidata_security_anon_dag.png)\n"
   ]
  },
  {
   "cell_type": "code",
   "execution_count": 0,
   "metadata": {
    "application/vnd.databricks.v1+cell": {
     "cellMetadata": {},
     "inputWidgets": {},
     "nuid": "685361a3-d9d2-4bf3-bc54-685e6f402113",
     "showTitle": false,
     "tableResultSettingsMap": {},
     "title": ""
    }
   },
   "outputs": [],
   "source": [
    "import dlt\n",
    "import pyspark.sql.functions as F\n",
    "\n",
    "# Get the source path for daily user events from Spark configuration\n",
    "daily_user_events_source = spark.conf.get(\"daily_user_events_source\")\n",
    "\n",
    "# Get the catalog name for lookup tables from Spark configuration\n",
    "lookup_catalog = spark.conf.get(\"lookup_catalog\")"
   ]
  },
  {
   "cell_type": "markdown",
   "metadata": {
    "application/vnd.databricks.v1+cell": {
     "cellMetadata": {},
     "inputWidgets": {},
     "nuid": "95225c5a-a592-4c03-a1f7-c42c847e42f8",
     "showTitle": false,
     "tableResultSettingsMap": {},
     "title": ""
    }
   },
   "source": [
    "\n",
    "## B. Set up Event User Tables\n",
    "\n",
    "- The **date_lookup** table is used for the **date** and **week_part** association is used to join with the **users_events_raw** data to identify in what **week_part** does the **Date of Birth(DOB)** belongs. _eg: 2020-07-02 = 2020-27_\n",
    "- The **user_events_raw** represents the ingested user event data in JSON, which is later unpacked and filtered to retrieve only user information.\n",
    "- users_bronze: is our focus and will be our source for the ingested user information, where we'll apply **Binning Anonymization** to the **Date of Birth (dob)**."
   ]
  },
  {
   "cell_type": "code",
   "execution_count": 0,
   "metadata": {
    "application/vnd.databricks.v1+cell": {
     "cellMetadata": {},
     "inputWidgets": {},
     "nuid": "f14b9821-c51c-4d94-ac65-c7709b676261",
     "showTitle": false,
     "tableResultSettingsMap": {},
     "title": ""
    }
   },
   "outputs": [],
   "source": [
    "@dlt.table\n",
    "def date_lookup():\n",
    "    # Read the raw date lookup table from the specified catalog\n",
    "    return (spark\n",
    "            .read\n",
    "            .table(f\"{lookup_catalog}.pii_data.date_lookup_raw\")\n",
    "            .select(\"date\", \"week_part\")\n",
    "        )\n",
    "\n",
    "\n",
    "@dlt.table(\n",
    "    partition_cols=[\"topic\", \"week_part\"],\n",
    "    table_properties={\"quality\": \"bronze\"}\n",
    ")\n",
    "def user_events_raw():\n",
    "    # Read the streaming user events data from the specified source\n",
    "    return (\n",
    "      spark.readStream\n",
    "        .format(\"cloudFiles\")\n",
    "        .schema(\"key BINARY, value BINARY, topic STRING, partition LONG, offset LONG, timestamp LONG\")\n",
    "        .option(\"cloudFiles.format\", \"json\")\n",
    "        .load(f\"{daily_user_events_source}\")\n",
    "        .join(\n",
    "          # Join with the date lookup table to get the week part\n",
    "          F.broadcast(dlt.read(\"date_lookup\")),  # Broadcasts distributes the lookup table to all executors\n",
    "          F.to_date((F.col(\"timestamp\")/1000).cast(\"timestamp\")) == F.col(\"date\"), \"left\") \n",
    "    )\n",
    "\n",
    "        \n",
    "users_schema = \"user_id LONG, update_type STRING, timestamp FLOAT, dob STRING, sex STRING, gender STRING, first_name STRING, last_name STRING, address STRUCT<street_address: STRING, city: STRING, state: STRING, zip: INT>\"    \n",
    "\n",
    "@dlt.table(\n",
    "    table_properties={\"quality\": \"bronze\"}\n",
    ")\n",
    "def users_bronze():\n",
    "    # Read the raw user events stream and filter for user info updates\n",
    "    return (\n",
    "        dlt.read_stream(\"user_events_raw\") # Reads from user_events_raw\n",
    "          .filter(\"topic = 'user_info'\") # Filters topic with user_info\n",
    "          .select(F.from_json(F.col(\"value\").cast(\"string\"), users_schema).alias(\"v\")) # Unpacks the JSON\n",
    "          .select(\"v.*\") # Select all fields\n",
    "          .select(\n",
    "              # Select and transform the necessary columns\n",
    "              F.col(\"user_id\"),\n",
    "              F.col(\"timestamp\").cast(\"timestamp\").alias(\"updated\"),\n",
    "              F.to_date(\"dob\", \"MM/dd/yyyy\").alias(\"dob\"),\n",
    "              \"sex\", \n",
    "              \"gender\", \n",
    "              \"first_name\", \n",
    "              \"last_name\", \n",
    "              \"address.*\", \n",
    "              \"update_type\"\n",
    "            )\n",
    "    )"
   ]
  },
  {
   "cell_type": "markdown",
   "metadata": {
    "application/vnd.databricks.v1+cell": {
     "cellMetadata": {},
     "inputWidgets": {},
     "nuid": "eb20f48f-474f-429c-995c-edcf1a8c0137",
     "showTitle": false,
     "tableResultSettingsMap": {},
     "title": ""
    }
   },
   "source": [
    "## C. Setup Binning by Age"
   ]
  },
  {
   "cell_type": "markdown",
   "metadata": {
    "application/vnd.databricks.v1+cell": {
     "cellMetadata": {},
     "inputWidgets": {},
     "nuid": "6759f8ab-9195-45cb-a16a-7defe1f558f3",
     "showTitle": false,
     "tableResultSettingsMap": {},
     "title": ""
    }
   },
   "source": [
    "### C.1 Function \"age_bins\"\n",
    "\n",
    "The function `age_bins` takes a date of birth column (**dob_col**) as input.  It calculates the age by finding the difference in months between the current date and the date of birth, then converting it to years.\n",
    "\n",
    "It categorizes the age into bins (e.g., \"under 18\", \"18-25\", etc.) using a series of conditional statements.\n",
    "The resulting age category is returned as a new column named \"age\"."
   ]
  },
  {
   "cell_type": "code",
   "execution_count": 0,
   "metadata": {
    "application/vnd.databricks.v1+cell": {
     "cellMetadata": {},
     "inputWidgets": {},
     "nuid": "00f13d4e-e151-48a8-8d77-84caaadf56a5",
     "showTitle": false,
     "tableResultSettingsMap": {},
     "title": ""
    }
   },
   "outputs": [],
   "source": [
    "def age_bins(dob_col):\n",
    "    age_col = F.floor(F.months_between(F.current_date(), dob_col) / 12).alias(\"age\")\n",
    "    return (\n",
    "        F.when((age_col < 18), \"under 18\")\n",
    "        .when((age_col >= 18) & (age_col < 25), \"18-25\")\n",
    "        .when((age_col >= 25) & (age_col < 35), \"25-35\")\n",
    "        .when((age_col >= 35) & (age_col < 45), \"35-45\")\n",
    "        .when((age_col >= 45) & (age_col < 55), \"45-55\")\n",
    "        .when((age_col >= 55) & (age_col < 65), \"55-65\")\n",
    "        .when((age_col >= 65) & (age_col < 75), \"65-75\")\n",
    "        .when((age_col >= 75) & (age_col < 85), \"75-85\")\n",
    "        .when((age_col >= 85) & (age_col < 95), \"85-95\")\n",
    "        .when((age_col >= 95), \"95+\")\n",
    "        .otherwise(\"invalid age\")\n",
    "        .alias(\"age\")\n",
    "    )"
   ]
  },
  {
   "cell_type": "markdown",
   "metadata": {
    "application/vnd.databricks.v1+cell": {
     "cellMetadata": {},
     "inputWidgets": {},
     "nuid": "06d02846-974d-427e-8132-ce41725e3a5a",
     "showTitle": false,
     "tableResultSettingsMap": {},
     "title": ""
    }
   },
   "source": [
    "\n",
    "### C.2 DLT Table \"user_age_bins\"\n",
    "\n",
    "It reads data from a source table named **users_bronze**.\n",
    "\n",
    "It selects specific columns: **user_id**, the age category (using the age_bins function on the dob column), gender, city, and state."
   ]
  },
  {
   "cell_type": "code",
   "execution_count": 0,
   "metadata": {
    "application/vnd.databricks.v1+cell": {
     "cellMetadata": {},
     "inputWidgets": {},
     "nuid": "139d93c5-230e-4456-9304-d1c9f3bdb68c",
     "showTitle": false,
     "tableResultSettingsMap": {},
     "title": ""
    }
   },
   "outputs": [],
   "source": [
    "@dlt.table\n",
    "def user_age_bins():\n",
    "    return (\n",
    "        dlt.read(\"users_bronze\")\n",
    "        .select(\"user_id\", age_bins(F.col(\"dob\")), \"gender\", \"city\", \"state\")\n",
    "    )"
   ]
  },
  {
   "cell_type": "markdown",
   "metadata": {
    "application/vnd.databricks.v1+cell": {
     "cellMetadata": {},
     "inputWidgets": {},
     "nuid": "f025d3a2-192d-48a7-96be-d1b3aa1415f4",
     "showTitle": false,
     "tableResultSettingsMap": {},
     "title": ""
    }
   },
   "source": [
    "\n",
    "&copy; 2025 Databricks, Inc. All rights reserved. Apache, Apache Spark, Spark, the Spark Logo, Apache Iceberg, Iceberg, and the Apache Iceberg logo are trademarks of the <a href=\"https://www.apache.org/\" target=\"blank\">Apache Software Foundation</a>.<br/>\n",
    "<br/><a href=\"https://databricks.com/privacy-policy\" target=\"blank\">Privacy Policy</a> | \n",
    "<a href=\"https://databricks.com/terms-of-use\" target=\"blank\">Terms of Use</a> | \n",
    "<a href=\"https://help.databricks.com/\" target=\"blank\">Support</a>\n"
   ]
  }
 ],
 "metadata": {
  "application/vnd.databricks.v1+notebook": {
   "computePreferences": null,
   "dashboards": [],
   "environmentMetadata": null,
   "inputWidgetPreferences": null,
   "language": "python",
   "notebookMetadata": {
    "pythonIndentUnit": 4
   },
   "notebookName": "DP 1.2.2 - Anonymized Users Age",
   "widgets": {}
  },
  "language_info": {
   "name": "python"
  }
 },
 "nbformat": 4,
 "nbformat_minor": 0
}