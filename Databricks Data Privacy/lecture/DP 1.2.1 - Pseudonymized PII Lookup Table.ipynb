{
 "cells": [
  {
   "cell_type": "markdown",
   "metadata": {
    "application/vnd.databricks.v1+cell": {
     "cellMetadata": {},
     "inputWidgets": {},
     "nuid": "1248254f-ad42-4710-8fd8-a3d57744027e",
     "showTitle": false,
     "tableResultSettingsMap": {},
     "title": ""
    }
   },
   "source": [
    "\n",
    "<div style=\"text-align: center; line-height: 0; padding-top: 9px;\">\n",
    "  <img src=\"https://databricks.com/wp-content/uploads/2018/03/db-academy-rgb-1200px.png\" alt=\"Databricks Learning\">\n",
    "</div>\n"
   ]
  },
  {
   "cell_type": "markdown",
   "metadata": {
    "application/vnd.databricks.v1+cell": {
     "cellMetadata": {},
     "inputWidgets": {},
     "nuid": "0ec479ec-d2f3-4377-8476-1bbd3de80140",
     "showTitle": false,
     "tableResultSettingsMap": {},
     "title": ""
    }
   },
   "source": [
    "# Creating a Pseudonymized PII Lookup Tables\n",
    "\n",
    "In this lesson we'll create a pseudonymized key for storing potentially sensitive user data.  \n",
    "Our approach in this notebook is fairly straightforward; some industries may require more elaborate de-identification to guarantee privacy.\n",
    "\n",
    "We'll examine design patterns for ensuring PII is stored securely and updated accurately. \n",
    "\n",
    "##### Objectives\n",
    "- Describe the purpose of \"salting\" before hashing\n",
    "- Apply salted hashing to sensitive data(user_id)\n",
    "- Apply tokenization to sensitive data(user_id)\n",
    "\n",
    "##### Creates the Following\n",
    "  1. **registered_users** table from the source JSON files with PII.\n",
    "\n",
    "  1. Hashing: Handled in table **user_lookup_hashed**\n",
    "\n",
    "  1. Tokenization: Handled in tables **registered_users_tokens** and **user_lookup_tokenized**"
   ]
  },
  {
   "cell_type": "markdown",
   "metadata": {
    "application/vnd.databricks.v1+cell": {
     "cellMetadata": {},
     "inputWidgets": {},
     "nuid": "d6cc0b60-f169-465f-b367-7efaad0d4e25",
     "showTitle": false,
     "tableResultSettingsMap": {},
     "title": ""
    }
   },
   "source": [
    "### A. DAG\n",
    "\n",
    "\n",
    "![Pseudonymization DAG](../Includes/images/pii_data_security_pseudo_dag.png)"
   ]
  },
  {
   "cell_type": "code",
   "execution_count": 0,
   "metadata": {
    "application/vnd.databricks.v1+cell": {
     "cellMetadata": {},
     "inputWidgets": {},
     "nuid": "5503c861-6a4a-4ca8-87a2-bf1ec36e6909",
     "showTitle": false,
     "tableResultSettingsMap": {},
     "title": ""
    }
   },
   "outputs": [],
   "source": [
    "import dlt\n",
    "import pyspark.sql.functions as F\n",
    "\n",
    "user_reg_source = spark.conf.get(\"user_reg_source\")"
   ]
  },
  {
   "cell_type": "markdown",
   "metadata": {
    "application/vnd.databricks.v1+cell": {
     "cellMetadata": {},
     "inputWidgets": {},
     "nuid": "d4a76dd5-e759-45a2-b0e6-5a02500cdb77",
     "showTitle": false,
     "tableResultSettingsMap": {},
     "title": ""
    }
   },
   "source": [
    "## B. Registered Users\n",
    "\n",
    "This is our source data to apply"
   ]
  },
  {
   "cell_type": "code",
   "execution_count": 0,
   "metadata": {
    "application/vnd.databricks.v1+cell": {
     "cellMetadata": {},
     "inputWidgets": {},
     "nuid": "7e0accd3-bef6-4f1c-8ec7-1b3955d5cc40",
     "showTitle": false,
     "tableResultSettingsMap": {},
     "title": ""
    }
   },
   "outputs": [],
   "source": [
    "# Ingest data into the registered_users table incrementally with Auto Loader\n",
    "@dlt.table\n",
    "def registered_users():\n",
    "    return (\n",
    "        spark.readStream\n",
    "            .format(\"cloudFiles\")\n",
    "            .schema(\"device_id LONG, mac_address STRING, registration_timestamp DOUBLE, user_id LONG\")\n",
    "            .option(\"cloudFiles.format\", \"json\")\n",
    "            .load(f\"{user_reg_source}\")\n",
    "        )"
   ]
  },
  {
   "cell_type": "markdown",
   "metadata": {
    "application/vnd.databricks.v1+cell": {
     "cellMetadata": {},
     "inputWidgets": {},
     "nuid": "2d783c19-70df-45c2-82cd-e4ae3e951116",
     "showTitle": false,
     "tableResultSettingsMap": {},
     "title": ""
    }
   },
   "source": [
    "\n",
    "## C. Create pseudonymized user lookup table\n"
   ]
  },
  {
   "cell_type": "markdown",
   "metadata": {
    "application/vnd.databricks.v1+cell": {
     "cellMetadata": {},
     "inputWidgets": {},
     "nuid": "2f074077-2de2-44a7-a331-b855d63e919a",
     "showTitle": false,
     "tableResultSettingsMap": {},
     "title": ""
    }
   },
   "source": [
    "### C1. with salted hashing\n",
    "\n",
    "Create a function to register this logic to the current database under the name **`salted_hash`**. This will allow this logic to be called by any user with appropriate permissions on this function. \n",
    "\n",
    "Note that it is theoretically possible to link the original key and pseudo-ID if the hash function and the salt are known. Here, we use this method to add a layer of obfuscation; in production, you may wish to have a much more sophisticated hashing method."
   ]
  },
  {
   "cell_type": "code",
   "execution_count": 0,
   "metadata": {
    "application/vnd.databricks.v1+cell": {
     "cellMetadata": {},
     "inputWidgets": {},
     "nuid": "db44cde0-d3c7-459f-a72f-000b825cdda8",
     "showTitle": false,
     "tableResultSettingsMap": {},
     "title": ""
    }
   },
   "outputs": [],
   "source": [
    "salt = \"BEANS\"\n",
    "     \n",
    "# Define function to pseudonymize with salted hashing    \n",
    "def salted_hash(id):\n",
    "    return F.sha2(F.concat(id, F.lit(salt)), 256)"
   ]
  },
  {
   "cell_type": "markdown",
   "metadata": {
    "application/vnd.databricks.v1+cell": {
     "cellMetadata": {},
     "inputWidgets": {},
     "nuid": "a3fc0683-7827-48a5-824d-b228b888581b",
     "showTitle": false,
     "tableResultSettingsMap": {},
     "title": ""
    }
   },
   "source": [
    "\n",
    "The logic below creates the **user_lookup** table. In the next notebook, we'll use this pseudo-ID as the sole link to user PII. By controlling access to the link between our **alt_id** and other natural keys, we'll be able to prevent linking PII to other user data throughout our system.\n",
    "\n",
    "Use the function above to create the **alt_id** to the **user_id** from the **registered_users** table. Make sure to include all necessary columns for the target **user_lookup** table."
   ]
  },
  {
   "cell_type": "code",
   "execution_count": 0,
   "metadata": {
    "application/vnd.databricks.v1+cell": {
     "cellMetadata": {},
     "inputWidgets": {},
     "nuid": "5a81cb3c-ab8b-4397-86fc-dbee3d4f62a7",
     "showTitle": false,
     "tableResultSettingsMap": {},
     "title": ""
    }
   },
   "outputs": [],
   "source": [
    "# Create pseudonymized user lookup table\n",
    "# Method: Hashing\n",
    "@dlt.table\n",
    "def user_lookup_hashed():\n",
    "    return (dlt\n",
    "            .read_stream(\"registered_users\")\n",
    "            .select(\n",
    "                  salted_hash(F.col(\"user_id\")).alias(\"alt_id\"),\n",
    "                  \"device_id\", \"mac_address\", \"user_id\")\n",
    "           )"
   ]
  },
  {
   "cell_type": "markdown",
   "metadata": {
    "application/vnd.databricks.v1+cell": {
     "cellMetadata": {},
     "inputWidgets": {},
     "nuid": "9c0edf84-6c53-44f8-8cee-3bb0a82ceb5d",
     "showTitle": false,
     "tableResultSettingsMap": {},
     "title": ""
    }
   },
   "source": [
    "### C2. with Tokenization\n",
    "\n",
    "Lets first create a table that will hold the tokens for our users in **registered_token** table"
   ]
  },
  {
   "cell_type": "code",
   "execution_count": 0,
   "metadata": {
    "application/vnd.databricks.v1+cell": {
     "cellMetadata": {},
     "inputWidgets": {},
     "nuid": "9be22026-056c-48a0-b552-5d14ee8bbdb8",
     "showTitle": false,
     "tableResultSettingsMap": {},
     "title": ""
    }
   },
   "outputs": [],
   "source": [
    "@dlt.table\n",
    "def registered_users_tokens():\n",
    "    return (dlt\n",
    "            .readStream(\"registered_users\")\n",
    "            .select(\"user_id\")\n",
    "            .distinct()\n",
    "            .withColumn(\"token\", F.expr(\"uuid()\"))\n",
    "        )"
   ]
  },
  {
   "cell_type": "markdown",
   "metadata": {
    "application/vnd.databricks.v1+cell": {
     "cellMetadata": {},
     "inputWidgets": {},
     "nuid": "f556abcd-29c8-4d5a-bf75-39e9193906f7",
     "showTitle": false,
     "tableResultSettingsMap": {},
     "title": ""
    }
   },
   "source": [
    "\n",
    "Now lets create the table **user_lookup_tokenized** using the **registered_users_tokens** and have a join to include the new tokenized column as **alt_id**.\n"
   ]
  },
  {
   "cell_type": "code",
   "execution_count": 0,
   "metadata": {
    "application/vnd.databricks.v1+cell": {
     "cellMetadata": {},
     "inputWidgets": {},
     "nuid": "9733698d-73f1-461d-adc6-9fd5ed7f75ad",
     "showTitle": false,
     "tableResultSettingsMap": {},
     "title": ""
    }
   },
   "outputs": [],
   "source": [
    "# Create pseudonymized user lookup table\n",
    "# Method: Tokenization\n",
    "@dlt.table\n",
    "def user_lookup_tokenized():\n",
    "    return (dlt\n",
    "            .read_stream(\"registered_users\")\n",
    "            .join(dlt.read(\"registered_users_tokens\"), \"user_id\", \"left\")\n",
    "            .drop(\"user_id\")\n",
    "            .withColumnRenamed(\"token\", \"alt_id\")\n",
    "           )"
   ]
  },
  {
   "cell_type": "markdown",
   "metadata": {
    "application/vnd.databricks.v1+cell": {
     "cellMetadata": {},
     "inputWidgets": {},
     "nuid": "93aa6d88-dd67-4989-8844-a0a2f24c0f1e",
     "showTitle": false,
     "tableResultSettingsMap": {},
     "title": ""
    }
   },
   "source": [
    "\n",
    "&copy; 2025 Databricks, Inc. All rights reserved. Apache, Apache Spark, Spark, the Spark Logo, Apache Iceberg, Iceberg, and the Apache Iceberg logo are trademarks of the <a href=\"https://www.apache.org/\" target=\"blank\">Apache Software Foundation</a>.<br/>\n",
    "<br/><a href=\"https://databricks.com/privacy-policy\" target=\"blank\">Privacy Policy</a> | \n",
    "<a href=\"https://databricks.com/terms-of-use\" target=\"blank\">Terms of Use</a> | \n",
    "<a href=\"https://help.databricks.com/\" target=\"blank\">Support</a>\n"
   ]
  }
 ],
 "metadata": {
  "application/vnd.databricks.v1+notebook": {
   "computePreferences": null,
   "dashboards": [],
   "environmentMetadata": null,
   "inputWidgetPreferences": null,
   "language": "python",
   "notebookMetadata": {
    "pythonIndentUnit": 4
   },
   "notebookName": "DP 1.2.1 - Pseudonymized PII Lookup Table",
   "widgets": {}
  },
  "language_info": {
   "name": "python"
  }
 },
 "nbformat": 4,
 "nbformat_minor": 0
}